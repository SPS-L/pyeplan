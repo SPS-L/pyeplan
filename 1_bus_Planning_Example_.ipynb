{
  "cells": [
    {
      "cell_type": "code",
      "execution_count": null,
      "id": "ca99cd53",
      "metadata": {
        "id": "ca99cd53"
      },
      "outputs": [],
      "source": [
        "import pandas as pd"
      ]
    },
    {
      "cell_type": "markdown",
      "id": "56c787cb",
      "metadata": {
        "id": "56c787cb"
      },
      "source": [
        "# Investment and Operation Planning Module"
      ]
    },
    {
      "cell_type": "markdown",
      "id": "f8c66b0f",
      "metadata": {
        "id": "f8c66b0f"
      },
      "source": [
        "This example considers a network of 5 nodes, with a load connected at each node. One representative day with with operational hours is used to describe the potential operational scenarios. Three types of investment candidate generators i.e, battery units, solar units and diesel generation units. We showcase how the Investment and Operation Planning Modules of PyEPLAN can be used to derive optimal units to be installed in the network."
      ]
    },
    {
      "cell_type": "markdown",
      "id": "4be2784f",
      "metadata": {
        "id": "4be2784f"
      },
      "source": [
        "## Importing the invesment and operation planning module from PyEPLAN "
      ]
    },
    {
      "cell_type": "code",
      "execution_count": null,
      "id": "7327825a",
      "metadata": {
        "id": "7327825a"
      },
      "outputs": [],
      "source": [
        "from pyeplan import inosys"
      ]
    },
    {
      "cell_type": "markdown",
      "id": "bb2b4dee",
      "metadata": {
        "id": "bb2b4dee"
      },
      "source": [
        "## Defining the input data"
      ]
    },
    {
      "cell_type": "markdown",
      "id": "fcbd02b5",
      "metadata": {
        "id": "fcbd02b5"
      },
      "source": [
        "The next step is to define the directory to the folder where the input data is located and define the reference node. The input data folder should consists of 'csv' files that contain data description of the load, newtork paramters and generation units as defined [here](https://pyeplan.sps-lab.org/user_guide/input.html#)."
      ]
    },
    {
      "cell_type": "code",
      "execution_count": null,
      "id": "376faa87",
      "metadata": {
        "id": "376faa87"
      },
      "outputs": [],
      "source": [
        "inosys = inosys('1_bus', ref_bus = 0, dshed_cost = 100, rshed_cost = 0, phase = 3, )"
      ]
    },
    {
      "cell_type": "markdown",
      "id": "e09119e1",
      "metadata": {
        "id": "e09119e1"
      },
      "source": [
        "Some of the data inputs include:"
      ]
    },
    {
      "cell_type": "markdown",
      "id": "8389db39",
      "metadata": {
        "id": "8389db39"
      },
      "source": [
        "### Defining the total load demand at each hour"
      ]
    },
    {
      "cell_type": "markdown",
      "id": "458e0262",
      "metadata": {
        "id": "458e0262"
      },
      "source": [
        "The total active power consumption at each of the three (3) hours for one (1) representative day is:"
      ]
    },
    {
      "cell_type": "code",
      "execution_count": null,
      "id": "476ff184",
      "metadata": {
        "id": "476ff184",
        "outputId": "f90b7b71-19f8-4710-a973-a634c1c4eadf"
      },
      "outputs": [
        {
          "data": {
            "text/html": [
              "<div>\n",
              "<style scoped>\n",
              "    .dataframe tbody tr th:only-of-type {\n",
              "        vertical-align: middle;\n",
              "    }\n",
              "\n",
              "    .dataframe tbody tr th {\n",
              "        vertical-align: top;\n",
              "    }\n",
              "\n",
              "    .dataframe thead th {\n",
              "        text-align: right;\n",
              "    }\n",
              "</style>\n",
              "<table border=\"1\" class=\"dataframe\">\n",
              "  <thead>\n",
              "    <tr style=\"text-align: right;\">\n",
              "      <th></th>\n",
              "      <th>0</th>\n",
              "    </tr>\n",
              "  </thead>\n",
              "  <tbody>\n",
              "    <tr>\n",
              "      <th>0</th>\n",
              "      <td>70</td>\n",
              "    </tr>\n",
              "  </tbody>\n",
              "</table>\n",
              "</div>"
            ],
            "text/plain": [
              "    0\n",
              "0  70"
            ]
          },
          "execution_count": 4,
          "metadata": {},
          "output_type": "execute_result"
        }
      ],
      "source": [
        "pd.read_csv(\"1_bus/prep_dist.csv\")"
      ]
    },
    {
      "cell_type": "markdown",
      "id": "52a00185",
      "metadata": {
        "id": "52a00185"
      },
      "source": [
        "### Defining the input investment candidates"
      ]
    },
    {
      "cell_type": "markdown",
      "id": "ddf7292c",
      "metadata": {
        "id": "ddf7292c"
      },
      "source": [
        "#### Battery Units"
      ]
    },
    {
      "cell_type": "code",
      "execution_count": null,
      "id": "67278fc2",
      "metadata": {
        "id": "67278fc2",
        "outputId": "03329e1f-c850-4b46-b02b-8583b1840eba"
      },
      "outputs": [
        {
          "data": {
            "text/html": [
              "<div>\n",
              "<style scoped>\n",
              "    .dataframe tbody tr th:only-of-type {\n",
              "        vertical-align: middle;\n",
              "    }\n",
              "\n",
              "    .dataframe tbody tr th {\n",
              "        vertical-align: top;\n",
              "    }\n",
              "\n",
              "    .dataframe thead th {\n",
              "        text-align: right;\n",
              "    }\n",
              "</style>\n",
              "<table border=\"1\" class=\"dataframe\">\n",
              "  <thead>\n",
              "    <tr style=\"text-align: right;\">\n",
              "      <th></th>\n",
              "      <th>bus</th>\n",
              "      <th>icost</th>\n",
              "      <th>ocost</th>\n",
              "      <th>scost</th>\n",
              "      <th>pmin</th>\n",
              "      <th>pmax</th>\n",
              "      <th>qmin</th>\n",
              "      <th>qmax</th>\n",
              "    </tr>\n",
              "  </thead>\n",
              "  <tbody>\n",
              "    <tr>\n",
              "      <th>0</th>\n",
              "      <td>0</td>\n",
              "      <td>186</td>\n",
              "      <td>0</td>\n",
              "      <td>0</td>\n",
              "      <td>0</td>\n",
              "      <td>50</td>\n",
              "      <td>0</td>\n",
              "      <td>0</td>\n",
              "    </tr>\n",
              "    <tr>\n",
              "      <th>1</th>\n",
              "      <td>0</td>\n",
              "      <td>186</td>\n",
              "      <td>0</td>\n",
              "      <td>0</td>\n",
              "      <td>0</td>\n",
              "      <td>50</td>\n",
              "      <td>0</td>\n",
              "      <td>0</td>\n",
              "    </tr>\n",
              "  </tbody>\n",
              "</table>\n",
              "</div>"
            ],
            "text/plain": [
              "   bus  icost  ocost  scost  pmin  pmax  qmin  qmax\n",
              "0    0    186      0      0     0    50     0     0\n",
              "1    0    186      0      0     0    50     0     0"
            ]
          },
          "execution_count": 5,
          "metadata": {},
          "output_type": "execute_result"
        }
      ],
      "source": [
        "pd.read_csv(\"1_bus/cwin_dist.csv\")"
      ]
    },
    {
      "cell_type": "markdown",
      "id": "f98f1361",
      "metadata": {
        "id": "f98f1361"
      },
      "source": [
        "#### Solar PV Units"
      ]
    },
    {
      "cell_type": "code",
      "execution_count": null,
      "id": "2a48e337",
      "metadata": {
        "id": "2a48e337",
        "outputId": "adcaf66b-6a7c-4409-f991-4844a6108588"
      },
      "outputs": [
        {
          "data": {
            "text/html": [
              "<div>\n",
              "<style scoped>\n",
              "    .dataframe tbody tr th:only-of-type {\n",
              "        vertical-align: middle;\n",
              "    }\n",
              "\n",
              "    .dataframe tbody tr th {\n",
              "        vertical-align: top;\n",
              "    }\n",
              "\n",
              "    .dataframe thead th {\n",
              "        text-align: right;\n",
              "    }\n",
              "</style>\n",
              "<table border=\"1\" class=\"dataframe\">\n",
              "  <thead>\n",
              "    <tr style=\"text-align: right;\">\n",
              "      <th></th>\n",
              "      <th>bus</th>\n",
              "      <th>icost</th>\n",
              "      <th>ocost</th>\n",
              "      <th>scost</th>\n",
              "      <th>pmin</th>\n",
              "      <th>pmax</th>\n",
              "      <th>qmin</th>\n",
              "      <th>qmax</th>\n",
              "    </tr>\n",
              "  </thead>\n",
              "  <tbody>\n",
              "    <tr>\n",
              "      <th>0</th>\n",
              "      <td>0</td>\n",
              "      <td>109</td>\n",
              "      <td>0</td>\n",
              "      <td>0</td>\n",
              "      <td>0</td>\n",
              "      <td>50</td>\n",
              "      <td>0</td>\n",
              "      <td>0</td>\n",
              "    </tr>\n",
              "    <tr>\n",
              "      <th>1</th>\n",
              "      <td>0</td>\n",
              "      <td>109</td>\n",
              "      <td>0</td>\n",
              "      <td>0</td>\n",
              "      <td>0</td>\n",
              "      <td>50</td>\n",
              "      <td>0</td>\n",
              "      <td>0</td>\n",
              "    </tr>\n",
              "  </tbody>\n",
              "</table>\n",
              "</div>"
            ],
            "text/plain": [
              "   bus  icost  ocost  scost  pmin  pmax  qmin  qmax\n",
              "0    0    109      0      0     0    50     0     0\n",
              "1    0    109      0      0     0    50     0     0"
            ]
          },
          "execution_count": 6,
          "metadata": {},
          "output_type": "execute_result"
        }
      ],
      "source": [
        "pd.read_csv(\"1_bus/csol_dist.csv\")"
      ]
    },
    {
      "cell_type": "markdown",
      "id": "aef80464",
      "metadata": {
        "id": "aef80464"
      },
      "source": [
        "#### Diesel/Fossil Units"
      ]
    },
    {
      "cell_type": "code",
      "execution_count": null,
      "id": "d9e6becc",
      "metadata": {
        "id": "d9e6becc",
        "outputId": "e09384d8-1d22-4627-fbc9-383e1205ff0f"
      },
      "outputs": [
        {
          "data": {
            "text/html": [
              "<div>\n",
              "<style scoped>\n",
              "    .dataframe tbody tr th:only-of-type {\n",
              "        vertical-align: middle;\n",
              "    }\n",
              "\n",
              "    .dataframe tbody tr th {\n",
              "        vertical-align: top;\n",
              "    }\n",
              "\n",
              "    .dataframe thead th {\n",
              "        text-align: right;\n",
              "    }\n",
              "</style>\n",
              "<table border=\"1\" class=\"dataframe\">\n",
              "  <thead>\n",
              "    <tr style=\"text-align: right;\">\n",
              "      <th></th>\n",
              "      <th>bus</th>\n",
              "      <th>icost</th>\n",
              "      <th>ocost</th>\n",
              "      <th>scost</th>\n",
              "      <th>pmin</th>\n",
              "      <th>pmax</th>\n",
              "      <th>qmin</th>\n",
              "      <th>qmax</th>\n",
              "      <th>hr</th>\n",
              "    </tr>\n",
              "  </thead>\n",
              "  <tbody>\n",
              "    <tr>\n",
              "      <th>0</th>\n",
              "      <td>0</td>\n",
              "      <td>12</td>\n",
              "      <td>0.4</td>\n",
              "      <td>0</td>\n",
              "      <td>0</td>\n",
              "      <td>50</td>\n",
              "      <td>0</td>\n",
              "      <td>0</td>\n",
              "      <td>NaN</td>\n",
              "    </tr>\n",
              "    <tr>\n",
              "      <th>1</th>\n",
              "      <td>0</td>\n",
              "      <td>12</td>\n",
              "      <td>0.4</td>\n",
              "      <td>0</td>\n",
              "      <td>0</td>\n",
              "      <td>50</td>\n",
              "      <td>0</td>\n",
              "      <td>0</td>\n",
              "      <td>NaN</td>\n",
              "    </tr>\n",
              "  </tbody>\n",
              "</table>\n",
              "</div>"
            ],
            "text/plain": [
              "   bus  icost  ocost  scost  pmin  pmax  qmin  qmax  hr\n",
              "0    0     12    0.4      0     0    50     0     0 NaN\n",
              "1    0     12    0.4      0     0    50     0     0 NaN"
            ]
          },
          "execution_count": 7,
          "metadata": {},
          "output_type": "execute_result"
        }
      ],
      "source": [
        "pd.read_csv(\"1_bus/cgen_dist.csv\")"
      ]
    },
    {
      "cell_type": "markdown",
      "id": "53240323",
      "metadata": {
        "id": "53240323"
      },
      "source": [
        "## Solving the optimization problem"
      ]
    },
    {
      "cell_type": "markdown",
      "id": "b783abfa",
      "metadata": {
        "id": "b783abfa"
      },
      "source": [
        "PyEPLAN can be used to solve the problem investment and operation planning problems simultaneously. In case no investment candidates are availble, a sole operation planning problem can be run by setting input 'onlyopr = True'. Available solvers inclde both open source solvers include glpk, cbc, and commercial solvers ipopt, gurobi given one has the required licences. If discrete capacities of investment units are available the input 'invest = True' this sets the investement-related decision variables to a binary nature where the unit capacity = nominal. Otherwise,  'invest = False' sets the investement-related decision variables to a continuous nature where the unit capacity <= nominal."
      ]
    },
    {
      "cell_type": "code",
      "execution_count": null,
      "id": "04b2ff0a",
      "metadata": {
        "id": "04b2ff0a",
        "outputId": "44cdeb69-dcbb-47d5-81e2-38a858443cd7"
      },
      "outputs": [
        {
          "name": "stdout",
          "output_type": "stream",
          "text": [
            "GLPSOL--GLPK LP/MIP Solver 5.0\n",
            "Parameter(s) specified in the command line:\n",
            " --write C:\\Users\\BLESSI~1\\AppData\\Local\\Temp\\tmpzw_rtsm4.glpk.raw --wglp\n",
            " C:\\Users\\BLESSI~1\\AppData\\Local\\Temp\\tmpwvpxx5sa.glpk.glp --cpxlp C:\\Users\\BLESSI~1\\AppData\\Local\\Temp\\tmp99e21yty.pyomo.lp\n",
            "Reading problem data from 'C:\\Users\\BLESSI~1\\AppData\\Local\\Temp\\tmp99e21yty.pyomo.lp'...\n",
            "C:\\Users\\BLESSI~1\\AppData\\Local\\Temp\\tmp99e21yty.pyomo.lp:252: warning: lower bound of variable 'xg(0)' redefined\n",
            "C:\\Users\\BLESSI~1\\AppData\\Local\\Temp\\tmp99e21yty.pyomo.lp:252: warning: upper bound of variable 'xg(0)' redefined\n",
            "42 rows, 31 columns, 85 non-zeros\n",
            "6 integer variables, all of which are binary\n",
            "258 lines were read\n",
            "Writing problem data to 'C:\\Users\\BLESSI~1\\AppData\\Local\\Temp\\tmpwvpxx5sa.glpk.glp'...\n",
            "221 lines were written\n",
            "GLPK Integer Optimizer 5.0\n",
            "42 rows, 31 columns, 85 non-zeros\n",
            "6 integer variables, all of which are binary\n",
            "Preprocessing...\n",
            "11 rows, 16 columns, 34 non-zeros\n",
            "6 integer variables, all of which are binary\n",
            "Scaling...\n",
            " A: min|aij| =  3.333e-01  max|aij| =  5.000e+01  ratio =  1.500e+02\n",
            "GM: min|aij| =  7.275e-01  max|aij| =  1.375e+00  ratio =  1.890e+00\n",
            "EQ: min|aij| =  5.407e-01  max|aij| =  1.000e+00  ratio =  1.849e+00\n",
            "2N: min|aij| =  5.000e-01  max|aij| =  1.333e+00  ratio =  2.667e+00\n",
            "Constructing initial basis...\n",
            "Size of triangular part is 11\n",
            "Solving LP relaxation...\n",
            "GLPK Simplex Optimizer 5.0\n",
            "11 rows, 16 columns, 34 non-zeros\n",
            "*     0: obj =   2.555000000e+06 inf =   0.000e+00 (6)\n",
            "*    10: obj =   9.537500000e+03 inf =   0.000e+00 (0)\n",
            "OPTIMAL LP SOLUTION FOUND\n",
            "Integer optimization begins...\n",
            "Long-step dual simplex will be used\n",
            "+    10: mip =     not found yet >=              -inf        (1; 0)\n",
            "+    14: >>>>>   1.043000000e+04 >=   1.019000000e+04   2.3% (5; 0)\n",
            "+    16: mip =   1.043000000e+04 >=     tree is empty   0.0% (0; 9)\n",
            "INTEGER OPTIMAL SOLUTION FOUND\n",
            "Time used:   0.0 secs\n",
            "Memory used: 0.1 Mb (78694 bytes)\n",
            "Writing MIP solution to 'C:\\Users\\BLESSI~1\\AppData\\Local\\Temp\\tmpzw_rtsm4.glpk.raw'...\n",
            "82 lines were written\n"
          ]
        }
      ],
      "source": [
        "inosys.solve(solver = 'glpk', onlyopr = False, invest = True, )"
      ]
    },
    {
      "cell_type": "markdown",
      "id": "9257c25d",
      "metadata": {
        "id": "9257c25d"
      },
      "source": [
        "## Results"
      ]
    },
    {
      "cell_type": "markdown",
      "id": "b114de27",
      "metadata": {
        "id": "b114de27"
      },
      "source": [
        "A folder named 'results' will be created with the output of the optimal solution to the planning problem. The different result files are defined [here](https://pyeplan.sps-lab.org/user_guide/output.html). Below we show the capital costs and operational costs obtained to satify the load in the 5-bus network."
      ]
    },
    {
      "cell_type": "markdown",
      "id": "4a3b4d1e",
      "metadata": {
        "id": "4a3b4d1e"
      },
      "source": [
        "### Total Investment and Operational Costs"
      ]
    },
    {
      "cell_type": "code",
      "execution_count": null,
      "id": "b92cbcc5",
      "metadata": {
        "id": "b92cbcc5",
        "outputId": "11d99013-d156-4c53-cca2-467dc5908952"
      },
      "outputs": [
        {
          "data": {
            "text/html": [
              "<div>\n",
              "<style scoped>\n",
              "    .dataframe tbody tr th:only-of-type {\n",
              "        vertical-align: middle;\n",
              "    }\n",
              "\n",
              "    .dataframe tbody tr th {\n",
              "        vertical-align: top;\n",
              "    }\n",
              "\n",
              "    .dataframe thead th {\n",
              "        text-align: right;\n",
              "    }\n",
              "</style>\n",
              "<table border=\"1\" class=\"dataframe\">\n",
              "  <thead>\n",
              "    <tr style=\"text-align: right;\">\n",
              "      <th></th>\n",
              "      <th>total costs</th>\n",
              "      <th>10430.0</th>\n",
              "    </tr>\n",
              "  </thead>\n",
              "  <tbody>\n",
              "    <tr>\n",
              "      <th>0</th>\n",
              "      <td>total investment costs</td>\n",
              "      <td>6050.0</td>\n",
              "    </tr>\n",
              "    <tr>\n",
              "      <th>1</th>\n",
              "      <td>total operation costs</td>\n",
              "      <td>4380.0</td>\n",
              "    </tr>\n",
              "  </tbody>\n",
              "</table>\n",
              "</div>"
            ],
            "text/plain": [
              "              total costs  10430.0\n",
              "0  total investment costs   6050.0\n",
              "1   total operation costs   4380.0"
            ]
          },
          "execution_count": 9,
          "metadata": {},
          "output_type": "execute_result"
        }
      ],
      "source": [
        "pd.read_csv(\"1_bus/results/obj.csv\")"
      ]
    },
    {
      "cell_type": "markdown",
      "id": "d1eb09d0",
      "metadata": {
        "id": "d1eb09d0"
      },
      "source": [
        "### Number and capacity of wind units installed"
      ]
    },
    {
      "cell_type": "code",
      "execution_count": null,
      "id": "010926a1",
      "metadata": {
        "id": "010926a1",
        "outputId": "1d0ee1d4-0cbe-4c75-d67f-b9ef383e037c"
      },
      "outputs": [
        {
          "data": {
            "text/html": [
              "<div>\n",
              "<style scoped>\n",
              "    .dataframe tbody tr th:only-of-type {\n",
              "        vertical-align: middle;\n",
              "    }\n",
              "\n",
              "    .dataframe tbody tr th {\n",
              "        vertical-align: top;\n",
              "    }\n",
              "\n",
              "    .dataframe thead th {\n",
              "        text-align: right;\n",
              "    }\n",
              "</style>\n",
              "<table border=\"1\" class=\"dataframe\">\n",
              "  <thead>\n",
              "    <tr style=\"text-align: right;\">\n",
              "      <th></th>\n",
              "      <th>0</th>\n",
              "      <th>1</th>\n",
              "    </tr>\n",
              "  </thead>\n",
              "  <tbody>\n",
              "    <tr>\n",
              "      <th>0</th>\n",
              "      <td>0.0</td>\n",
              "      <td>0.0</td>\n",
              "    </tr>\n",
              "  </tbody>\n",
              "</table>\n",
              "</div>"
            ],
            "text/plain": [
              "     0    1\n",
              "0  0.0  0.0"
            ]
          },
          "execution_count": 10,
          "metadata": {},
          "output_type": "execute_result"
        }
      ],
      "source": [
        "pd.read_csv(\"1_bus/results/xw.csv\")"
      ]
    },
    {
      "cell_type": "markdown",
      "id": "bcd7228e",
      "metadata": {
        "id": "bcd7228e"
      },
      "source": [
        "The capacity and location of wind units installed is:"
      ]
    },
    {
      "cell_type": "code",
      "execution_count": null,
      "id": "d233c446",
      "metadata": {
        "hide_input": true,
        "id": "d233c446",
        "outputId": "13c128c7-4e14-4c7e-8c32-1e275ce396f9"
      },
      "outputs": [
        {
          "data": {
            "text/html": [
              "<div>\n",
              "<style scoped>\n",
              "    .dataframe tbody tr th:only-of-type {\n",
              "        vertical-align: middle;\n",
              "    }\n",
              "\n",
              "    .dataframe tbody tr th {\n",
              "        vertical-align: top;\n",
              "    }\n",
              "\n",
              "    .dataframe thead th {\n",
              "        text-align: right;\n",
              "    }\n",
              "</style>\n",
              "<table border=\"1\" class=\"dataframe\">\n",
              "  <thead>\n",
              "    <tr style=\"text-align: right;\">\n",
              "      <th></th>\n",
              "      <th>Installed Capacity (kW)</th>\n",
              "    </tr>\n",
              "    <tr>\n",
              "      <th>bus</th>\n",
              "      <th></th>\n",
              "    </tr>\n",
              "  </thead>\n",
              "  <tbody>\n",
              "    <tr>\n",
              "      <th>0</th>\n",
              "      <td>0.0</td>\n",
              "    </tr>\n",
              "    <tr>\n",
              "      <th>0</th>\n",
              "      <td>0.0</td>\n",
              "    </tr>\n",
              "  </tbody>\n",
              "</table>\n",
              "</div>"
            ],
            "text/plain": [
              "     Installed Capacity (kW)\n",
              "bus                         \n",
              "0                        0.0\n",
              "0                        0.0"
            ]
          },
          "execution_count": 11,
          "metadata": {},
          "output_type": "execute_result"
        }
      ],
      "source": [
        "cwin = pd.read_csv(\"1_bus/cwin_dist.csv\")\n",
        "iwin = pd.read_csv(\"1_bus/results/xw.csv\")\n",
        "bus = cwin.loc[:,'bus']\n",
        "(((cwin.loc[:,'pmax']*round(iwin.loc[0:,].T,2))[0]).to_frame().set_index(bus)).rename(columns={0: 'Installed Capacity (kW)'})"
      ]
    },
    {
      "cell_type": "markdown",
      "id": "cced6bd4",
      "metadata": {
        "id": "cced6bd4"
      },
      "source": [
        "### Number and capacity of solar units installed"
      ]
    },
    {
      "cell_type": "code",
      "execution_count": null,
      "id": "fe8b6982",
      "metadata": {
        "id": "fe8b6982",
        "outputId": "3e14b0d9-302c-465f-fb69-c9fababa88f3"
      },
      "outputs": [
        {
          "data": {
            "text/html": [
              "<div>\n",
              "<style scoped>\n",
              "    .dataframe tbody tr th:only-of-type {\n",
              "        vertical-align: middle;\n",
              "    }\n",
              "\n",
              "    .dataframe tbody tr th {\n",
              "        vertical-align: top;\n",
              "    }\n",
              "\n",
              "    .dataframe thead th {\n",
              "        text-align: right;\n",
              "    }\n",
              "</style>\n",
              "<table border=\"1\" class=\"dataframe\">\n",
              "  <thead>\n",
              "    <tr style=\"text-align: right;\">\n",
              "      <th></th>\n",
              "      <th>0</th>\n",
              "      <th>1</th>\n",
              "    </tr>\n",
              "  </thead>\n",
              "  <tbody>\n",
              "    <tr>\n",
              "      <th>0</th>\n",
              "      <td>1.0</td>\n",
              "      <td>0.0</td>\n",
              "    </tr>\n",
              "  </tbody>\n",
              "</table>\n",
              "</div>"
            ],
            "text/plain": [
              "     0    1\n",
              "0  1.0  0.0"
            ]
          },
          "execution_count": 12,
          "metadata": {},
          "output_type": "execute_result"
        }
      ],
      "source": [
        "pd.read_csv(\"1_bus/results/xs.csv\")"
      ]
    },
    {
      "cell_type": "markdown",
      "id": "e818a8d9",
      "metadata": {
        "id": "e818a8d9"
      },
      "source": [
        "The capacity and location of solar units installed is:"
      ]
    },
    {
      "cell_type": "code",
      "execution_count": null,
      "id": "fd427472",
      "metadata": {
        "id": "fd427472",
        "outputId": "b6938895-330f-4670-cc7e-0b08b72d1c6b"
      },
      "outputs": [
        {
          "data": {
            "text/html": [
              "<div>\n",
              "<style scoped>\n",
              "    .dataframe tbody tr th:only-of-type {\n",
              "        vertical-align: middle;\n",
              "    }\n",
              "\n",
              "    .dataframe tbody tr th {\n",
              "        vertical-align: top;\n",
              "    }\n",
              "\n",
              "    .dataframe thead th {\n",
              "        text-align: right;\n",
              "    }\n",
              "</style>\n",
              "<table border=\"1\" class=\"dataframe\">\n",
              "  <thead>\n",
              "    <tr style=\"text-align: right;\">\n",
              "      <th></th>\n",
              "      <th>Installed Capacity (kW)</th>\n",
              "    </tr>\n",
              "    <tr>\n",
              "      <th>bus</th>\n",
              "      <th></th>\n",
              "    </tr>\n",
              "  </thead>\n",
              "  <tbody>\n",
              "    <tr>\n",
              "      <th>0</th>\n",
              "      <td>50.0</td>\n",
              "    </tr>\n",
              "    <tr>\n",
              "      <th>0</th>\n",
              "      <td>0.0</td>\n",
              "    </tr>\n",
              "  </tbody>\n",
              "</table>\n",
              "</div>"
            ],
            "text/plain": [
              "     Installed Capacity (kW)\n",
              "bus                         \n",
              "0                       50.0\n",
              "0                        0.0"
            ]
          },
          "execution_count": 13,
          "metadata": {},
          "output_type": "execute_result"
        }
      ],
      "source": [
        "csol = pd.read_csv(\"1_bus/csol_dist.csv\")\n",
        "isol = pd.read_csv(\"1_bus/results/xs.csv\")\n",
        "bus = csol.loc[:,'bus']\n",
        "(((csol.loc[:,'pmax']*round(isol.loc[0:,].T,2))[0]).to_frame().set_index(bus)).rename(columns={0: 'Installed Capacity (kW)'})"
      ]
    },
    {
      "cell_type": "markdown",
      "id": "2b881701",
      "metadata": {
        "id": "2b881701"
      },
      "source": [
        "### Number and capacity of diesel units installed"
      ]
    },
    {
      "cell_type": "code",
      "execution_count": null,
      "id": "8ec3b1d4",
      "metadata": {
        "id": "8ec3b1d4",
        "outputId": "50122505-5c52-4837-983c-9b14a6fb5cd5"
      },
      "outputs": [
        {
          "data": {
            "text/html": [
              "<div>\n",
              "<style scoped>\n",
              "    .dataframe tbody tr th:only-of-type {\n",
              "        vertical-align: middle;\n",
              "    }\n",
              "\n",
              "    .dataframe tbody tr th {\n",
              "        vertical-align: top;\n",
              "    }\n",
              "\n",
              "    .dataframe thead th {\n",
              "        text-align: right;\n",
              "    }\n",
              "</style>\n",
              "<table border=\"1\" class=\"dataframe\">\n",
              "  <thead>\n",
              "    <tr style=\"text-align: right;\">\n",
              "      <th></th>\n",
              "      <th>0</th>\n",
              "      <th>1</th>\n",
              "    </tr>\n",
              "  </thead>\n",
              "  <tbody>\n",
              "    <tr>\n",
              "      <th>0</th>\n",
              "      <td>1.0</td>\n",
              "      <td>0.0</td>\n",
              "    </tr>\n",
              "  </tbody>\n",
              "</table>\n",
              "</div>"
            ],
            "text/plain": [
              "     0    1\n",
              "0  1.0  0.0"
            ]
          },
          "execution_count": 14,
          "metadata": {},
          "output_type": "execute_result"
        }
      ],
      "source": [
        "pd.read_csv(\"1_bus/results/xg.csv\")"
      ]
    },
    {
      "cell_type": "markdown",
      "id": "18d48505",
      "metadata": {
        "id": "18d48505"
      },
      "source": [
        "The capacity and location of diesel units installed is:"
      ]
    },
    {
      "cell_type": "code",
      "execution_count": null,
      "id": "76379d56",
      "metadata": {
        "id": "76379d56",
        "outputId": "7b413f3b-6acf-4459-ce75-fa916be99e7c"
      },
      "outputs": [
        {
          "data": {
            "text/html": [
              "<div>\n",
              "<style scoped>\n",
              "    .dataframe tbody tr th:only-of-type {\n",
              "        vertical-align: middle;\n",
              "    }\n",
              "\n",
              "    .dataframe tbody tr th {\n",
              "        vertical-align: top;\n",
              "    }\n",
              "\n",
              "    .dataframe thead th {\n",
              "        text-align: right;\n",
              "    }\n",
              "</style>\n",
              "<table border=\"1\" class=\"dataframe\">\n",
              "  <thead>\n",
              "    <tr style=\"text-align: right;\">\n",
              "      <th></th>\n",
              "      <th>Installed Capacity (kW)</th>\n",
              "    </tr>\n",
              "    <tr>\n",
              "      <th>bus</th>\n",
              "      <th></th>\n",
              "    </tr>\n",
              "  </thead>\n",
              "  <tbody>\n",
              "    <tr>\n",
              "      <th>0</th>\n",
              "      <td>50.0</td>\n",
              "    </tr>\n",
              "    <tr>\n",
              "      <th>0</th>\n",
              "      <td>0.0</td>\n",
              "    </tr>\n",
              "  </tbody>\n",
              "</table>\n",
              "</div>"
            ],
            "text/plain": [
              "     Installed Capacity (kW)\n",
              "bus                         \n",
              "0                       50.0\n",
              "0                        0.0"
            ]
          },
          "execution_count": 15,
          "metadata": {},
          "output_type": "execute_result"
        }
      ],
      "source": [
        "cgen = pd.read_csv(\"1_bus/cgen_dist.csv\")\n",
        "igen = pd.read_csv(\"1_bus/results/xg.csv\")\n",
        "bus = cgen.loc[:,'bus']\n",
        "(((cgen.loc[:,'pmax']*round(igen.loc[0:,].T,2))[0]).to_frame().set_index(bus)).rename(columns={0: 'Installed Capacity (kW)'})"
      ]
    },
    {
      "cell_type": "markdown",
      "id": "5f299d31",
      "metadata": {
        "id": "5f299d31"
      },
      "source": [
        "### Amount of load curtailed"
      ]
    },
    {
      "cell_type": "markdown",
      "id": "9a1b8ac5",
      "metadata": {
        "id": "9a1b8ac5"
      },
      "source": [
        "The level of load demand that has been curtailed at each node is:"
      ]
    },
    {
      "cell_type": "code",
      "execution_count": null,
      "id": "ac87ab6d",
      "metadata": {
        "id": "ac87ab6d",
        "outputId": "450abe08-e5bf-454b-b62c-112dd45392f3"
      },
      "outputs": [
        {
          "data": {
            "text/html": [
              "<div>\n",
              "<style scoped>\n",
              "    .dataframe tbody tr th:only-of-type {\n",
              "        vertical-align: middle;\n",
              "    }\n",
              "\n",
              "    .dataframe tbody tr th {\n",
              "        vertical-align: top;\n",
              "    }\n",
              "\n",
              "    .dataframe thead th {\n",
              "        text-align: right;\n",
              "    }\n",
              "</style>\n",
              "<table border=\"1\" class=\"dataframe\">\n",
              "  <thead>\n",
              "    <tr style=\"text-align: right;\">\n",
              "      <th></th>\n",
              "      <th>0</th>\n",
              "    </tr>\n",
              "  </thead>\n",
              "  <tbody>\n",
              "    <tr>\n",
              "      <th>0</th>\n",
              "      <td>0.0</td>\n",
              "    </tr>\n",
              "  </tbody>\n",
              "</table>\n",
              "</div>"
            ],
            "text/plain": [
              "     0\n",
              "0  0.0"
            ]
          },
          "execution_count": 16,
          "metadata": {},
          "output_type": "execute_result"
        }
      ],
      "source": [
        "pd.read_csv(\"1_bus/results/pds.csv\")"
      ]
    },
    {
      "cell_type": "code",
      "execution_count": null,
      "id": "a8e2be5a",
      "metadata": {
        "id": "a8e2be5a"
      },
      "outputs": [],
      "source": [
        ""
      ]
    }
  ],
  "metadata": {
    "celltoolbar": "Raw Cell Format",
    "kernelspec": {
      "display_name": "Python 3 (ipykernel)",
      "language": "python",
      "name": "python3"
    },
    "language_info": {
      "codemirror_mode": {
        "name": "ipython",
        "version": 3
      },
      "file_extension": ".py",
      "mimetype": "text/x-python",
      "name": "python",
      "nbconvert_exporter": "python",
      "pygments_lexer": "ipython3",
      "version": "3.9.7"
    },
    "colab": {
      "name": "1-bus Planning Example .ipynb",
      "provenance": []
    }
  },
  "nbformat": 4,
  "nbformat_minor": 5
}