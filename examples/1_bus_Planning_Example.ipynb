{
  "cells": [
    {
      "cell_type": "markdown",
      "metadata": {
        "colab_type": "text",
        "id": "view-in-github"
      },
      "source": [
        "<a href=\"https://colab.research.google.com/github/SPS-L/pyeplan/blob/master/examples/1_bus_Planning_Example.ipynb\" target=\"_parent\"><img src=\"https://colab.research.google.com/assets/colab-badge.svg\" alt=\"Open In Colab\"/></a>"
      ]
    },
    {
      "cell_type": "markdown",
      "id": "56c787cb",
      "metadata": {
        "id": "56c787cb"
      },
      "source": [
        "# Illustrative example for optimizing investment and operation of a single household\n",
        "\n",
        "## Introduction"
      ]
    },
    {
      "cell_type": "markdown",
      "id": "f8c66b0f",
      "metadata": {
        "id": "f8c66b0f"
      },
      "source": [
        "This example considers a single household and uses PyEPLAN to deside on the necessary generators that need to be installed to cover the load.\n",
        "\n",
        "![Single Household](https://raw.githubusercontent.com/SPS-L/pyeplan/master/examples/1_bus.png)\n",
        "\n"
      ]
    },
    {
      "cell_type": "markdown",
      "id": "34232da0",
      "metadata": {},
      "source": [
        "This example is designed to be run on Google Colab. If this is the first time you use Colab, please take a 3-minute break and check out [this video](https://youtu.be/inN8seMm7UI).\n",
        "\n",
        "To get a quickstart, you can simply click on \"Runtime->Run all\" and accept the prompt. This will execute the entire notebook and you can read through it like a report."
      ]
    },
    {
      "cell_type": "markdown",
      "id": "ddc8a60a",
      "metadata": {},
      "source": [
        "## Preparing the platform to execute the code\n",
        "\n",
        "These commands make sure to remove any files remaining from previous executions."
      ]
    },
    {
      "cell_type": "code",
      "execution_count": null,
      "id": "LmN9F7OitmXk",
      "metadata": {
        "colab": {
          "base_uri": "https://localhost:8080/"
        },
        "id": "LmN9F7OitmXk",
        "outputId": "9a759c93-1264-44a7-9309-f134ba412d00"
      },
      "outputs": [],
      "source": [
        "!rm -rf sample_data\n",
        "!rm -rf 1_bus"
      ]
    },
    {
      "cell_type": "markdown",
      "id": "100ebf71",
      "metadata": {},
      "source": [
        "The following command installs SVN and copies the project files from Github to Colab for execution."
      ]
    },
    {
      "cell_type": "code",
      "execution_count": null,
      "id": "10rAjYDiuN35",
      "metadata": {
        "colab": {
          "base_uri": "https://localhost:8080/"
        },
        "id": "10rAjYDiuN35",
        "outputId": "614454c8-17f9-46a9-c676-09679d7abb6f"
      },
      "outputs": [],
      "source": [
        "!apt-get -qq -y install subversion\n",
        "!svn export https://github.com/SPS-L/pyeplan/trunk/examples/1_bus"
      ]
    },
    {
      "cell_type": "markdown",
      "id": "1ab07d5c",
      "metadata": {},
      "source": [
        "The following command installs the necessary optimization solver for pyeplan to use."
      ]
    },
    {
      "cell_type": "code",
      "execution_count": null,
      "id": "2XP__QMjuYsC",
      "metadata": {
        "colab": {
          "base_uri": "https://localhost:8080/"
        },
        "id": "2XP__QMjuYsC",
        "outputId": "6ee4f3f7-b975-41ab-e52f-f5350302cce9"
      },
      "outputs": [],
      "source": [
        "!apt-get -y -qq install glpk-utils"
      ]
    },
    {
      "cell_type": "markdown",
      "id": "16d1892b",
      "metadata": {},
      "source": [
        "The following command installs PyEPLAN."
      ]
    },
    {
      "cell_type": "code",
      "execution_count": null,
      "id": "JY8R_Q_xumgT",
      "metadata": {
        "colab": {
          "base_uri": "https://localhost:8080/"
        },
        "id": "JY8R_Q_xumgT",
        "outputId": "f5d55e0e-d8b1-4cba-9a22-f9edd449d590"
      },
      "outputs": [],
      "source": [
        "!pip install -q pyeplan==0.4.3"
      ]
    },
    {
      "cell_type": "markdown",
      "id": "3768c5ae",
      "metadata": {},
      "source": [
        "This command is only used during debugging. To be removed at the final stage."
      ]
    },
    {
      "cell_type": "code",
      "execution_count": null,
      "id": "7Xn1uRFOj_7V",
      "metadata": {
        "colab": {
          "base_uri": "https://localhost:8080/"
        },
        "id": "7Xn1uRFOj_7V",
        "outputId": "83f75229-d725-44d1-83fb-57b955268429"
      },
      "outputs": [],
      "source": [
        "!pip install git+https://github.com/SPS-L/pyeplan.git"
      ]
    },
    {
      "cell_type": "markdown",
      "id": "bb2b4dee",
      "metadata": {
        "id": "bb2b4dee"
      },
      "source": [
        "## Defining the input data"
      ]
    },
    {
      "cell_type": "markdown",
      "id": "fcbd02b5",
      "metadata": {
        "id": "fcbd02b5"
      },
      "source": [
        "The next step is to define the directory to the folder where the input data is located and define the reference node. The input data folder should consists of 'csv' files that contain data description of the load, newtork paramters and generation units as defined [here](https://pyeplan.sps-lab.org/user_guide/input.html#)."
      ]
    },
    {
      "cell_type": "markdown",
      "id": "8389db39",
      "metadata": {
        "id": "8389db39"
      },
      "source": [
        "### Defining the total load demand at each hour"
      ]
    },
    {
      "cell_type": "markdown",
      "id": "458e0262",
      "metadata": {
        "id": "458e0262"
      },
      "source": [
        "The total active power consumption at each of the three (3) hours for one (1) representative day is:"
      ]
    },
    {
      "cell_type": "code",
      "execution_count": null,
      "id": "476ff184",
      "metadata": {
        "colab": {
          "base_uri": "https://localhost:8080/",
          "height": 81
        },
        "id": "476ff184",
        "outputId": "ccc1e769-0be3-4f10-ca97-ab272e6f0dbb"
      },
      "outputs": [],
      "source": [
        "import pandas as pd\n",
        "pd.read_csv(\"1_bus/prep_dist.csv\")"
      ]
    },
    {
      "cell_type": "markdown",
      "id": "52a00185",
      "metadata": {
        "id": "52a00185"
      },
      "source": [
        "### Defining the input investment candidates"
      ]
    },
    {
      "cell_type": "markdown",
      "id": "ddf7292c",
      "metadata": {
        "id": "ddf7292c"
      },
      "source": [
        "#### Wind turbine"
      ]
    },
    {
      "cell_type": "code",
      "execution_count": null,
      "id": "67278fc2",
      "metadata": {
        "colab": {
          "base_uri": "https://localhost:8080/",
          "height": 112
        },
        "id": "67278fc2",
        "outputId": "3c0c476a-6733-46ef-9821-d27e54e1ab94"
      },
      "outputs": [],
      "source": [
        "pd.read_csv(\"1_bus/cwin_dist.csv\")"
      ]
    },
    {
      "cell_type": "markdown",
      "id": "f98f1361",
      "metadata": {
        "id": "f98f1361"
      },
      "source": [
        "#### Solar PV"
      ]
    },
    {
      "cell_type": "code",
      "execution_count": null,
      "id": "2a48e337",
      "metadata": {
        "colab": {
          "base_uri": "https://localhost:8080/",
          "height": 112
        },
        "id": "2a48e337",
        "outputId": "2162b397-9e70-468c-a420-5ec15b4b5fba"
      },
      "outputs": [],
      "source": [
        "pd.read_csv(\"1_bus/csol_dist.csv\")"
      ]
    },
    {
      "cell_type": "markdown",
      "id": "aef80464",
      "metadata": {
        "id": "aef80464"
      },
      "source": [
        "#### Diesel genset"
      ]
    },
    {
      "cell_type": "code",
      "execution_count": null,
      "id": "d9e6becc",
      "metadata": {
        "colab": {
          "base_uri": "https://localhost:8080/",
          "height": 112
        },
        "id": "d9e6becc",
        "outputId": "b1694cef-2b9a-4612-e3d9-dab62bb44023"
      },
      "outputs": [],
      "source": [
        "pd.read_csv(\"1_bus/cgen_dist.csv\")"
      ]
    },
    {
      "cell_type": "markdown",
      "id": "lQQyV9-dw5Ro",
      "metadata": {
        "id": "lQQyV9-dw5Ro"
      },
      "source": [
        "## Case studies\n",
        "Case 1: No diesel candidates\n",
        "\n",
        "Case 2: Solar + Wind + diesel candidated\n",
        "\n",
        "Case 3: Total load reduced from 90 kW to 70 kW"
      ]
    },
    {
      "cell_type": "markdown",
      "id": "4be2784f",
      "metadata": {
        "id": "4be2784f"
      },
      "source": [
        "## Using the invesment and operation planning module from PyEPLAN "
      ]
    },
    {
      "cell_type": "code",
      "execution_count": null,
      "id": "7327825a",
      "metadata": {
        "id": "7327825a"
      },
      "outputs": [],
      "source": [
        "import pyeplan as pye"
      ]
    },
    {
      "cell_type": "markdown",
      "id": "I5DA2jF5olgN",
      "metadata": {
        "id": "I5DA2jF5olgN"
      },
      "source": [
        "The module is initialised with inputs including but not limited the following :\n",
        "* The input directory for the data. The input data folder should consists of 'csv' files that contain data description of the load, newtork paramters and generation units as defined [here](https://pyeplan.sps-lab.org/user_guide/input.html#).\n",
        "* ref_bus: Reference node\n",
        "* dshed_cost: Demand Shedding Price\n",
        "* rshed_cost: Renewable Shedding Price\n",
        "* phase: Number of Phases (Default 3)\n",
        "* sbase: Base Apparent Power (Default 1 kW)"
      ]
    },
    {
      "cell_type": "code",
      "execution_count": null,
      "id": "376faa87",
      "metadata": {
        "id": "376faa87"
      },
      "outputs": [],
      "source": [
        "inosys = pye.inosys('1_bus', ref_bus = 0, dshed_cost = 100, rshed_cost = 0, phase = 3, )"
      ]
    },
    {
      "cell_type": "markdown",
      "id": "53240323",
      "metadata": {
        "id": "53240323"
      },
      "source": [
        "## Solving the optimization problem"
      ]
    },
    {
      "cell_type": "markdown",
      "id": "b783abfa",
      "metadata": {
        "id": "b783abfa"
      },
      "source": [
        "PyEPLAN can be used to solve the problem investment and operation planning problems simultaneously. In case no investment candidates are availble, a sole operation planning problem can be run by setting input 'onlyopr = True'. Available solvers inclde both open source solvers include glpk, cbc, and commercial solvers ipopt, gurobi given one has the required licences. If discrete capacities of investment units are available the input 'invest = True' this sets the investement-related decision variables to a binary nature where the unit capacity = nominal. Otherwise,  'invest = False' sets the investement-related decision variables to a continuous nature where the unit capacity <= nominal."
      ]
    },
    {
      "cell_type": "code",
      "execution_count": null,
      "id": "04b2ff0a",
      "metadata": {
        "colab": {
          "base_uri": "https://localhost:8080/"
        },
        "id": "04b2ff0a",
        "outputId": "1cb4a6d0-5ea8-46bc-a0b7-b1a2dca179f5"
      },
      "outputs": [],
      "source": [
        "inosys.solve(solver = 'glpk', onlyopr = False, invest = True, )"
      ]
    },
    {
      "cell_type": "markdown",
      "id": "9257c25d",
      "metadata": {
        "id": "9257c25d"
      },
      "source": [
        "## Results"
      ]
    },
    {
      "cell_type": "markdown",
      "id": "b114de27",
      "metadata": {
        "id": "b114de27"
      },
      "source": [
        "A folder named 'results' will be created with the output of the optimal solution to the planning problem. The different result files are defined [here](https://pyeplan.sps-lab.org/user_guide/output.html). Below we show the capital costs and operational costs obtained to satify the load in the 5-bus network."
      ]
    },
    {
      "cell_type": "markdown",
      "id": "4a3b4d1e",
      "metadata": {
        "id": "4a3b4d1e"
      },
      "source": [
        "### Total Investment and Operational Costs"
      ]
    },
    {
      "cell_type": "code",
      "execution_count": null,
      "id": "b92cbcc5",
      "metadata": {
        "colab": {
          "base_uri": "https://localhost:8080/",
          "height": 112
        },
        "id": "b92cbcc5",
        "outputId": "ad63665b-53da-4e49-d129-6dd8ff75bfc1"
      },
      "outputs": [],
      "source": [
        "inosys.resCost()"
      ]
    },
    {
      "cell_type": "markdown",
      "id": "d1eb09d0",
      "metadata": {
        "id": "d1eb09d0"
      },
      "source": [
        "### Number and capacity of wind units installed"
      ]
    },
    {
      "cell_type": "markdown",
      "id": "bcd7228e",
      "metadata": {
        "id": "bcd7228e"
      },
      "source": [
        "The capacity and location of wind units installed is:"
      ]
    },
    {
      "cell_type": "code",
      "execution_count": null,
      "id": "d233c446",
      "metadata": {
        "colab": {
          "base_uri": "https://localhost:8080/",
          "height": 143
        },
        "hide_input": true,
        "id": "d233c446",
        "outputId": "44bae222-4280-41a1-d464-c29e1fddc51e"
      },
      "outputs": [],
      "source": [
        "inosys.resWind()"
      ]
    },
    {
      "cell_type": "markdown",
      "id": "cced6bd4",
      "metadata": {
        "id": "cced6bd4"
      },
      "source": [
        "### Number and capacity of solar units installed"
      ]
    },
    {
      "cell_type": "markdown",
      "id": "e818a8d9",
      "metadata": {
        "id": "e818a8d9"
      },
      "source": [
        "The capacity and location of solar units installed is:"
      ]
    },
    {
      "cell_type": "code",
      "execution_count": null,
      "id": "fd427472",
      "metadata": {
        "colab": {
          "base_uri": "https://localhost:8080/",
          "height": 143
        },
        "id": "fd427472",
        "outputId": "ae89c9a3-3981-4b30-ac55-2515a27663a6"
      },
      "outputs": [],
      "source": [
        "inosys.resSolar()"
      ]
    },
    {
      "cell_type": "markdown",
      "id": "2b881701",
      "metadata": {
        "id": "2b881701"
      },
      "source": [
        "### Number and capacity of diesel units installed"
      ]
    },
    {
      "cell_type": "markdown",
      "id": "18d48505",
      "metadata": {
        "id": "18d48505"
      },
      "source": [
        "The capacity and location of diesel units installed is:"
      ]
    },
    {
      "cell_type": "code",
      "execution_count": null,
      "id": "76379d56",
      "metadata": {
        "colab": {
          "base_uri": "https://localhost:8080/",
          "height": 143
        },
        "id": "76379d56",
        "outputId": "0d34bbfe-9dc0-4ecd-87b7-457062faa429"
      },
      "outputs": [],
      "source": [
        "inosys.resConv()"
      ]
    },
    {
      "cell_type": "markdown",
      "id": "5f299d31",
      "metadata": {
        "id": "5f299d31"
      },
      "source": [
        "### Amount of load curtailed"
      ]
    },
    {
      "cell_type": "markdown",
      "id": "9a1b8ac5",
      "metadata": {
        "id": "9a1b8ac5"
      },
      "source": [
        "The level of load demand that has been curtailed at each node is:"
      ]
    },
    {
      "cell_type": "code",
      "execution_count": null,
      "id": "ac87ab6d",
      "metadata": {
        "colab": {
          "base_uri": "https://localhost:8080/",
          "height": 112
        },
        "id": "ac87ab6d",
        "outputId": "457b0fc3-59b0-43cd-d432-c7a64ea8b80a"
      },
      "outputs": [],
      "source": [
        "inosys.resCurt() "
      ]
    }
  ],
  "metadata": {
    "celltoolbar": "Raw Cell Format",
    "colab": {
      "collapsed_sections": [],
      "name": "1-bus Planning Example .ipynb",
      "provenance": []
    },
    "interpreter": {
      "hash": "00e6ea6cfcecbd514e3dcac8ae1d242499567acc4bd388cb0382d9f80608ff85"
    },
    "kernelspec": {
      "display_name": "Python 3.7.11 ('base')",
      "language": "python",
      "name": "python3"
    },
    "language_info": {
      "codemirror_mode": {
        "name": "ipython",
        "version": 3
      },
      "file_extension": ".py",
      "mimetype": "text/x-python",
      "name": "python",
      "nbconvert_exporter": "python",
      "pygments_lexer": "ipython3",
      "version": "3.7.11"
    }
  },
  "nbformat": 4,
  "nbformat_minor": 5
}
