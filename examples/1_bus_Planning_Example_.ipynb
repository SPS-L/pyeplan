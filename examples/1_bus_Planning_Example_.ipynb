{
  "cells": [
    {
      "cell_type": "markdown",
      "metadata": {
        "id": "view-in-github",
        "colab_type": "text"
      },
      "source": [
        "<a href=\"https://colab.research.google.com/github/apetros/pyeplan/blob/master/examples/1_bus_Planning_Example_.ipynb\" target=\"_parent\"><img src=\"https://colab.research.google.com/assets/colab-badge.svg\" alt=\"Open In Colab\"/></a>"
      ]
    },
    {
      "cell_type": "markdown",
      "id": "56c787cb",
      "metadata": {
        "id": "56c787cb"
      },
      "source": [
        "# Illustrative example for optimizing investment and operation of a microgrid considering all generation and load connected to single bus"
      ]
    },
    {
      "cell_type": "markdown",
      "id": "f8c66b0f",
      "metadata": {
        "id": "f8c66b0f"
      },
      "source": [
        "This simple example neglects the network model and considers a single node with total load. One representative day with is used to describe the potential operational scenarios. Three types of investment candidate generators i.e, wind units, solar units and diesel generation units. It showcases how the Investment and Operation Planning Modules of PyEPLAN can be used to derive optimal units to be installed in the microgrid network.\n",
        "\n",
        "This example is designed to be run on Google Colab."
      ]
    },
    {
      "cell_type": "code",
      "source": [
        "!rm -r sample_data\n",
        "!rm -r 1_bus"
      ],
      "metadata": {
        "id": "LmN9F7OitmXk",
        "outputId": "70740b3d-cdc5-4577-9f4b-86bfec024cd1",
        "colab": {
          "base_uri": "https://localhost:8080/"
        }
      },
      "id": "LmN9F7OitmXk",
      "execution_count": 24,
      "outputs": [
        {
          "output_type": "stream",
          "name": "stdout",
          "text": [
            "rm: cannot remove 'sample_data': No such file or directory\n"
          ]
        }
      ]
    },
    {
      "cell_type": "code",
      "source": [
        "!apt-get install -qq subversion\n",
        "!svn export https://github.com/apetros/pyeplan/trunk/examples/1_bus"
      ],
      "metadata": {
        "id": "10rAjYDiuN35",
        "outputId": "26f13e94-2b7f-4ec7-d31f-0b611a3f78f9",
        "colab": {
          "base_uri": "https://localhost:8080/"
        }
      },
      "id": "10rAjYDiuN35",
      "execution_count": 25,
      "outputs": [
        {
          "output_type": "stream",
          "name": "stdout",
          "text": [
            "A    1_bus\n",
            "A    1_bus/cbat_dist.csv\n",
            "A    1_bus/cblt_dist.csv\n",
            "A    1_bus/cgen_dist.csv\n",
            "A    1_bus/clin_dist.csv\n",
            "A    1_bus/csol_dist.csv\n",
            "A    1_bus/cwin_dist.csv\n",
            "A    1_bus/dtim_dist.csv\n",
            "A    1_bus/egen_dist.csv\n",
            "A    1_bus/elin_dist.csv\n",
            "A    1_bus/esol_dist.csv\n",
            "A    1_bus/ewin_dist.csv\n",
            "A    1_bus/geol_dist.csv\n",
            "A    1_bus/mgpc_dist.xlsx\n",
            "A    1_bus/pdem_dist.csv\n",
            "A    1_bus/prep_dist.csv\n",
            "A    1_bus/psol_dist.csv\n",
            "A    1_bus/pwin_dist.csv\n",
            "A    1_bus/qdem_dist.csv\n",
            "A    1_bus/qrep_dist.csv\n",
            "A    1_bus/qsol_dist.csv\n",
            "A    1_bus/qwin_dist.csv\n",
            "A    1_bus/results\n",
            "A    1_bus/results/cu.csv\n",
            "A    1_bus/results/eu.csv\n",
            "A    1_bus/results/obj.csv\n",
            "A    1_bus/results/pbc.csv\n",
            "A    1_bus/results/pbd.csv\n",
            "A    1_bus/results/pcg.csv\n",
            "A    1_bus/results/pcs.csv\n",
            "A    1_bus/results/pcw.csv\n",
            "A    1_bus/results/pds.csv\n",
            "A    1_bus/results/peg.csv\n",
            "A    1_bus/results/pel.csv\n",
            "A    1_bus/results/pes.csv\n",
            "A    1_bus/results/pew.csv\n",
            "A    1_bus/results/pss.csv\n",
            "A    1_bus/results/pws.csv\n",
            "A    1_bus/results/qcd.csv\n",
            "A    1_bus/results/qcg.csv\n",
            "A    1_bus/results/qcs.csv\n",
            "A    1_bus/results/qcw.csv\n",
            "A    1_bus/results/qeg.csv\n",
            "A    1_bus/results/qel.csv\n",
            "A    1_bus/results/qes.csv\n",
            "A    1_bus/results/qew.csv\n",
            "A    1_bus/results/vol.csv\n",
            "A    1_bus/results/xb.csv\n",
            "A    1_bus/results/xg.csv\n",
            "A    1_bus/results/xs.csv\n",
            "A    1_bus/results/xw.csv\n",
            "A    1_bus/rou_dist.csv\n",
            "Exported revision 83.\n"
          ]
        }
      ]
    },
    {
      "cell_type": "code",
      "source": [
        "!apt-get install -y -qq glpk-utils"
      ],
      "metadata": {
        "id": "2XP__QMjuYsC"
      },
      "id": "2XP__QMjuYsC",
      "execution_count": 26,
      "outputs": []
    },
    {
      "cell_type": "code",
      "source": [
        "!apt-get install -y -qq coinor-cbc"
      ],
      "metadata": {
        "id": "eiS_y1TNyICv"
      },
      "id": "eiS_y1TNyICv",
      "execution_count": 27,
      "outputs": []
    },
    {
      "cell_type": "code",
      "source": [
        "!pip install -q pyeplan"
      ],
      "metadata": {
        "id": "JY8R_Q_xumgT"
      },
      "id": "JY8R_Q_xumgT",
      "execution_count": 28,
      "outputs": []
    },
    {
      "cell_type": "code",
      "source": [
        "!pip install git+git://github.com/apetros/pyeplan@master"
      ],
      "metadata": {
        "id": "7Xn1uRFOj_7V",
        "outputId": "d2175fc0-c7c8-4e9d-ba2b-d6e2a848022c",
        "colab": {
          "base_uri": "https://localhost:8080/",
          "height": 763
        }
      },
      "id": "7Xn1uRFOj_7V",
      "execution_count": 29,
      "outputs": [
        {
          "output_type": "stream",
          "name": "stdout",
          "text": [
            "Collecting git+git://github.com/apetros/pyeplan@master\n",
            "  Cloning git://github.com/apetros/pyeplan (to revision master) to /tmp/pip-req-build-h313str3\n",
            "  Running command git clone -q git://github.com/apetros/pyeplan /tmp/pip-req-build-h313str3\n",
            "Requirement already satisfied: pandas in /usr/local/lib/python3.7/dist-packages (from pyeplan==0.4.3) (1.1.5)\n",
            "Requirement already satisfied: pyomo in /usr/local/lib/python3.7/dist-packages (from pyeplan==0.4.3) (6.2)\n",
            "Requirement already satisfied: networkx in /usr/local/lib/python3.7/dist-packages (from pyeplan==0.4.3) (2.6.3)\n",
            "Requirement already satisfied: mplleaflet in /usr/local/lib/python3.7/dist-packages (from pyeplan==0.4.3) (0.0.5)\n",
            "Requirement already satisfied: matplotlib==3.3.0 in /usr/local/lib/python3.7/dist-packages (from pyeplan==0.4.3) (3.3.0)\n",
            "Requirement already satisfied: timezonefinder in /usr/local/lib/python3.7/dist-packages (from pyeplan==0.4.3) (5.2.0)\n",
            "Requirement already satisfied: scikit-learn==1.0.0 in /usr/local/lib/python3.7/dist-packages (from pyeplan==0.4.3) (1.0)\n",
            "Requirement already satisfied: openpyxl in /usr/local/lib/python3.7/dist-packages (from pyeplan==0.4.3) (2.5.9)\n",
            "Requirement already satisfied: python-dateutil>=2.1 in /usr/local/lib/python3.7/dist-packages (from matplotlib==3.3.0->pyeplan==0.4.3) (2.8.2)\n",
            "Requirement already satisfied: pyparsing!=2.0.4,!=2.1.2,!=2.1.6,>=2.0.3 in /usr/local/lib/python3.7/dist-packages (from matplotlib==3.3.0->pyeplan==0.4.3) (3.0.6)\n",
            "Requirement already satisfied: kiwisolver>=1.0.1 in /usr/local/lib/python3.7/dist-packages (from matplotlib==3.3.0->pyeplan==0.4.3) (1.3.2)\n",
            "Requirement already satisfied: pillow>=6.2.0 in /usr/local/lib/python3.7/dist-packages (from matplotlib==3.3.0->pyeplan==0.4.3) (7.1.2)\n",
            "Requirement already satisfied: numpy>=1.15 in /usr/local/lib/python3.7/dist-packages (from matplotlib==3.3.0->pyeplan==0.4.3) (1.19.5)\n",
            "Requirement already satisfied: cycler>=0.10 in /usr/local/lib/python3.7/dist-packages (from matplotlib==3.3.0->pyeplan==0.4.3) (0.11.0)\n",
            "Requirement already satisfied: threadpoolctl>=2.0.0 in /usr/local/lib/python3.7/dist-packages (from scikit-learn==1.0.0->pyeplan==0.4.3) (3.0.0)\n",
            "Requirement already satisfied: joblib>=0.11 in /usr/local/lib/python3.7/dist-packages (from scikit-learn==1.0.0->pyeplan==0.4.3) (1.1.0)\n",
            "Requirement already satisfied: scipy>=1.1.0 in /usr/local/lib/python3.7/dist-packages (from scikit-learn==1.0.0->pyeplan==0.4.3) (1.4.1)\n",
            "Requirement already satisfied: six>=1.5 in /usr/local/lib/python3.7/dist-packages (from python-dateutil>=2.1->matplotlib==3.3.0->pyeplan==0.4.3) (1.15.0)\n",
            "Requirement already satisfied: jinja2 in /usr/local/lib/python3.7/dist-packages (from mplleaflet->pyeplan==0.4.3) (2.11.3)\n",
            "Requirement already satisfied: MarkupSafe>=0.23 in /usr/local/lib/python3.7/dist-packages (from jinja2->mplleaflet->pyeplan==0.4.3) (2.0.1)\n",
            "Requirement already satisfied: et-xmlfile in /usr/local/lib/python3.7/dist-packages (from openpyxl->pyeplan==0.4.3) (1.1.0)\n",
            "Requirement already satisfied: jdcal in /usr/local/lib/python3.7/dist-packages (from openpyxl->pyeplan==0.4.3) (1.4.1)\n",
            "Requirement already satisfied: pytz>=2017.2 in /usr/local/lib/python3.7/dist-packages (from pandas->pyeplan==0.4.3) (2018.9)\n",
            "Requirement already satisfied: ply in /usr/local/lib/python3.7/dist-packages (from pyomo->pyeplan==0.4.3) (3.11)\n",
            "Building wheels for collected packages: pyeplan\n",
            "  Building wheel for pyeplan (setup.py) ... \u001b[?25l\u001b[?25hdone\n",
            "  Created wheel for pyeplan: filename=pyeplan-0.4.3-py3-none-any.whl size=15846 sha256=39f0273a1f4884d57656cc59b25c2974838af57f9a62c9ee702e01d19bfee091\n",
            "  Stored in directory: /tmp/pip-ephem-wheel-cache-waag1_m_/wheels/9e/05/40/2374125e8f55142a752f54005fbe165970a6dda55bb008fbf0\n",
            "Successfully built pyeplan\n",
            "Installing collected packages: pyeplan\n",
            "  Attempting uninstall: pyeplan\n",
            "    Found existing installation: pyeplan 0.4.2\n",
            "    Uninstalling pyeplan-0.4.2:\n",
            "      Successfully uninstalled pyeplan-0.4.2\n",
            "Successfully installed pyeplan-0.4.3\n"
          ]
        },
        {
          "output_type": "display_data",
          "data": {
            "application/vnd.colab-display-data+json": {
              "pip_warning": {
                "packages": [
                  "pyeplan"
                ]
              }
            }
          },
          "metadata": {}
        }
      ]
    },
    {
      "cell_type": "markdown",
      "id": "bb2b4dee",
      "metadata": {
        "id": "bb2b4dee"
      },
      "source": [
        "## Defining the input data"
      ]
    },
    {
      "cell_type": "markdown",
      "id": "fcbd02b5",
      "metadata": {
        "id": "fcbd02b5"
      },
      "source": [
        "The next step is to define the directory to the folder where the input data is located and define the reference node. The input data folder should consists of 'csv' files that contain data description of the load, newtork paramters and generation units as defined [here](https://pyeplan.sps-lab.org/user_guide/input.html#)."
      ]
    },
    {
      "cell_type": "markdown",
      "id": "e09119e1",
      "metadata": {
        "id": "e09119e1"
      },
      "source": [
        "Some of the data inputs include:"
      ]
    },
    {
      "cell_type": "markdown",
      "id": "8389db39",
      "metadata": {
        "id": "8389db39"
      },
      "source": [
        "### Defining the total load demand at each hour"
      ]
    },
    {
      "cell_type": "markdown",
      "id": "458e0262",
      "metadata": {
        "id": "458e0262"
      },
      "source": [
        "The total active power consumption at each of the three (3) hours for one (1) representative day is:"
      ]
    },
    {
      "cell_type": "code",
      "execution_count": 30,
      "id": "476ff184",
      "metadata": {
        "id": "476ff184",
        "outputId": "6de7002c-5b60-43a8-fe5d-f7dd7ed672a8",
        "colab": {
          "base_uri": "https://localhost:8080/",
          "height": 81
        }
      },
      "outputs": [
        {
          "output_type": "execute_result",
          "data": {
            "text/html": [
              "\n",
              "  <div id=\"df-5cbc087c-c7aa-4d70-9fec-a7029d966c57\">\n",
              "    <div class=\"colab-df-container\">\n",
              "      <div>\n",
              "<style scoped>\n",
              "    .dataframe tbody tr th:only-of-type {\n",
              "        vertical-align: middle;\n",
              "    }\n",
              "\n",
              "    .dataframe tbody tr th {\n",
              "        vertical-align: top;\n",
              "    }\n",
              "\n",
              "    .dataframe thead th {\n",
              "        text-align: right;\n",
              "    }\n",
              "</style>\n",
              "<table border=\"1\" class=\"dataframe\">\n",
              "  <thead>\n",
              "    <tr style=\"text-align: right;\">\n",
              "      <th></th>\n",
              "      <th>0</th>\n",
              "    </tr>\n",
              "  </thead>\n",
              "  <tbody>\n",
              "    <tr>\n",
              "      <th>0</th>\n",
              "      <td>90</td>\n",
              "    </tr>\n",
              "  </tbody>\n",
              "</table>\n",
              "</div>\n",
              "      <button class=\"colab-df-convert\" onclick=\"convertToInteractive('df-5cbc087c-c7aa-4d70-9fec-a7029d966c57')\"\n",
              "              title=\"Convert this dataframe to an interactive table.\"\n",
              "              style=\"display:none;\">\n",
              "        \n",
              "  <svg xmlns=\"http://www.w3.org/2000/svg\" height=\"24px\"viewBox=\"0 0 24 24\"\n",
              "       width=\"24px\">\n",
              "    <path d=\"M0 0h24v24H0V0z\" fill=\"none\"/>\n",
              "    <path d=\"M18.56 5.44l.94 2.06.94-2.06 2.06-.94-2.06-.94-.94-2.06-.94 2.06-2.06.94zm-11 1L8.5 8.5l.94-2.06 2.06-.94-2.06-.94L8.5 2.5l-.94 2.06-2.06.94zm10 10l.94 2.06.94-2.06 2.06-.94-2.06-.94-.94-2.06-.94 2.06-2.06.94z\"/><path d=\"M17.41 7.96l-1.37-1.37c-.4-.4-.92-.59-1.43-.59-.52 0-1.04.2-1.43.59L10.3 9.45l-7.72 7.72c-.78.78-.78 2.05 0 2.83L4 21.41c.39.39.9.59 1.41.59.51 0 1.02-.2 1.41-.59l7.78-7.78 2.81-2.81c.8-.78.8-2.07 0-2.86zM5.41 20L4 18.59l7.72-7.72 1.47 1.35L5.41 20z\"/>\n",
              "  </svg>\n",
              "      </button>\n",
              "      \n",
              "  <style>\n",
              "    .colab-df-container {\n",
              "      display:flex;\n",
              "      flex-wrap:wrap;\n",
              "      gap: 12px;\n",
              "    }\n",
              "\n",
              "    .colab-df-convert {\n",
              "      background-color: #E8F0FE;\n",
              "      border: none;\n",
              "      border-radius: 50%;\n",
              "      cursor: pointer;\n",
              "      display: none;\n",
              "      fill: #1967D2;\n",
              "      height: 32px;\n",
              "      padding: 0 0 0 0;\n",
              "      width: 32px;\n",
              "    }\n",
              "\n",
              "    .colab-df-convert:hover {\n",
              "      background-color: #E2EBFA;\n",
              "      box-shadow: 0px 1px 2px rgba(60, 64, 67, 0.3), 0px 1px 3px 1px rgba(60, 64, 67, 0.15);\n",
              "      fill: #174EA6;\n",
              "    }\n",
              "\n",
              "    [theme=dark] .colab-df-convert {\n",
              "      background-color: #3B4455;\n",
              "      fill: #D2E3FC;\n",
              "    }\n",
              "\n",
              "    [theme=dark] .colab-df-convert:hover {\n",
              "      background-color: #434B5C;\n",
              "      box-shadow: 0px 1px 3px 1px rgba(0, 0, 0, 0.15);\n",
              "      filter: drop-shadow(0px 1px 2px rgba(0, 0, 0, 0.3));\n",
              "      fill: #FFFFFF;\n",
              "    }\n",
              "  </style>\n",
              "\n",
              "      <script>\n",
              "        const buttonEl =\n",
              "          document.querySelector('#df-5cbc087c-c7aa-4d70-9fec-a7029d966c57 button.colab-df-convert');\n",
              "        buttonEl.style.display =\n",
              "          google.colab.kernel.accessAllowed ? 'block' : 'none';\n",
              "\n",
              "        async function convertToInteractive(key) {\n",
              "          const element = document.querySelector('#df-5cbc087c-c7aa-4d70-9fec-a7029d966c57');\n",
              "          const dataTable =\n",
              "            await google.colab.kernel.invokeFunction('convertToInteractive',\n",
              "                                                     [key], {});\n",
              "          if (!dataTable) return;\n",
              "\n",
              "          const docLinkHtml = 'Like what you see? Visit the ' +\n",
              "            '<a target=\"_blank\" href=https://colab.research.google.com/notebooks/data_table.ipynb>data table notebook</a>'\n",
              "            + ' to learn more about interactive tables.';\n",
              "          element.innerHTML = '';\n",
              "          dataTable['output_type'] = 'display_data';\n",
              "          await google.colab.output.renderOutput(dataTable, element);\n",
              "          const docLink = document.createElement('div');\n",
              "          docLink.innerHTML = docLinkHtml;\n",
              "          element.appendChild(docLink);\n",
              "        }\n",
              "      </script>\n",
              "    </div>\n",
              "  </div>\n",
              "  "
            ],
            "text/plain": [
              "    0\n",
              "0  90"
            ]
          },
          "metadata": {},
          "execution_count": 30
        }
      ],
      "source": [
        "import pandas as pd\n",
        "pd.read_csv(\"1_bus/prep_dist.csv\")"
      ]
    },
    {
      "cell_type": "markdown",
      "id": "52a00185",
      "metadata": {
        "id": "52a00185"
      },
      "source": [
        "### Defining the input investment candidates"
      ]
    },
    {
      "cell_type": "markdown",
      "id": "ddf7292c",
      "metadata": {
        "id": "ddf7292c"
      },
      "source": [
        "#### Wind Units"
      ]
    },
    {
      "cell_type": "code",
      "execution_count": 31,
      "id": "67278fc2",
      "metadata": {
        "id": "67278fc2",
        "outputId": "65e07f68-e277-4bb5-92ed-b0a8c426a465",
        "colab": {
          "base_uri": "https://localhost:8080/",
          "height": 112
        }
      },
      "outputs": [
        {
          "output_type": "execute_result",
          "data": {
            "text/html": [
              "\n",
              "  <div id=\"df-291fd0c7-bcbb-4c8d-b228-02c90445c3d0\">\n",
              "    <div class=\"colab-df-container\">\n",
              "      <div>\n",
              "<style scoped>\n",
              "    .dataframe tbody tr th:only-of-type {\n",
              "        vertical-align: middle;\n",
              "    }\n",
              "\n",
              "    .dataframe tbody tr th {\n",
              "        vertical-align: top;\n",
              "    }\n",
              "\n",
              "    .dataframe thead th {\n",
              "        text-align: right;\n",
              "    }\n",
              "</style>\n",
              "<table border=\"1\" class=\"dataframe\">\n",
              "  <thead>\n",
              "    <tr style=\"text-align: right;\">\n",
              "      <th></th>\n",
              "      <th>bus</th>\n",
              "      <th>icost</th>\n",
              "      <th>ocost</th>\n",
              "      <th>scost</th>\n",
              "      <th>pmin</th>\n",
              "      <th>pmax</th>\n",
              "      <th>qmin</th>\n",
              "      <th>qmax</th>\n",
              "    </tr>\n",
              "  </thead>\n",
              "  <tbody>\n",
              "    <tr>\n",
              "      <th>0</th>\n",
              "      <td>0</td>\n",
              "      <td>186</td>\n",
              "      <td>0</td>\n",
              "      <td>0</td>\n",
              "      <td>0</td>\n",
              "      <td>50</td>\n",
              "      <td>0</td>\n",
              "      <td>0</td>\n",
              "    </tr>\n",
              "    <tr>\n",
              "      <th>1</th>\n",
              "      <td>0</td>\n",
              "      <td>186</td>\n",
              "      <td>0</td>\n",
              "      <td>0</td>\n",
              "      <td>0</td>\n",
              "      <td>50</td>\n",
              "      <td>0</td>\n",
              "      <td>0</td>\n",
              "    </tr>\n",
              "  </tbody>\n",
              "</table>\n",
              "</div>\n",
              "      <button class=\"colab-df-convert\" onclick=\"convertToInteractive('df-291fd0c7-bcbb-4c8d-b228-02c90445c3d0')\"\n",
              "              title=\"Convert this dataframe to an interactive table.\"\n",
              "              style=\"display:none;\">\n",
              "        \n",
              "  <svg xmlns=\"http://www.w3.org/2000/svg\" height=\"24px\"viewBox=\"0 0 24 24\"\n",
              "       width=\"24px\">\n",
              "    <path d=\"M0 0h24v24H0V0z\" fill=\"none\"/>\n",
              "    <path d=\"M18.56 5.44l.94 2.06.94-2.06 2.06-.94-2.06-.94-.94-2.06-.94 2.06-2.06.94zm-11 1L8.5 8.5l.94-2.06 2.06-.94-2.06-.94L8.5 2.5l-.94 2.06-2.06.94zm10 10l.94 2.06.94-2.06 2.06-.94-2.06-.94-.94-2.06-.94 2.06-2.06.94z\"/><path d=\"M17.41 7.96l-1.37-1.37c-.4-.4-.92-.59-1.43-.59-.52 0-1.04.2-1.43.59L10.3 9.45l-7.72 7.72c-.78.78-.78 2.05 0 2.83L4 21.41c.39.39.9.59 1.41.59.51 0 1.02-.2 1.41-.59l7.78-7.78 2.81-2.81c.8-.78.8-2.07 0-2.86zM5.41 20L4 18.59l7.72-7.72 1.47 1.35L5.41 20z\"/>\n",
              "  </svg>\n",
              "      </button>\n",
              "      \n",
              "  <style>\n",
              "    .colab-df-container {\n",
              "      display:flex;\n",
              "      flex-wrap:wrap;\n",
              "      gap: 12px;\n",
              "    }\n",
              "\n",
              "    .colab-df-convert {\n",
              "      background-color: #E8F0FE;\n",
              "      border: none;\n",
              "      border-radius: 50%;\n",
              "      cursor: pointer;\n",
              "      display: none;\n",
              "      fill: #1967D2;\n",
              "      height: 32px;\n",
              "      padding: 0 0 0 0;\n",
              "      width: 32px;\n",
              "    }\n",
              "\n",
              "    .colab-df-convert:hover {\n",
              "      background-color: #E2EBFA;\n",
              "      box-shadow: 0px 1px 2px rgba(60, 64, 67, 0.3), 0px 1px 3px 1px rgba(60, 64, 67, 0.15);\n",
              "      fill: #174EA6;\n",
              "    }\n",
              "\n",
              "    [theme=dark] .colab-df-convert {\n",
              "      background-color: #3B4455;\n",
              "      fill: #D2E3FC;\n",
              "    }\n",
              "\n",
              "    [theme=dark] .colab-df-convert:hover {\n",
              "      background-color: #434B5C;\n",
              "      box-shadow: 0px 1px 3px 1px rgba(0, 0, 0, 0.15);\n",
              "      filter: drop-shadow(0px 1px 2px rgba(0, 0, 0, 0.3));\n",
              "      fill: #FFFFFF;\n",
              "    }\n",
              "  </style>\n",
              "\n",
              "      <script>\n",
              "        const buttonEl =\n",
              "          document.querySelector('#df-291fd0c7-bcbb-4c8d-b228-02c90445c3d0 button.colab-df-convert');\n",
              "        buttonEl.style.display =\n",
              "          google.colab.kernel.accessAllowed ? 'block' : 'none';\n",
              "\n",
              "        async function convertToInteractive(key) {\n",
              "          const element = document.querySelector('#df-291fd0c7-bcbb-4c8d-b228-02c90445c3d0');\n",
              "          const dataTable =\n",
              "            await google.colab.kernel.invokeFunction('convertToInteractive',\n",
              "                                                     [key], {});\n",
              "          if (!dataTable) return;\n",
              "\n",
              "          const docLinkHtml = 'Like what you see? Visit the ' +\n",
              "            '<a target=\"_blank\" href=https://colab.research.google.com/notebooks/data_table.ipynb>data table notebook</a>'\n",
              "            + ' to learn more about interactive tables.';\n",
              "          element.innerHTML = '';\n",
              "          dataTable['output_type'] = 'display_data';\n",
              "          await google.colab.output.renderOutput(dataTable, element);\n",
              "          const docLink = document.createElement('div');\n",
              "          docLink.innerHTML = docLinkHtml;\n",
              "          element.appendChild(docLink);\n",
              "        }\n",
              "      </script>\n",
              "    </div>\n",
              "  </div>\n",
              "  "
            ],
            "text/plain": [
              "   bus  icost  ocost  scost  pmin  pmax  qmin  qmax\n",
              "0    0    186      0      0     0    50     0     0\n",
              "1    0    186      0      0     0    50     0     0"
            ]
          },
          "metadata": {},
          "execution_count": 31
        }
      ],
      "source": [
        "pd.read_csv(\"1_bus/cwin_dist.csv\")"
      ]
    },
    {
      "cell_type": "markdown",
      "id": "f98f1361",
      "metadata": {
        "id": "f98f1361"
      },
      "source": [
        "#### Solar PV Units"
      ]
    },
    {
      "cell_type": "code",
      "execution_count": 32,
      "id": "2a48e337",
      "metadata": {
        "id": "2a48e337",
        "outputId": "d4c12dda-713b-4c39-918e-8fa52ed3ed4d",
        "colab": {
          "base_uri": "https://localhost:8080/",
          "height": 112
        }
      },
      "outputs": [
        {
          "output_type": "execute_result",
          "data": {
            "text/html": [
              "\n",
              "  <div id=\"df-c4235d9f-ef17-4e66-82ac-b25641043dc7\">\n",
              "    <div class=\"colab-df-container\">\n",
              "      <div>\n",
              "<style scoped>\n",
              "    .dataframe tbody tr th:only-of-type {\n",
              "        vertical-align: middle;\n",
              "    }\n",
              "\n",
              "    .dataframe tbody tr th {\n",
              "        vertical-align: top;\n",
              "    }\n",
              "\n",
              "    .dataframe thead th {\n",
              "        text-align: right;\n",
              "    }\n",
              "</style>\n",
              "<table border=\"1\" class=\"dataframe\">\n",
              "  <thead>\n",
              "    <tr style=\"text-align: right;\">\n",
              "      <th></th>\n",
              "      <th>bus</th>\n",
              "      <th>icost</th>\n",
              "      <th>ocost</th>\n",
              "      <th>scost</th>\n",
              "      <th>pmin</th>\n",
              "      <th>pmax</th>\n",
              "      <th>qmin</th>\n",
              "      <th>qmax</th>\n",
              "    </tr>\n",
              "  </thead>\n",
              "  <tbody>\n",
              "    <tr>\n",
              "      <th>0</th>\n",
              "      <td>0</td>\n",
              "      <td>109</td>\n",
              "      <td>0</td>\n",
              "      <td>0</td>\n",
              "      <td>0</td>\n",
              "      <td>50</td>\n",
              "      <td>0</td>\n",
              "      <td>0</td>\n",
              "    </tr>\n",
              "    <tr>\n",
              "      <th>1</th>\n",
              "      <td>0</td>\n",
              "      <td>109</td>\n",
              "      <td>0</td>\n",
              "      <td>0</td>\n",
              "      <td>0</td>\n",
              "      <td>50</td>\n",
              "      <td>0</td>\n",
              "      <td>0</td>\n",
              "    </tr>\n",
              "  </tbody>\n",
              "</table>\n",
              "</div>\n",
              "      <button class=\"colab-df-convert\" onclick=\"convertToInteractive('df-c4235d9f-ef17-4e66-82ac-b25641043dc7')\"\n",
              "              title=\"Convert this dataframe to an interactive table.\"\n",
              "              style=\"display:none;\">\n",
              "        \n",
              "  <svg xmlns=\"http://www.w3.org/2000/svg\" height=\"24px\"viewBox=\"0 0 24 24\"\n",
              "       width=\"24px\">\n",
              "    <path d=\"M0 0h24v24H0V0z\" fill=\"none\"/>\n",
              "    <path d=\"M18.56 5.44l.94 2.06.94-2.06 2.06-.94-2.06-.94-.94-2.06-.94 2.06-2.06.94zm-11 1L8.5 8.5l.94-2.06 2.06-.94-2.06-.94L8.5 2.5l-.94 2.06-2.06.94zm10 10l.94 2.06.94-2.06 2.06-.94-2.06-.94-.94-2.06-.94 2.06-2.06.94z\"/><path d=\"M17.41 7.96l-1.37-1.37c-.4-.4-.92-.59-1.43-.59-.52 0-1.04.2-1.43.59L10.3 9.45l-7.72 7.72c-.78.78-.78 2.05 0 2.83L4 21.41c.39.39.9.59 1.41.59.51 0 1.02-.2 1.41-.59l7.78-7.78 2.81-2.81c.8-.78.8-2.07 0-2.86zM5.41 20L4 18.59l7.72-7.72 1.47 1.35L5.41 20z\"/>\n",
              "  </svg>\n",
              "      </button>\n",
              "      \n",
              "  <style>\n",
              "    .colab-df-container {\n",
              "      display:flex;\n",
              "      flex-wrap:wrap;\n",
              "      gap: 12px;\n",
              "    }\n",
              "\n",
              "    .colab-df-convert {\n",
              "      background-color: #E8F0FE;\n",
              "      border: none;\n",
              "      border-radius: 50%;\n",
              "      cursor: pointer;\n",
              "      display: none;\n",
              "      fill: #1967D2;\n",
              "      height: 32px;\n",
              "      padding: 0 0 0 0;\n",
              "      width: 32px;\n",
              "    }\n",
              "\n",
              "    .colab-df-convert:hover {\n",
              "      background-color: #E2EBFA;\n",
              "      box-shadow: 0px 1px 2px rgba(60, 64, 67, 0.3), 0px 1px 3px 1px rgba(60, 64, 67, 0.15);\n",
              "      fill: #174EA6;\n",
              "    }\n",
              "\n",
              "    [theme=dark] .colab-df-convert {\n",
              "      background-color: #3B4455;\n",
              "      fill: #D2E3FC;\n",
              "    }\n",
              "\n",
              "    [theme=dark] .colab-df-convert:hover {\n",
              "      background-color: #434B5C;\n",
              "      box-shadow: 0px 1px 3px 1px rgba(0, 0, 0, 0.15);\n",
              "      filter: drop-shadow(0px 1px 2px rgba(0, 0, 0, 0.3));\n",
              "      fill: #FFFFFF;\n",
              "    }\n",
              "  </style>\n",
              "\n",
              "      <script>\n",
              "        const buttonEl =\n",
              "          document.querySelector('#df-c4235d9f-ef17-4e66-82ac-b25641043dc7 button.colab-df-convert');\n",
              "        buttonEl.style.display =\n",
              "          google.colab.kernel.accessAllowed ? 'block' : 'none';\n",
              "\n",
              "        async function convertToInteractive(key) {\n",
              "          const element = document.querySelector('#df-c4235d9f-ef17-4e66-82ac-b25641043dc7');\n",
              "          const dataTable =\n",
              "            await google.colab.kernel.invokeFunction('convertToInteractive',\n",
              "                                                     [key], {});\n",
              "          if (!dataTable) return;\n",
              "\n",
              "          const docLinkHtml = 'Like what you see? Visit the ' +\n",
              "            '<a target=\"_blank\" href=https://colab.research.google.com/notebooks/data_table.ipynb>data table notebook</a>'\n",
              "            + ' to learn more about interactive tables.';\n",
              "          element.innerHTML = '';\n",
              "          dataTable['output_type'] = 'display_data';\n",
              "          await google.colab.output.renderOutput(dataTable, element);\n",
              "          const docLink = document.createElement('div');\n",
              "          docLink.innerHTML = docLinkHtml;\n",
              "          element.appendChild(docLink);\n",
              "        }\n",
              "      </script>\n",
              "    </div>\n",
              "  </div>\n",
              "  "
            ],
            "text/plain": [
              "   bus  icost  ocost  scost  pmin  pmax  qmin  qmax\n",
              "0    0    109      0      0     0    50     0     0\n",
              "1    0    109      0      0     0    50     0     0"
            ]
          },
          "metadata": {},
          "execution_count": 32
        }
      ],
      "source": [
        "pd.read_csv(\"1_bus/csol_dist.csv\")"
      ]
    },
    {
      "cell_type": "markdown",
      "id": "aef80464",
      "metadata": {
        "id": "aef80464"
      },
      "source": [
        "#### Diesel/Fossil Units"
      ]
    },
    {
      "cell_type": "code",
      "execution_count": 33,
      "id": "d9e6becc",
      "metadata": {
        "id": "d9e6becc",
        "outputId": "f9752210-94fa-434e-e5ab-a17fdfc96bc5",
        "colab": {
          "base_uri": "https://localhost:8080/",
          "height": 112
        }
      },
      "outputs": [
        {
          "output_type": "execute_result",
          "data": {
            "text/html": [
              "\n",
              "  <div id=\"df-736b4bab-d619-4a8a-ab8b-33ca70d1fe1a\">\n",
              "    <div class=\"colab-df-container\">\n",
              "      <div>\n",
              "<style scoped>\n",
              "    .dataframe tbody tr th:only-of-type {\n",
              "        vertical-align: middle;\n",
              "    }\n",
              "\n",
              "    .dataframe tbody tr th {\n",
              "        vertical-align: top;\n",
              "    }\n",
              "\n",
              "    .dataframe thead th {\n",
              "        text-align: right;\n",
              "    }\n",
              "</style>\n",
              "<table border=\"1\" class=\"dataframe\">\n",
              "  <thead>\n",
              "    <tr style=\"text-align: right;\">\n",
              "      <th></th>\n",
              "      <th>bus</th>\n",
              "      <th>icost</th>\n",
              "      <th>ocost</th>\n",
              "      <th>scost</th>\n",
              "      <th>pmin</th>\n",
              "      <th>pmax</th>\n",
              "      <th>qmin</th>\n",
              "      <th>qmax</th>\n",
              "      <th>hr</th>\n",
              "    </tr>\n",
              "  </thead>\n",
              "  <tbody>\n",
              "    <tr>\n",
              "      <th>0</th>\n",
              "      <td>0</td>\n",
              "      <td>12</td>\n",
              "      <td>0.4</td>\n",
              "      <td>0</td>\n",
              "      <td>0</td>\n",
              "      <td>0</td>\n",
              "      <td>0</td>\n",
              "      <td>0</td>\n",
              "      <td>NaN</td>\n",
              "    </tr>\n",
              "    <tr>\n",
              "      <th>1</th>\n",
              "      <td>0</td>\n",
              "      <td>12</td>\n",
              "      <td>0.4</td>\n",
              "      <td>0</td>\n",
              "      <td>0</td>\n",
              "      <td>0</td>\n",
              "      <td>0</td>\n",
              "      <td>0</td>\n",
              "      <td>NaN</td>\n",
              "    </tr>\n",
              "  </tbody>\n",
              "</table>\n",
              "</div>\n",
              "      <button class=\"colab-df-convert\" onclick=\"convertToInteractive('df-736b4bab-d619-4a8a-ab8b-33ca70d1fe1a')\"\n",
              "              title=\"Convert this dataframe to an interactive table.\"\n",
              "              style=\"display:none;\">\n",
              "        \n",
              "  <svg xmlns=\"http://www.w3.org/2000/svg\" height=\"24px\"viewBox=\"0 0 24 24\"\n",
              "       width=\"24px\">\n",
              "    <path d=\"M0 0h24v24H0V0z\" fill=\"none\"/>\n",
              "    <path d=\"M18.56 5.44l.94 2.06.94-2.06 2.06-.94-2.06-.94-.94-2.06-.94 2.06-2.06.94zm-11 1L8.5 8.5l.94-2.06 2.06-.94-2.06-.94L8.5 2.5l-.94 2.06-2.06.94zm10 10l.94 2.06.94-2.06 2.06-.94-2.06-.94-.94-2.06-.94 2.06-2.06.94z\"/><path d=\"M17.41 7.96l-1.37-1.37c-.4-.4-.92-.59-1.43-.59-.52 0-1.04.2-1.43.59L10.3 9.45l-7.72 7.72c-.78.78-.78 2.05 0 2.83L4 21.41c.39.39.9.59 1.41.59.51 0 1.02-.2 1.41-.59l7.78-7.78 2.81-2.81c.8-.78.8-2.07 0-2.86zM5.41 20L4 18.59l7.72-7.72 1.47 1.35L5.41 20z\"/>\n",
              "  </svg>\n",
              "      </button>\n",
              "      \n",
              "  <style>\n",
              "    .colab-df-container {\n",
              "      display:flex;\n",
              "      flex-wrap:wrap;\n",
              "      gap: 12px;\n",
              "    }\n",
              "\n",
              "    .colab-df-convert {\n",
              "      background-color: #E8F0FE;\n",
              "      border: none;\n",
              "      border-radius: 50%;\n",
              "      cursor: pointer;\n",
              "      display: none;\n",
              "      fill: #1967D2;\n",
              "      height: 32px;\n",
              "      padding: 0 0 0 0;\n",
              "      width: 32px;\n",
              "    }\n",
              "\n",
              "    .colab-df-convert:hover {\n",
              "      background-color: #E2EBFA;\n",
              "      box-shadow: 0px 1px 2px rgba(60, 64, 67, 0.3), 0px 1px 3px 1px rgba(60, 64, 67, 0.15);\n",
              "      fill: #174EA6;\n",
              "    }\n",
              "\n",
              "    [theme=dark] .colab-df-convert {\n",
              "      background-color: #3B4455;\n",
              "      fill: #D2E3FC;\n",
              "    }\n",
              "\n",
              "    [theme=dark] .colab-df-convert:hover {\n",
              "      background-color: #434B5C;\n",
              "      box-shadow: 0px 1px 3px 1px rgba(0, 0, 0, 0.15);\n",
              "      filter: drop-shadow(0px 1px 2px rgba(0, 0, 0, 0.3));\n",
              "      fill: #FFFFFF;\n",
              "    }\n",
              "  </style>\n",
              "\n",
              "      <script>\n",
              "        const buttonEl =\n",
              "          document.querySelector('#df-736b4bab-d619-4a8a-ab8b-33ca70d1fe1a button.colab-df-convert');\n",
              "        buttonEl.style.display =\n",
              "          google.colab.kernel.accessAllowed ? 'block' : 'none';\n",
              "\n",
              "        async function convertToInteractive(key) {\n",
              "          const element = document.querySelector('#df-736b4bab-d619-4a8a-ab8b-33ca70d1fe1a');\n",
              "          const dataTable =\n",
              "            await google.colab.kernel.invokeFunction('convertToInteractive',\n",
              "                                                     [key], {});\n",
              "          if (!dataTable) return;\n",
              "\n",
              "          const docLinkHtml = 'Like what you see? Visit the ' +\n",
              "            '<a target=\"_blank\" href=https://colab.research.google.com/notebooks/data_table.ipynb>data table notebook</a>'\n",
              "            + ' to learn more about interactive tables.';\n",
              "          element.innerHTML = '';\n",
              "          dataTable['output_type'] = 'display_data';\n",
              "          await google.colab.output.renderOutput(dataTable, element);\n",
              "          const docLink = document.createElement('div');\n",
              "          docLink.innerHTML = docLinkHtml;\n",
              "          element.appendChild(docLink);\n",
              "        }\n",
              "      </script>\n",
              "    </div>\n",
              "  </div>\n",
              "  "
            ],
            "text/plain": [
              "   bus  icost  ocost  scost  pmin  pmax  qmin  qmax  hr\n",
              "0    0     12    0.4      0     0     0     0     0 NaN\n",
              "1    0     12    0.4      0     0     0     0     0 NaN"
            ]
          },
          "metadata": {},
          "execution_count": 33
        }
      ],
      "source": [
        "pd.read_csv(\"1_bus/cgen_dist.csv\")"
      ]
    },
    {
      "cell_type": "markdown",
      "source": [
        "## Case studies\n",
        "Case 1: No diesel candidates\n",
        "\n",
        "Case 2: Solar + Wind + diesel candidated\n",
        "\n",
        "Case 3: Total load reduced from 90 kW to 70 kW"
      ],
      "metadata": {
        "id": "lQQyV9-dw5Ro"
      },
      "id": "lQQyV9-dw5Ro"
    },
    {
      "cell_type": "markdown",
      "id": "4be2784f",
      "metadata": {
        "id": "4be2784f"
      },
      "source": [
        "## Using the invesment and operation planning module from PyEPLAN "
      ]
    },
    {
      "cell_type": "code",
      "execution_count": 34,
      "id": "7327825a",
      "metadata": {
        "id": "7327825a"
      },
      "outputs": [],
      "source": [
        "import pyeplan as pye"
      ]
    },
    {
      "cell_type": "markdown",
      "source": [
        "The module is initialised with inputs including but not limited the following :\n",
        "* The input directory for the data. The input data folder should consists of 'csv' files that contain data description of the load, newtork paramters and generation units as defined [here](https://pyeplan.sps-lab.org/user_guide/input.html#).\n",
        "* ref_bus: Reference node\n",
        "* dshed_cost: Demand Shedding Price\n",
        "* rshed_cost: Renewable Shedding Price\n",
        "* phase: Number of Phases (Default 3)\n",
        "* sbase: Base Apparent Power (Default 1 kW)"
      ],
      "metadata": {
        "id": "I5DA2jF5olgN"
      },
      "id": "I5DA2jF5olgN"
    },
    {
      "cell_type": "code",
      "execution_count": 35,
      "id": "376faa87",
      "metadata": {
        "id": "376faa87"
      },
      "outputs": [],
      "source": [
        "inosys = pye.inosys('1_bus', ref_bus = 0, dshed_cost = 100, rshed_cost = 0, phase = 3, )"
      ]
    },
    {
      "cell_type": "markdown",
      "id": "53240323",
      "metadata": {
        "id": "53240323"
      },
      "source": [
        "## Solving the optimization problem"
      ]
    },
    {
      "cell_type": "markdown",
      "id": "b783abfa",
      "metadata": {
        "id": "b783abfa"
      },
      "source": [
        "PyEPLAN can be used to solve the problem investment and operation planning problems simultaneously. In case no investment candidates are availble, a sole operation planning problem can be run by setting input 'onlyopr = True'. Available solvers inclde both open source solvers include glpk, cbc, and commercial solvers ipopt, gurobi given one has the required licences. If discrete capacities of investment units are available the input 'invest = True' this sets the investement-related decision variables to a binary nature where the unit capacity = nominal. Otherwise,  'invest = False' sets the investement-related decision variables to a continuous nature where the unit capacity <= nominal."
      ]
    },
    {
      "cell_type": "code",
      "execution_count": 36,
      "id": "04b2ff0a",
      "metadata": {
        "id": "04b2ff0a",
        "outputId": "b4d799f4-7790-4b54-b0a6-17c197539526",
        "colab": {
          "base_uri": "https://localhost:8080/"
        }
      },
      "outputs": [
        {
          "output_type": "stream",
          "name": "stdout",
          "text": [
            "GLPSOL: GLPK LP/MIP Solver, v4.65\n",
            "Parameter(s) specified in the command line:\n",
            " --write /tmp/tmptwqm2baa.glpk.raw --wglp /tmp/tmpkas_8eer.glpk.glp --cpxlp\n",
            " /tmp/tmprggumewq.pyomo.lp\n",
            "Reading problem data from '/tmp/tmprggumewq.pyomo.lp'...\n",
            "/tmp/tmprggumewq.pyomo.lp:248: warning: lower bound of variable 'xg(0)' redefined\n",
            "/tmp/tmprggumewq.pyomo.lp:248: warning: upper bound of variable 'xg(0)' redefined\n",
            "42 rows, 31 columns, 81 non-zeros\n",
            "6 integer variables, all of which are binary\n",
            "254 lines were read\n",
            "Writing problem data to '/tmp/tmpkas_8eer.glpk.glp'...\n",
            "217 lines were written\n",
            "GLPK Integer Optimizer, v4.65\n",
            "42 rows, 31 columns, 81 non-zeros\n",
            "6 integer variables, all of which are binary\n",
            "Preprocessing...\n",
            "9 rows, 14 columns, 28 non-zeros\n",
            "6 integer variables, all of which are binary\n",
            "Scaling...\n",
            " A: min|aij| =  3.333e-01  max|aij| =  4.000e+01  ratio =  1.200e+02\n",
            "GM: min|aij| =  7.598e-01  max|aij| =  1.316e+00  ratio =  1.732e+00\n",
            "EQ: min|aij| =  5.774e-01  max|aij| =  1.000e+00  ratio =  1.732e+00\n",
            "2N: min|aij| =  5.000e-01  max|aij| =  1.000e+00  ratio =  2.000e+00\n",
            "Constructing initial basis...\n",
            "Size of triangular part is 9\n",
            "Solving LP relaxation...\n",
            "GLPK Simplex Optimizer, v4.65\n",
            "9 rows, 14 columns, 28 non-zeros\n",
            "*     0: obj =   3.285000000e+06 inf =   0.000e+00 (4)\n",
            "*     8: obj =   1.400000000e+04 inf =   0.000e+00 (0)\n",
            "OPTIMAL LP SOLUTION FOUND\n",
            "Integer optimization begins...\n",
            "Long-step dual simplex will be used\n",
            "+     8: mip =     not found yet >=              -inf        (1; 0)\n",
            "+    14: >>>>>   2.020000000e+04 >=   1.747500000e+04  13.5% (5; 0)\n",
            "+    17: mip =   2.020000000e+04 >=     tree is empty   0.0% (0; 9)\n",
            "INTEGER OPTIMAL SOLUTION FOUND\n",
            "Time used:   0.0 secs\n",
            "Memory used: 0.1 Mb (77084 bytes)\n",
            "Writing MIP solution to '/tmp/tmptwqm2baa.glpk.raw'...\n",
            "82 lines were written\n"
          ]
        }
      ],
      "source": [
        "inosys.solve(solver = 'glpk', onlyopr = False, invest = True, )"
      ]
    },
    {
      "cell_type": "markdown",
      "id": "9257c25d",
      "metadata": {
        "id": "9257c25d"
      },
      "source": [
        "## Results"
      ]
    },
    {
      "cell_type": "markdown",
      "id": "b114de27",
      "metadata": {
        "id": "b114de27"
      },
      "source": [
        "A folder named 'results' will be created with the output of the optimal solution to the planning problem. The different result files are defined [here](https://pyeplan.sps-lab.org/user_guide/output.html). Below we show the capital costs and operational costs obtained to satify the load in the 5-bus network."
      ]
    },
    {
      "cell_type": "markdown",
      "id": "4a3b4d1e",
      "metadata": {
        "id": "4a3b4d1e"
      },
      "source": [
        "### Total Investment and Operational Costs"
      ]
    },
    {
      "cell_type": "code",
      "execution_count": 37,
      "id": "b92cbcc5",
      "metadata": {
        "id": "b92cbcc5",
        "outputId": "369d70ba-b90e-4d25-a41c-9146737c3178",
        "colab": {
          "base_uri": "https://localhost:8080/",
          "height": 112
        }
      },
      "outputs": [
        {
          "output_type": "execute_result",
          "data": {
            "text/html": [
              "\n",
              "  <div id=\"df-d1e71b0d-0028-4ef5-b1af-035edf17d9ca\">\n",
              "    <div class=\"colab-df-container\">\n",
              "      <div>\n",
              "<style scoped>\n",
              "    .dataframe tbody tr th:only-of-type {\n",
              "        vertical-align: middle;\n",
              "    }\n",
              "\n",
              "    .dataframe tbody tr th {\n",
              "        vertical-align: top;\n",
              "    }\n",
              "\n",
              "    .dataframe thead th {\n",
              "        text-align: right;\n",
              "    }\n",
              "</style>\n",
              "<table border=\"1\" class=\"dataframe\">\n",
              "  <thead>\n",
              "    <tr style=\"text-align: right;\">\n",
              "      <th></th>\n",
              "      <th>total costs</th>\n",
              "      <th>20200.0</th>\n",
              "    </tr>\n",
              "  </thead>\n",
              "  <tbody>\n",
              "    <tr>\n",
              "      <th>0</th>\n",
              "      <td>total investment costs</td>\n",
              "      <td>20200.0</td>\n",
              "    </tr>\n",
              "    <tr>\n",
              "      <th>1</th>\n",
              "      <td>total operation costs</td>\n",
              "      <td>0.0</td>\n",
              "    </tr>\n",
              "  </tbody>\n",
              "</table>\n",
              "</div>\n",
              "      <button class=\"colab-df-convert\" onclick=\"convertToInteractive('df-d1e71b0d-0028-4ef5-b1af-035edf17d9ca')\"\n",
              "              title=\"Convert this dataframe to an interactive table.\"\n",
              "              style=\"display:none;\">\n",
              "        \n",
              "  <svg xmlns=\"http://www.w3.org/2000/svg\" height=\"24px\"viewBox=\"0 0 24 24\"\n",
              "       width=\"24px\">\n",
              "    <path d=\"M0 0h24v24H0V0z\" fill=\"none\"/>\n",
              "    <path d=\"M18.56 5.44l.94 2.06.94-2.06 2.06-.94-2.06-.94-.94-2.06-.94 2.06-2.06.94zm-11 1L8.5 8.5l.94-2.06 2.06-.94-2.06-.94L8.5 2.5l-.94 2.06-2.06.94zm10 10l.94 2.06.94-2.06 2.06-.94-2.06-.94-.94-2.06-.94 2.06-2.06.94z\"/><path d=\"M17.41 7.96l-1.37-1.37c-.4-.4-.92-.59-1.43-.59-.52 0-1.04.2-1.43.59L10.3 9.45l-7.72 7.72c-.78.78-.78 2.05 0 2.83L4 21.41c.39.39.9.59 1.41.59.51 0 1.02-.2 1.41-.59l7.78-7.78 2.81-2.81c.8-.78.8-2.07 0-2.86zM5.41 20L4 18.59l7.72-7.72 1.47 1.35L5.41 20z\"/>\n",
              "  </svg>\n",
              "      </button>\n",
              "      \n",
              "  <style>\n",
              "    .colab-df-container {\n",
              "      display:flex;\n",
              "      flex-wrap:wrap;\n",
              "      gap: 12px;\n",
              "    }\n",
              "\n",
              "    .colab-df-convert {\n",
              "      background-color: #E8F0FE;\n",
              "      border: none;\n",
              "      border-radius: 50%;\n",
              "      cursor: pointer;\n",
              "      display: none;\n",
              "      fill: #1967D2;\n",
              "      height: 32px;\n",
              "      padding: 0 0 0 0;\n",
              "      width: 32px;\n",
              "    }\n",
              "\n",
              "    .colab-df-convert:hover {\n",
              "      background-color: #E2EBFA;\n",
              "      box-shadow: 0px 1px 2px rgba(60, 64, 67, 0.3), 0px 1px 3px 1px rgba(60, 64, 67, 0.15);\n",
              "      fill: #174EA6;\n",
              "    }\n",
              "\n",
              "    [theme=dark] .colab-df-convert {\n",
              "      background-color: #3B4455;\n",
              "      fill: #D2E3FC;\n",
              "    }\n",
              "\n",
              "    [theme=dark] .colab-df-convert:hover {\n",
              "      background-color: #434B5C;\n",
              "      box-shadow: 0px 1px 3px 1px rgba(0, 0, 0, 0.15);\n",
              "      filter: drop-shadow(0px 1px 2px rgba(0, 0, 0, 0.3));\n",
              "      fill: #FFFFFF;\n",
              "    }\n",
              "  </style>\n",
              "\n",
              "      <script>\n",
              "        const buttonEl =\n",
              "          document.querySelector('#df-d1e71b0d-0028-4ef5-b1af-035edf17d9ca button.colab-df-convert');\n",
              "        buttonEl.style.display =\n",
              "          google.colab.kernel.accessAllowed ? 'block' : 'none';\n",
              "\n",
              "        async function convertToInteractive(key) {\n",
              "          const element = document.querySelector('#df-d1e71b0d-0028-4ef5-b1af-035edf17d9ca');\n",
              "          const dataTable =\n",
              "            await google.colab.kernel.invokeFunction('convertToInteractive',\n",
              "                                                     [key], {});\n",
              "          if (!dataTable) return;\n",
              "\n",
              "          const docLinkHtml = 'Like what you see? Visit the ' +\n",
              "            '<a target=\"_blank\" href=https://colab.research.google.com/notebooks/data_table.ipynb>data table notebook</a>'\n",
              "            + ' to learn more about interactive tables.';\n",
              "          element.innerHTML = '';\n",
              "          dataTable['output_type'] = 'display_data';\n",
              "          await google.colab.output.renderOutput(dataTable, element);\n",
              "          const docLink = document.createElement('div');\n",
              "          docLink.innerHTML = docLinkHtml;\n",
              "          element.appendChild(docLink);\n",
              "        }\n",
              "      </script>\n",
              "    </div>\n",
              "  </div>\n",
              "  "
            ],
            "text/plain": [
              "              total costs  20200.0\n",
              "0  total investment costs  20200.0\n",
              "1   total operation costs      0.0"
            ]
          },
          "metadata": {},
          "execution_count": 37
        }
      ],
      "source": [
        "pd.read_csv(\"1_bus/results/obj.csv\")"
      ]
    },
    {
      "cell_type": "markdown",
      "id": "d1eb09d0",
      "metadata": {
        "id": "d1eb09d0"
      },
      "source": [
        "### Number and capacity of wind units installed"
      ]
    },
    {
      "cell_type": "markdown",
      "id": "bcd7228e",
      "metadata": {
        "id": "bcd7228e"
      },
      "source": [
        "The capacity and location of wind units installed is:"
      ]
    },
    {
      "cell_type": "code",
      "execution_count": 39,
      "id": "d233c446",
      "metadata": {
        "hide_input": true,
        "id": "d233c446",
        "outputId": "105b0641-8a47-4ea6-fc58-9b057396dbe3",
        "colab": {
          "base_uri": "https://localhost:8080/",
          "height": 143
        }
      },
      "outputs": [
        {
          "output_type": "execute_result",
          "data": {
            "text/html": [
              "<style  type=\"text/css\" >\n",
              "</style><table id=\"T_738f8cc4_68b4_11ec_894f_0242ac1c0002\" class=\"dataframe\"><thead>    <tr>        <th class=\"blank level0\" ></th>        <th class=\"col_heading level0 col0\" >Installed Capacity (kW)</th>        <th class=\"col_heading level0 col1\" >Bus</th>    </tr>    <tr>        <th class=\"index_name level0\" >Unit</th>        <th class=\"blank\" ></th>        <th class=\"blank\" ></th>    </tr></thead><tbody>\n",
              "                <tr>\n",
              "                        <th id=\"T_738f8cc4_68b4_11ec_894f_0242ac1c0002level0_row0\" class=\"row_heading level0 row0\" >1</th>\n",
              "                        <td id=\"T_738f8cc4_68b4_11ec_894f_0242ac1c0002row0_col0\" class=\"data row0 col0\" >50.000000</td>\n",
              "                        <td id=\"T_738f8cc4_68b4_11ec_894f_0242ac1c0002row0_col1\" class=\"data row0 col1\" >0</td>\n",
              "            </tr>\n",
              "            <tr>\n",
              "                        <th id=\"T_738f8cc4_68b4_11ec_894f_0242ac1c0002level0_row1\" class=\"row_heading level0 row1\" >2</th>\n",
              "                        <td id=\"T_738f8cc4_68b4_11ec_894f_0242ac1c0002row1_col0\" class=\"data row1 col0\" >0.000000</td>\n",
              "                        <td id=\"T_738f8cc4_68b4_11ec_894f_0242ac1c0002row1_col1\" class=\"data row1 col1\" >0</td>\n",
              "            </tr>\n",
              "    </tbody></table>"
            ],
            "text/plain": [
              "<pandas.io.formats.style.Styler at 0x7f0ff19c16d0>"
            ]
          },
          "metadata": {},
          "execution_count": 39
        }
      ],
      "source": [
        "import numpy as np\n",
        "cwin = pd.read_csv(\"1_bus/cwin_dist.csv\")\n",
        "iwin = pd.read_csv(\"1_bus/results/xw.csv\")\n",
        "cwin['Unit'] = (np.arange(1,len(iwin.columns)+1))\n",
        "unit = cwin.loc[:,'Unit']\n",
        "bus = np.array(cwin.loc[:,'bus'])\n",
        "out_win =(((cwin.loc[:,'pmax']*round(iwin.loc[0:,].T,2))[0]).to_frame().set_index(unit)).rename(columns={0: 'Installed Capacity (kW)'})\n",
        "out_win['Bus'] = bus\n",
        "out_win.style"
      ]
    },
    {
      "cell_type": "markdown",
      "id": "cced6bd4",
      "metadata": {
        "id": "cced6bd4"
      },
      "source": [
        "### Number and capacity of solar units installed"
      ]
    },
    {
      "cell_type": "markdown",
      "id": "e818a8d9",
      "metadata": {
        "id": "e818a8d9"
      },
      "source": [
        "The capacity and location of solar units installed is:"
      ]
    },
    {
      "cell_type": "code",
      "execution_count": 41,
      "id": "fd427472",
      "metadata": {
        "id": "fd427472",
        "outputId": "0389261c-adf1-43ae-fba8-788e5689be1b",
        "colab": {
          "base_uri": "https://localhost:8080/",
          "height": 143
        }
      },
      "outputs": [
        {
          "output_type": "execute_result",
          "data": {
            "text/html": [
              "<style  type=\"text/css\" >\n",
              "</style><table id=\"T_739a9f38_68b4_11ec_894f_0242ac1c0002\" class=\"dataframe\"><thead>    <tr>        <th class=\"blank level0\" ></th>        <th class=\"col_heading level0 col0\" >Installed Capacity (kW)</th>        <th class=\"col_heading level0 col1\" >Bus</th>    </tr>    <tr>        <th class=\"index_name level0\" >Unit</th>        <th class=\"blank\" ></th>        <th class=\"blank\" ></th>    </tr></thead><tbody>\n",
              "                <tr>\n",
              "                        <th id=\"T_739a9f38_68b4_11ec_894f_0242ac1c0002level0_row0\" class=\"row_heading level0 row0\" >1</th>\n",
              "                        <td id=\"T_739a9f38_68b4_11ec_894f_0242ac1c0002row0_col0\" class=\"data row0 col0\" >50.000000</td>\n",
              "                        <td id=\"T_739a9f38_68b4_11ec_894f_0242ac1c0002row0_col1\" class=\"data row0 col1\" >0</td>\n",
              "            </tr>\n",
              "            <tr>\n",
              "                        <th id=\"T_739a9f38_68b4_11ec_894f_0242ac1c0002level0_row1\" class=\"row_heading level0 row1\" >2</th>\n",
              "                        <td id=\"T_739a9f38_68b4_11ec_894f_0242ac1c0002row1_col0\" class=\"data row1 col0\" >50.000000</td>\n",
              "                        <td id=\"T_739a9f38_68b4_11ec_894f_0242ac1c0002row1_col1\" class=\"data row1 col1\" >0</td>\n",
              "            </tr>\n",
              "    </tbody></table>"
            ],
            "text/plain": [
              "<pandas.io.formats.style.Styler at 0x7f0ff198e950>"
            ]
          },
          "metadata": {},
          "execution_count": 41
        }
      ],
      "source": [
        "csol = pd.read_csv(\"1_bus/csol_dist.csv\")\n",
        "isol = pd.read_csv(\"1_bus/results/xs.csv\")\n",
        "csol['Unit'] = (np.arange(1,len(isol.columns)+1))\n",
        "unit = csol.loc[:,'Unit']\n",
        "bus = np.array(csol.loc[:,'bus'])\n",
        "out_sol =(((csol.loc[:,'pmax']*round(isol.loc[0:,].T,2))[0]).to_frame().set_index(unit)).rename(columns={0: 'Installed Capacity (kW)'})\n",
        "out_sol['Bus'] = bus\n",
        "out_sol.style"
      ]
    },
    {
      "cell_type": "markdown",
      "id": "2b881701",
      "metadata": {
        "id": "2b881701"
      },
      "source": [
        "### Number and capacity of diesel units installed"
      ]
    },
    {
      "cell_type": "markdown",
      "id": "18d48505",
      "metadata": {
        "id": "18d48505"
      },
      "source": [
        "The capacity and location of diesel units installed is:"
      ]
    },
    {
      "cell_type": "code",
      "execution_count": 43,
      "id": "76379d56",
      "metadata": {
        "id": "76379d56",
        "outputId": "941da301-9f85-4b69-cc11-e6c6af921c7d",
        "colab": {
          "base_uri": "https://localhost:8080/",
          "height": 143
        }
      },
      "outputs": [
        {
          "output_type": "execute_result",
          "data": {
            "text/html": [
              "<style  type=\"text/css\" >\n",
              "</style><table id=\"T_73a6a24c_68b4_11ec_894f_0242ac1c0002\" class=\"dataframe\"><thead>    <tr>        <th class=\"blank level0\" ></th>        <th class=\"col_heading level0 col0\" >Installed Capacity (kW)</th>        <th class=\"col_heading level0 col1\" >Bus</th>    </tr>    <tr>        <th class=\"index_name level0\" >Unit</th>        <th class=\"blank\" ></th>        <th class=\"blank\" ></th>    </tr></thead><tbody>\n",
              "                <tr>\n",
              "                        <th id=\"T_73a6a24c_68b4_11ec_894f_0242ac1c0002level0_row0\" class=\"row_heading level0 row0\" >1</th>\n",
              "                        <td id=\"T_73a6a24c_68b4_11ec_894f_0242ac1c0002row0_col0\" class=\"data row0 col0\" >0.000000</td>\n",
              "                        <td id=\"T_73a6a24c_68b4_11ec_894f_0242ac1c0002row0_col1\" class=\"data row0 col1\" >0</td>\n",
              "            </tr>\n",
              "            <tr>\n",
              "                        <th id=\"T_73a6a24c_68b4_11ec_894f_0242ac1c0002level0_row1\" class=\"row_heading level0 row1\" >2</th>\n",
              "                        <td id=\"T_73a6a24c_68b4_11ec_894f_0242ac1c0002row1_col0\" class=\"data row1 col0\" >0.000000</td>\n",
              "                        <td id=\"T_73a6a24c_68b4_11ec_894f_0242ac1c0002row1_col1\" class=\"data row1 col1\" >0</td>\n",
              "            </tr>\n",
              "    </tbody></table>"
            ],
            "text/plain": [
              "<pandas.io.formats.style.Styler at 0x7f10001e62d0>"
            ]
          },
          "metadata": {},
          "execution_count": 43
        }
      ],
      "source": [
        "cgen = pd.read_csv(\"1_bus/cgen_dist.csv\")\n",
        "igen = pd.read_csv(\"1_bus/results/xg.csv\")\n",
        "cgen['Unit'] = (np.arange(1,len(igen.columns)+1))\n",
        "unit = cgen.loc[:,'Unit']\n",
        "bus = np.array(cgen.loc[:,'bus'])\n",
        "out_gen =(((cgen.loc[:,'pmax']*round(igen.loc[0:,].T,2))[0]).to_frame().set_index(unit)).rename(columns={0: 'Installed Capacity (kW)'})\n",
        "out_gen['Bus'] = bus\n",
        "out_gen.style"
      ]
    },
    {
      "cell_type": "markdown",
      "id": "5f299d31",
      "metadata": {
        "id": "5f299d31"
      },
      "source": [
        "### Amount of load curtailed"
      ]
    },
    {
      "cell_type": "markdown",
      "id": "9a1b8ac5",
      "metadata": {
        "id": "9a1b8ac5"
      },
      "source": [
        "The level of load demand that has been curtailed at each node is:"
      ]
    },
    {
      "cell_type": "code",
      "execution_count": 44,
      "id": "ac87ab6d",
      "metadata": {
        "id": "ac87ab6d",
        "outputId": "f40b6341-b724-4ffc-80cc-6288b77ad469",
        "colab": {
          "base_uri": "https://localhost:8080/",
          "height": 112
        }
      },
      "outputs": [
        {
          "output_type": "execute_result",
          "data": {
            "text/html": [
              "<style  type=\"text/css\" >\n",
              "</style><table id=\"T_73a9a44c_68b4_11ec_894f_0242ac1c0002\" class=\"dataframe\"><thead>    <tr>        <th class=\"blank level0\" ></th>        <th class=\"col_heading level0 col0\" >0</th>    </tr>    <tr>        <th class=\"index_name level0\" >Hour</th>        <th class=\"blank\" ></th>    </tr></thead><tbody>\n",
              "                <tr>\n",
              "                        <th id=\"T_73a9a44c_68b4_11ec_894f_0242ac1c0002level0_row0\" class=\"row_heading level0 row0\" >0</th>\n",
              "                        <td id=\"T_73a9a44c_68b4_11ec_894f_0242ac1c0002row0_col0\" class=\"data row0 col0\" >0.000000</td>\n",
              "            </tr>\n",
              "    </tbody></table>"
            ],
            "text/plain": [
              "<pandas.io.formats.style.Styler at 0x7f0ff19cc5d0>"
            ]
          },
          "metadata": {},
          "execution_count": 44
        }
      ],
      "source": [
        "pds =pd.read_csv(\"1_bus/results/pds.csv\")\n",
        "pds.index.name ='Hour'\n",
        "pds.style"
      ]
    }
  ],
  "metadata": {
    "celltoolbar": "Raw Cell Format",
    "kernelspec": {
      "display_name": "Python 3 (ipykernel)",
      "language": "python",
      "name": "python3"
    },
    "language_info": {
      "codemirror_mode": {
        "name": "ipython",
        "version": 3
      },
      "file_extension": ".py",
      "mimetype": "text/x-python",
      "name": "python",
      "nbconvert_exporter": "python",
      "pygments_lexer": "ipython3",
      "version": "3.9.7"
    },
    "colab": {
      "name": "1-bus Planning Example .ipynb",
      "provenance": [],
      "collapsed_sections": [],
      "include_colab_link": true
    }
  },
  "nbformat": 4,
  "nbformat_minor": 5
}