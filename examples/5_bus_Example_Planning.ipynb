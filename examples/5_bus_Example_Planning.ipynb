{
  "cells": [
    {
      "cell_type": "markdown",
      "metadata": {
        "id": "view-in-github",
        "colab_type": "text"
      },
      "source": [
        "<a href=\"https://colab.research.google.com/github/apetros/pyeplan/blob/master/examples/5_bus_Example_Planning.ipynb\" target=\"_parent\"><img src=\"https://colab.research.google.com/assets/colab-badge.svg\" alt=\"Open In Colab\"/></a>"
      ]
    },
    {
      "cell_type": "markdown",
      "id": "b243dcf7",
      "metadata": {
        "id": "b243dcf7"
      },
      "source": [
        "# Investment and Operation Planning Module"
      ]
    },
    {
      "cell_type": "markdown",
      "id": "8f2b86cc",
      "metadata": {
        "id": "8f2b86cc"
      },
      "source": [
        "This example considers a network of 5 nodes, with a load connected at each node. One representative day with three operational hours is used to describe the potential operational scenarios. Three types of investment candidate generators i.e, battery units, solar units and diesel generation units. We showcase how the Investment and Operation Planning Modules of PyEPLAN can be used to derive optimal units to be installed in the network.\n",
        "\n",
        "This example is designed to be run on Google Colab."
      ]
    },
    {
      "cell_type": "code",
      "source": [
        "!rm -r sample_data\n",
        "!rm -r wat_inv"
      ],
      "metadata": {
        "id": "-y4OUILDqzMz"
      },
      "id": "-y4OUILDqzMz",
      "execution_count": null,
      "outputs": []
    },
    {
      "cell_type": "code",
      "source": [
        "!apt-get install -qq subversion\n",
        "!svn export https://github.com/apetros/pyeplan/trunk/examples/wat_inv"
      ],
      "metadata": {
        "id": "16WFsHFcq7Bg"
      },
      "id": "16WFsHFcq7Bg",
      "execution_count": null,
      "outputs": []
    },
    {
      "cell_type": "code",
      "source": [
        "!apt-get install -y -qq glpk-utils\n",
        "!apt-get install -y -qq coinor-cbc"
      ],
      "metadata": {
        "id": "o4Iy5dv7rAVt"
      },
      "id": "o4Iy5dv7rAVt",
      "execution_count": null,
      "outputs": []
    },
    {
      "cell_type": "code",
      "source": [
        "!pip install -q pyeplan"
      ],
      "metadata": {
        "id": "Kmj3FJBorUa6"
      },
      "id": "Kmj3FJBorUa6",
      "execution_count": null,
      "outputs": []
    },
    {
      "cell_type": "code",
      "source": [
        "!pip install git+git://github.com/apetros/pyeplan@master"
      ],
      "metadata": {
        "id": "9sFEfn51rYqj"
      },
      "id": "9sFEfn51rYqj",
      "execution_count": null,
      "outputs": []
    },
    {
      "cell_type": "markdown",
      "id": "33757864",
      "metadata": {
        "id": "33757864"
      },
      "source": [
        "## Importing the invesment and operation planning module from PyEPLAN "
      ]
    },
    {
      "cell_type": "code",
      "execution_count": null,
      "id": "10f03974",
      "metadata": {
        "id": "10f03974"
      },
      "outputs": [],
      "source": [
        "from pyeplan import inosys"
      ]
    },
    {
      "cell_type": "markdown",
      "id": "d418861c",
      "metadata": {
        "id": "d418861c"
      },
      "source": [
        "## Defining the input data"
      ]
    },
    {
      "cell_type": "markdown",
      "id": "4bb0987d",
      "metadata": {
        "id": "4bb0987d"
      },
      "source": [
        "The module is initialised with inputs including but not limited the following :\n",
        "* The input directory for the data. The input data folder should consists of 'csv' files that contain data description of the load, newtork paramters and generation units as defined [here](https://pyeplan.sps-lab.org/user_guide/input.html#).\n",
        "* ref_bus: Reference node\n",
        "* dshed_cost: Demand Shedding Price\n",
        "* rshed_cost: Renewable Shedding Price\n",
        "* phase: Number of Phases (Default 3)\n",
        "* sbase: Base Apparent Power (Default 1 kW)"
      ]
    },
    {
      "cell_type": "code",
      "execution_count": null,
      "id": "5990195c",
      "metadata": {
        "id": "5990195c"
      },
      "outputs": [],
      "source": [
        "inosys = inosys('5_bus', ref_bus = 0, dshed_cost = 100, rshed_cost = 0, phase = 3,)"
      ]
    },
    {
      "cell_type": "markdown",
      "id": "f04a63b7",
      "metadata": {
        "id": "f04a63b7"
      },
      "source": [
        "Some of the data inputs include:"
      ]
    },
    {
      "cell_type": "markdown",
      "id": "ad706cdd",
      "metadata": {
        "id": "ad706cdd"
      },
      "source": [
        "### Defining the total load demand at each hour"
      ]
    },
    {
      "cell_type": "markdown",
      "id": "5809679d",
      "metadata": {
        "id": "5809679d"
      },
      "source": [
        "The total active power consumption at each of the three (3) hours for one (1) representative day is:"
      ]
    },
    {
      "cell_type": "code",
      "execution_count": null,
      "id": "fb9de999",
      "metadata": {
        "id": "fb9de999",
        "outputId": "6c18b01a-f344-478f-b998-e38c4b294bde"
      },
      "outputs": [
        {
          "data": {
            "text/html": [
              "<div>\n",
              "<style scoped>\n",
              "    .dataframe tbody tr th:only-of-type {\n",
              "        vertical-align: middle;\n",
              "    }\n",
              "\n",
              "    .dataframe tbody tr th {\n",
              "        vertical-align: top;\n",
              "    }\n",
              "\n",
              "    .dataframe thead th {\n",
              "        text-align: right;\n",
              "    }\n",
              "</style>\n",
              "<table border=\"1\" class=\"dataframe\">\n",
              "  <thead>\n",
              "    <tr style=\"text-align: right;\">\n",
              "      <th></th>\n",
              "      <th>0</th>\n",
              "    </tr>\n",
              "  </thead>\n",
              "  <tbody>\n",
              "    <tr>\n",
              "      <th>0</th>\n",
              "      <td>24.6</td>\n",
              "    </tr>\n",
              "    <tr>\n",
              "      <th>1</th>\n",
              "      <td>55.4</td>\n",
              "    </tr>\n",
              "    <tr>\n",
              "      <th>2</th>\n",
              "      <td>80.7</td>\n",
              "    </tr>\n",
              "  </tbody>\n",
              "</table>\n",
              "</div>"
            ],
            "text/plain": [
              "      0\n",
              "0  24.6\n",
              "1  55.4\n",
              "2  80.7"
            ]
          },
          "execution_count": 3,
          "metadata": {},
          "output_type": "execute_result"
        }
      ],
      "source": [
        "import pandas as pd\n",
        "pd.read_csv(\"5_bus/prep_dist.csv\")"
      ]
    },
    {
      "cell_type": "markdown",
      "id": "578ccc50",
      "metadata": {
        "id": "578ccc50"
      },
      "source": [
        "### Defining the input investment candidates"
      ]
    },
    {
      "cell_type": "markdown",
      "id": "63d5ea19",
      "metadata": {
        "id": "63d5ea19"
      },
      "source": [
        "#### Battery Units"
      ]
    },
    {
      "cell_type": "code",
      "execution_count": null,
      "id": "c885c3f9",
      "metadata": {
        "id": "c885c3f9",
        "outputId": "0c29c984-a37c-4768-a43b-2201118658a2"
      },
      "outputs": [
        {
          "data": {
            "text/html": [
              "<div>\n",
              "<style scoped>\n",
              "    .dataframe tbody tr th:only-of-type {\n",
              "        vertical-align: middle;\n",
              "    }\n",
              "\n",
              "    .dataframe tbody tr th {\n",
              "        vertical-align: top;\n",
              "    }\n",
              "\n",
              "    .dataframe thead th {\n",
              "        text-align: right;\n",
              "    }\n",
              "</style>\n",
              "<table border=\"1\" class=\"dataframe\">\n",
              "  <thead>\n",
              "    <tr style=\"text-align: right;\">\n",
              "      <th></th>\n",
              "      <th>bus</th>\n",
              "      <th>icost</th>\n",
              "      <th>ocost</th>\n",
              "      <th>scost</th>\n",
              "      <th>ec</th>\n",
              "      <th>ed</th>\n",
              "      <th>emax</th>\n",
              "      <th>emin</th>\n",
              "      <th>eini</th>\n",
              "      <th>pmax</th>\n",
              "      <th>pmin</th>\n",
              "      <th>qmax</th>\n",
              "      <th>qmin</th>\n",
              "    </tr>\n",
              "  </thead>\n",
              "  <tbody>\n",
              "    <tr>\n",
              "      <th>0</th>\n",
              "      <td>0</td>\n",
              "      <td>347.2176</td>\n",
              "      <td>0</td>\n",
              "      <td>0</td>\n",
              "      <td>0.92</td>\n",
              "      <td>0.92</td>\n",
              "      <td>1200</td>\n",
              "      <td>0</td>\n",
              "      <td>600</td>\n",
              "      <td>100</td>\n",
              "      <td>0</td>\n",
              "      <td>0</td>\n",
              "      <td>0</td>\n",
              "    </tr>\n",
              "    <tr>\n",
              "      <th>1</th>\n",
              "      <td>4</td>\n",
              "      <td>347.2176</td>\n",
              "      <td>0</td>\n",
              "      <td>0</td>\n",
              "      <td>0.92</td>\n",
              "      <td>0.92</td>\n",
              "      <td>1200</td>\n",
              "      <td>0</td>\n",
              "      <td>600</td>\n",
              "      <td>100</td>\n",
              "      <td>0</td>\n",
              "      <td>0</td>\n",
              "      <td>0</td>\n",
              "    </tr>\n",
              "  </tbody>\n",
              "</table>\n",
              "</div>"
            ],
            "text/plain": [
              "   bus     icost  ocost  scost    ec    ed  emax  emin  eini  pmax  pmin  \\\n",
              "0    0  347.2176      0      0  0.92  0.92  1200     0   600   100     0   \n",
              "1    4  347.2176      0      0  0.92  0.92  1200     0   600   100     0   \n",
              "\n",
              "   qmax  qmin  \n",
              "0     0     0  \n",
              "1     0     0  "
            ]
          },
          "execution_count": 4,
          "metadata": {},
          "output_type": "execute_result"
        }
      ],
      "source": [
        "pd.read_csv(\"5_bus/cbat_dist.csv\")"
      ]
    },
    {
      "cell_type": "markdown",
      "id": "3023479d",
      "metadata": {
        "id": "3023479d"
      },
      "source": [
        "#### Solar PV Units"
      ]
    },
    {
      "cell_type": "code",
      "execution_count": null,
      "id": "41ccc977",
      "metadata": {
        "id": "41ccc977",
        "outputId": "320113de-4f0a-4b88-96b6-ca7dcd1d16bd"
      },
      "outputs": [
        {
          "data": {
            "text/html": [
              "<div>\n",
              "<style scoped>\n",
              "    .dataframe tbody tr th:only-of-type {\n",
              "        vertical-align: middle;\n",
              "    }\n",
              "\n",
              "    .dataframe tbody tr th {\n",
              "        vertical-align: top;\n",
              "    }\n",
              "\n",
              "    .dataframe thead th {\n",
              "        text-align: right;\n",
              "    }\n",
              "</style>\n",
              "<table border=\"1\" class=\"dataframe\">\n",
              "  <thead>\n",
              "    <tr style=\"text-align: right;\">\n",
              "      <th></th>\n",
              "      <th>bus</th>\n",
              "      <th>icost</th>\n",
              "      <th>ocost</th>\n",
              "      <th>scost</th>\n",
              "      <th>pmin</th>\n",
              "      <th>pmax</th>\n",
              "      <th>qmin</th>\n",
              "      <th>qmax</th>\n",
              "    </tr>\n",
              "  </thead>\n",
              "  <tbody>\n",
              "    <tr>\n",
              "      <th>0</th>\n",
              "      <td>0</td>\n",
              "      <td>108.766</td>\n",
              "      <td>0</td>\n",
              "      <td>0</td>\n",
              "      <td>0</td>\n",
              "      <td>50</td>\n",
              "      <td>-50</td>\n",
              "      <td>50</td>\n",
              "    </tr>\n",
              "    <tr>\n",
              "      <th>1</th>\n",
              "      <td>4</td>\n",
              "      <td>108.766</td>\n",
              "      <td>0</td>\n",
              "      <td>0</td>\n",
              "      <td>0</td>\n",
              "      <td>50</td>\n",
              "      <td>-50</td>\n",
              "      <td>50</td>\n",
              "    </tr>\n",
              "  </tbody>\n",
              "</table>\n",
              "</div>"
            ],
            "text/plain": [
              "   bus    icost  ocost  scost  pmin  pmax  qmin  qmax\n",
              "0    0  108.766      0      0     0    50   -50    50\n",
              "1    4  108.766      0      0     0    50   -50    50"
            ]
          },
          "execution_count": 5,
          "metadata": {},
          "output_type": "execute_result"
        }
      ],
      "source": [
        "pd.read_csv(\"5_bus/csol_dist.csv\")"
      ]
    },
    {
      "cell_type": "markdown",
      "id": "faaa0c40",
      "metadata": {
        "id": "faaa0c40"
      },
      "source": [
        "#### Diesel/Fossil Units"
      ]
    },
    {
      "cell_type": "code",
      "execution_count": null,
      "id": "0a1b1314",
      "metadata": {
        "id": "0a1b1314",
        "outputId": "af5241cf-aad1-43b2-c5bf-a0a99d6f907c"
      },
      "outputs": [
        {
          "data": {
            "text/html": [
              "<div>\n",
              "<style scoped>\n",
              "    .dataframe tbody tr th:only-of-type {\n",
              "        vertical-align: middle;\n",
              "    }\n",
              "\n",
              "    .dataframe tbody tr th {\n",
              "        vertical-align: top;\n",
              "    }\n",
              "\n",
              "    .dataframe thead th {\n",
              "        text-align: right;\n",
              "    }\n",
              "</style>\n",
              "<table border=\"1\" class=\"dataframe\">\n",
              "  <thead>\n",
              "    <tr style=\"text-align: right;\">\n",
              "      <th></th>\n",
              "      <th>bus</th>\n",
              "      <th>icost</th>\n",
              "      <th>ocost</th>\n",
              "      <th>scost</th>\n",
              "      <th>pmin</th>\n",
              "      <th>pmax</th>\n",
              "      <th>qmin</th>\n",
              "      <th>qmax</th>\n",
              "      <th>hr</th>\n",
              "    </tr>\n",
              "  </thead>\n",
              "  <tbody>\n",
              "    <tr>\n",
              "      <th>0</th>\n",
              "      <td>0</td>\n",
              "      <td>12.0345</td>\n",
              "      <td>0.27</td>\n",
              "      <td>0</td>\n",
              "      <td>0</td>\n",
              "      <td>100</td>\n",
              "      <td>0</td>\n",
              "      <td>0</td>\n",
              "      <td>3</td>\n",
              "    </tr>\n",
              "  </tbody>\n",
              "</table>\n",
              "</div>"
            ],
            "text/plain": [
              "   bus    icost  ocost  scost  pmin  pmax  qmin  qmax  hr\n",
              "0    0  12.0345   0.27      0     0   100     0     0   3"
            ]
          },
          "execution_count": 6,
          "metadata": {},
          "output_type": "execute_result"
        }
      ],
      "source": [
        "pd.read_csv(\"5_bus/cgen_dist.csv\")"
      ]
    },
    {
      "cell_type": "markdown",
      "id": "c31d0565",
      "metadata": {
        "id": "c31d0565"
      },
      "source": [
        "## Solving the optimization problem"
      ]
    },
    {
      "cell_type": "markdown",
      "id": "03cb00ea",
      "metadata": {
        "id": "03cb00ea"
      },
      "source": [
        "PyEPLAN can be used to solve the problem investment and operation planning problems simultaneously. In case no investment candidates are availble, a sole operation planning problem can be run by setting input 'onlyopr = True'. Available solvers inclde both open source solvers include glpk, cbc, and commercial solvers ipopt, gurobi given one has the required licences. If discrete capacities of investment units are available the input 'invest = True' this sets the investement-related decision variables to a binary nature where the unit capacity = maximum capacity. Otherwise,  'invest = False' sets the investement-related decision variables to a continuous nature where the unit capacity <= maximum capacity."
      ]
    },
    {
      "cell_type": "code",
      "execution_count": null,
      "id": "d84d5a68",
      "metadata": {
        "id": "d84d5a68",
        "outputId": "721cf5c1-fa7b-46fa-8e5a-1025a4080837"
      },
      "outputs": [
        {
          "name": "stdout",
          "output_type": "stream",
          "text": [
            "GLPSOL--GLPK LP/MIP Solver 5.0\n",
            "Parameter(s) specified in the command line:\n",
            " --write C:\\Users\\BLESSI~1\\AppData\\Local\\Temp\\tmp464szbjy.glpk.raw --wglp\n",
            " C:\\Users\\BLESSI~1\\AppData\\Local\\Temp\\tmp9v8mmyme.glpk.glp --cpxlp C:\\Users\\BLESSI~1\\AppData\\Local\\Temp\\tmp2aszm9s4.pyomo.lp\n",
            "Reading problem data from 'C:\\Users\\BLESSI~1\\AppData\\Local\\Temp\\tmp2aszm9s4.pyomo.lp'...\n",
            "218 rows, 133 columns, 502 non-zeros\n",
            "1297 lines were read\n",
            "Writing problem data to 'C:\\Users\\BLESSI~1\\AppData\\Local\\Temp\\tmp9v8mmyme.glpk.glp'...\n",
            "1087 lines were written\n",
            "GLPK Simplex Optimizer 5.0\n",
            "218 rows, 133 columns, 502 non-zeros\n",
            "Preprocessing...\n",
            "99 rows, 74 columns, 289 non-zeros\n",
            "Scaling...\n",
            " A: min|aij| =  1.852e-08  max|aij| =  6.000e+02  ratio =  3.241e+10\n",
            "GM: min|aij| =  5.275e-01  max|aij| =  1.896e+00  ratio =  3.594e+00\n",
            "EQ: min|aij| =  2.887e-01  max|aij| =  1.000e+00  ratio =  3.463e+00\n",
            "Constructing initial basis...\n",
            "Size of triangular part is 99\n",
            "      0: obj =   5.865550000e+06 inf =   9.377e+05 (21)\n",
            "     34: obj =   5.865550000e+06 inf =   3.638e-12 (0)\n",
            "*    67: obj =   1.405547920e+04 inf =   1.952e-12 (0)\n",
            "OPTIMAL LP SOLUTION FOUND\n",
            "Time used:   0.0 secs\n",
            "Memory used: 0.2 Mb (214073 bytes)\n",
            "Writing basic solution to 'C:\\Users\\BLESSI~1\\AppData\\Local\\Temp\\tmp464szbjy.glpk.raw'...\n",
            "360 lines were written\n"
          ]
        }
      ],
      "source": [
        "inosys.solve(solver = 'glpk', onlyopr = False, invest = False, )"
      ]
    },
    {
      "cell_type": "markdown",
      "id": "706c0be1",
      "metadata": {
        "id": "706c0be1"
      },
      "source": [
        "## Results"
      ]
    },
    {
      "cell_type": "markdown",
      "id": "026c9dd4",
      "metadata": {
        "id": "026c9dd4"
      },
      "source": [
        "A folder named 'results' will be created with the output of the optimal solution to the planning problem. The different result files are defined [here](https://pyeplan.sps-lab.org/user_guide/output.html). Below we show the capital costs and operational costs obtained to satify the load in the 5-bus network."
      ]
    },
    {
      "cell_type": "markdown",
      "id": "c10e0d24",
      "metadata": {
        "id": "c10e0d24"
      },
      "source": [
        "### Total investment and operational costs"
      ]
    },
    {
      "cell_type": "code",
      "execution_count": null,
      "id": "f7b6489f",
      "metadata": {
        "id": "f7b6489f",
        "outputId": "8b840e08-c437-413e-c5f5-6526578565d0"
      },
      "outputs": [
        {
          "data": {
            "text/html": [
              "<div>\n",
              "<style scoped>\n",
              "    .dataframe tbody tr th:only-of-type {\n",
              "        vertical-align: middle;\n",
              "    }\n",
              "\n",
              "    .dataframe tbody tr th {\n",
              "        vertical-align: top;\n",
              "    }\n",
              "\n",
              "    .dataframe thead th {\n",
              "        text-align: right;\n",
              "    }\n",
              "</style>\n",
              "<table border=\"1\" class=\"dataframe\">\n",
              "  <thead>\n",
              "    <tr style=\"text-align: right;\">\n",
              "      <th></th>\n",
              "      <th>total costs</th>\n",
              "      <th>14055.479202</th>\n",
              "    </tr>\n",
              "  </thead>\n",
              "  <tbody>\n",
              "    <tr>\n",
              "      <th>0</th>\n",
              "      <td>total investment costs</td>\n",
              "      <td>11125.319656</td>\n",
              "    </tr>\n",
              "    <tr>\n",
              "      <th>1</th>\n",
              "      <td>total operation costs</td>\n",
              "      <td>2930.159546</td>\n",
              "    </tr>\n",
              "  </tbody>\n",
              "</table>\n",
              "</div>"
            ],
            "text/plain": [
              "              total costs  14055.479202\n",
              "0  total investment costs  11125.319656\n",
              "1   total operation costs   2930.159546"
            ]
          },
          "execution_count": 8,
          "metadata": {},
          "output_type": "execute_result"
        }
      ],
      "source": [
        "pd.read_csv(\"5_bus/results/obj.csv\")"
      ]
    },
    {
      "cell_type": "markdown",
      "id": "48bdc63c",
      "metadata": {
        "id": "48bdc63c"
      },
      "source": [
        "### Number and capacity of battery units installed"
      ]
    },
    {
      "cell_type": "markdown",
      "id": "8f71a057",
      "metadata": {
        "id": "8f71a057"
      },
      "source": [
        "The capacity and location of battery units installed is:"
      ]
    },
    {
      "cell_type": "code",
      "execution_count": null,
      "id": "a69c429f",
      "metadata": {
        "hide_input": true,
        "id": "a69c429f",
        "outputId": "54bd77f8-a055-4506-dee7-8613de578f6b"
      },
      "outputs": [
        {
          "data": {
            "text/html": [
              "<style type=\"text/css\">\n",
              "</style>\n",
              "<table id=\"T_02bf6_\">\n",
              "  <thead>\n",
              "    <tr>\n",
              "      <th class=\"blank level0\" >&nbsp;</th>\n",
              "      <th class=\"col_heading level0 col0\" >Installed Capacity (kW)</th>\n",
              "      <th class=\"col_heading level0 col1\" >Bus</th>\n",
              "    </tr>\n",
              "    <tr>\n",
              "      <th class=\"index_name level0\" >Unit</th>\n",
              "      <th class=\"blank col0\" >&nbsp;</th>\n",
              "      <th class=\"blank col1\" >&nbsp;</th>\n",
              "    </tr>\n",
              "  </thead>\n",
              "  <tbody>\n",
              "    <tr>\n",
              "      <th id=\"T_02bf6_level0_row0\" class=\"row_heading level0 row0\" >1</th>\n",
              "      <td id=\"T_02bf6_row0_col0\" class=\"data row0 col0\" >0.000000</td>\n",
              "      <td id=\"T_02bf6_row0_col1\" class=\"data row0 col1\" >0</td>\n",
              "    </tr>\n",
              "    <tr>\n",
              "      <th id=\"T_02bf6_level0_row1\" class=\"row_heading level0 row1\" >2</th>\n",
              "      <td id=\"T_02bf6_row1_col0\" class=\"data row1 col0\" >0.000000</td>\n",
              "      <td id=\"T_02bf6_row1_col1\" class=\"data row1 col1\" >4</td>\n",
              "    </tr>\n",
              "  </tbody>\n",
              "</table>\n"
            ],
            "text/plain": [
              "<pandas.io.formats.style.Styler at 0x22b5e493c70>"
            ]
          },
          "execution_count": 9,
          "metadata": {},
          "output_type": "execute_result"
        }
      ],
      "source": [
        "import numpy as np\n",
        "cbat = pd.read_csv(\"5_bus/cbat_dist.csv\")\n",
        "ibat = pd.read_csv(\"5_bus/results/xb.csv\")\n",
        "cbat['Unit'] = (np.arange(1,len(ibat.columns)+1))\n",
        "unit = cbat.loc[:,'Unit']\n",
        "bus = np.array(cbat.loc[:,'bus'])\n",
        "out_bat =(((cbat.loc[:,'pmax']*round(ibat.loc[0:,].T,2))[0]).to_frame().set_index(unit)).rename(columns={0: 'Installed Capacity (kW)'})\n",
        "out_bat['Bus'] = bus\n",
        "out_bat.style"
      ]
    },
    {
      "cell_type": "markdown",
      "id": "0e3f737f",
      "metadata": {
        "id": "0e3f737f"
      },
      "source": [
        "### Number and capacity of solar units installed"
      ]
    },
    {
      "cell_type": "markdown",
      "id": "8b1d07f7",
      "metadata": {
        "id": "8b1d07f7"
      },
      "source": [
        "The capacity and location of solar units installed is:"
      ]
    },
    {
      "cell_type": "code",
      "execution_count": null,
      "id": "9256250e",
      "metadata": {
        "id": "9256250e",
        "outputId": "49c14be9-9e9a-44e7-a246-0f5d2a459fdd"
      },
      "outputs": [
        {
          "data": {
            "text/html": [
              "<style type=\"text/css\">\n",
              "</style>\n",
              "<table id=\"T_a2394_\">\n",
              "  <thead>\n",
              "    <tr>\n",
              "      <th class=\"blank level0\" >&nbsp;</th>\n",
              "      <th class=\"col_heading level0 col0\" >Installed Capacity (kW)</th>\n",
              "      <th class=\"col_heading level0 col1\" >Bus</th>\n",
              "    </tr>\n",
              "    <tr>\n",
              "      <th class=\"index_name level0\" >Unit</th>\n",
              "      <th class=\"blank col0\" >&nbsp;</th>\n",
              "      <th class=\"blank col1\" >&nbsp;</th>\n",
              "    </tr>\n",
              "  </thead>\n",
              "  <tbody>\n",
              "    <tr>\n",
              "      <th id=\"T_a2394_level0_row0\" class=\"row_heading level0 row0\" >1</th>\n",
              "      <td id=\"T_a2394_row0_col0\" class=\"data row0 col0\" >50.000000</td>\n",
              "      <td id=\"T_a2394_row0_col1\" class=\"data row0 col1\" >0</td>\n",
              "    </tr>\n",
              "    <tr>\n",
              "      <th id=\"T_a2394_level0_row1\" class=\"row_heading level0 row1\" >2</th>\n",
              "      <td id=\"T_a2394_row1_col0\" class=\"data row1 col0\" >50.000000</td>\n",
              "      <td id=\"T_a2394_row1_col1\" class=\"data row1 col1\" >0</td>\n",
              "    </tr>\n",
              "  </tbody>\n",
              "</table>\n"
            ],
            "text/plain": [
              "<pandas.io.formats.style.Styler at 0x22b57e116d0>"
            ]
          },
          "execution_count": 10,
          "metadata": {},
          "output_type": "execute_result"
        }
      ],
      "source": [
        "csol = pd.read_csv(\"1_bus/csol_dist.csv\")\n",
        "isol = pd.read_csv(\"1_bus/results/xs.csv\")\n",
        "csol['Unit'] = (np.arange(1,len(isol.columns)+1))\n",
        "unit = csol.loc[:,'Unit']\n",
        "bus = np.array(csol.loc[:,'bus'])\n",
        "out_sol =(((csol.loc[:,'pmax']*round(isol.loc[0:,].T,2))[0]).to_frame().set_index(unit)).rename(columns={0: 'Installed Capacity (kW)'})\n",
        "out_sol['Bus'] = bus\n",
        "out_sol.style"
      ]
    },
    {
      "cell_type": "markdown",
      "id": "84e0bc46",
      "metadata": {
        "id": "84e0bc46"
      },
      "source": [
        "### Number and capacity of diesel units installed"
      ]
    },
    {
      "cell_type": "markdown",
      "id": "2c64986d",
      "metadata": {
        "id": "2c64986d"
      },
      "source": [
        "The capacity and location of diesel units installed is:"
      ]
    },
    {
      "cell_type": "code",
      "execution_count": null,
      "id": "210363f2",
      "metadata": {
        "id": "210363f2",
        "outputId": "316fa8f7-0736-4bcc-e3af-901623e5a0ce"
      },
      "outputs": [
        {
          "data": {
            "text/html": [
              "<div>\n",
              "<style scoped>\n",
              "    .dataframe tbody tr th:only-of-type {\n",
              "        vertical-align: middle;\n",
              "    }\n",
              "\n",
              "    .dataframe tbody tr th {\n",
              "        vertical-align: top;\n",
              "    }\n",
              "\n",
              "    .dataframe thead th {\n",
              "        text-align: right;\n",
              "    }\n",
              "</style>\n",
              "<table border=\"1\" class=\"dataframe\">\n",
              "  <thead>\n",
              "    <tr style=\"text-align: right;\">\n",
              "      <th></th>\n",
              "      <th>Installed Capacity (kW)</th>\n",
              "    </tr>\n",
              "    <tr>\n",
              "      <th>bus</th>\n",
              "      <th></th>\n",
              "    </tr>\n",
              "  </thead>\n",
              "  <tbody>\n",
              "    <tr>\n",
              "      <th>0</th>\n",
              "      <td>21.0</td>\n",
              "    </tr>\n",
              "  </tbody>\n",
              "</table>\n",
              "</div>"
            ],
            "text/plain": [
              "     Installed Capacity (kW)\n",
              "bus                         \n",
              "0                       21.0"
            ]
          },
          "execution_count": 11,
          "metadata": {},
          "output_type": "execute_result"
        }
      ],
      "source": [
        "cgen = pd.read_csv(\"5_bus/cgen_dist.csv\")\n",
        "igen = pd.read_csv(\"5_bus/results/xg.csv\")\n",
        "bus = cgen.loc[:,'bus']\n",
        "(((cgen.loc[:,'pmax']*round(igen.loc[0:,].T,2))[0]).to_frame().set_index(bus)).rename(columns={0: 'Installed Capacity (kW)'})"
      ]
    },
    {
      "cell_type": "markdown",
      "id": "216f7830",
      "metadata": {
        "id": "216f7830"
      },
      "source": [
        "### Amount of load curtailed"
      ]
    },
    {
      "cell_type": "markdown",
      "id": "ea72c984",
      "metadata": {
        "id": "ea72c984"
      },
      "source": [
        "The level of load demand that has been curtailed at each node is:"
      ]
    },
    {
      "cell_type": "code",
      "execution_count": null,
      "id": "4a64a895",
      "metadata": {
        "id": "4a64a895",
        "outputId": "c6a27deb-8d3f-4785-ea2e-6c52803b73f5"
      },
      "outputs": [
        {
          "data": {
            "text/html": [
              "<style type=\"text/css\">\n",
              "</style>\n",
              "<table id=\"T_e818e_\">\n",
              "  <thead>\n",
              "    <tr>\n",
              "      <th class=\"blank level0\" >&nbsp;</th>\n",
              "      <th class=\"col_heading level0 col0\" >0</th>\n",
              "      <th class=\"col_heading level0 col1\" >1</th>\n",
              "      <th class=\"col_heading level0 col2\" >2</th>\n",
              "      <th class=\"col_heading level0 col3\" >3</th>\n",
              "      <th class=\"col_heading level0 col4\" >4</th>\n",
              "    </tr>\n",
              "    <tr>\n",
              "      <th class=\"index_name level0\" >Hour</th>\n",
              "      <th class=\"blank col0\" >&nbsp;</th>\n",
              "      <th class=\"blank col1\" >&nbsp;</th>\n",
              "      <th class=\"blank col2\" >&nbsp;</th>\n",
              "      <th class=\"blank col3\" >&nbsp;</th>\n",
              "      <th class=\"blank col4\" >&nbsp;</th>\n",
              "    </tr>\n",
              "  </thead>\n",
              "  <tbody>\n",
              "    <tr>\n",
              "      <th id=\"T_e818e_level0_row0\" class=\"row_heading level0 row0\" >0</th>\n",
              "      <td id=\"T_e818e_row0_col0\" class=\"data row0 col0\" >0.000000</td>\n",
              "      <td id=\"T_e818e_row0_col1\" class=\"data row0 col1\" >0.000000</td>\n",
              "      <td id=\"T_e818e_row0_col2\" class=\"data row0 col2\" >0.000000</td>\n",
              "      <td id=\"T_e818e_row0_col3\" class=\"data row0 col3\" >0.000000</td>\n",
              "      <td id=\"T_e818e_row0_col4\" class=\"data row0 col4\" >0.000000</td>\n",
              "    </tr>\n",
              "    <tr>\n",
              "      <th id=\"T_e818e_level0_row1\" class=\"row_heading level0 row1\" >1</th>\n",
              "      <td id=\"T_e818e_row1_col0\" class=\"data row1 col0\" >0.000000</td>\n",
              "      <td id=\"T_e818e_row1_col1\" class=\"data row1 col1\" >0.000000</td>\n",
              "      <td id=\"T_e818e_row1_col2\" class=\"data row1 col2\" >0.000000</td>\n",
              "      <td id=\"T_e818e_row1_col3\" class=\"data row1 col3\" >0.000000</td>\n",
              "      <td id=\"T_e818e_row1_col4\" class=\"data row1 col4\" >0.000000</td>\n",
              "    </tr>\n",
              "    <tr>\n",
              "      <th id=\"T_e818e_level0_row2\" class=\"row_heading level0 row2\" >2</th>\n",
              "      <td id=\"T_e818e_row2_col0\" class=\"data row2 col0\" >0.000000</td>\n",
              "      <td id=\"T_e818e_row2_col1\" class=\"data row2 col1\" >0.000000</td>\n",
              "      <td id=\"T_e818e_row2_col2\" class=\"data row2 col2\" >0.000000</td>\n",
              "      <td id=\"T_e818e_row2_col3\" class=\"data row2 col3\" >0.000000</td>\n",
              "      <td id=\"T_e818e_row2_col4\" class=\"data row2 col4\" >0.000000</td>\n",
              "    </tr>\n",
              "  </tbody>\n",
              "</table>\n"
            ],
            "text/plain": [
              "<pandas.io.formats.style.Styler at 0x22b5e515250>"
            ]
          },
          "execution_count": 12,
          "metadata": {},
          "output_type": "execute_result"
        }
      ],
      "source": [
        "pds =pd.read_csv(\"5_bus/results/pds.csv\")\n",
        "pds.index.name ='Hour'\n",
        "pds.style"
      ]
    },
    {
      "cell_type": "markdown",
      "id": "c3070cf1",
      "metadata": {
        "id": "c3070cf1"
      },
      "source": [
        "## Remarks"
      ]
    },
    {
      "cell_type": "markdown",
      "id": "8609fc4b",
      "metadata": {
        "id": "8609fc4b"
      },
      "source": [
        "This example showcases the planning modules in PyEPLAN. Different solutions can be obtained by varrying the input data based on the user's own system data."
      ]
    },
    {
      "cell_type": "code",
      "execution_count": null,
      "id": "96fc6c3a",
      "metadata": {
        "id": "96fc6c3a"
      },
      "outputs": [],
      "source": [
        ""
      ]
    }
  ],
  "metadata": {
    "celltoolbar": "Raw Cell Format",
    "kernelspec": {
      "display_name": "Python 3 (ipykernel)",
      "language": "python",
      "name": "python3"
    },
    "language_info": {
      "codemirror_mode": {
        "name": "ipython",
        "version": 3
      },
      "file_extension": ".py",
      "mimetype": "text/x-python",
      "name": "python",
      "nbconvert_exporter": "python",
      "pygments_lexer": "ipython3",
      "version": "3.9.7"
    },
    "colab": {
      "name": "5-bus Example Planning.ipynb",
      "provenance": [],
      "include_colab_link": true
    }
  },
  "nbformat": 4,
  "nbformat_minor": 5
}