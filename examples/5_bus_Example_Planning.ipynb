{
  "cells": [
    {
      "cell_type": "markdown",
      "metadata": {
        "id": "view-in-github",
        "colab_type": "text"
      },
      "source": [
        "<a href=\"https://colab.research.google.com/github/apetros/pyeplan/blob/master/examples/5_bus_Example_Planning.ipynb\" target=\"_parent\"><img src=\"https://colab.research.google.com/assets/colab-badge.svg\" alt=\"Open In Colab\"/></a>"
      ]
    },
    {
      "cell_type": "markdown",
      "id": "b243dcf7",
      "metadata": {
        "id": "b243dcf7"
      },
      "source": [
        "# Investment and Operation Planning Module"
      ]
    },
    {
      "cell_type": "markdown",
      "id": "8f2b86cc",
      "metadata": {
        "id": "8f2b86cc"
      },
      "source": [
        "This example considers a network of 5 nodes, with a load connected at each node. One representative day with three operational hours is used to describe the potential operational scenarios. Three types of investment candidate generators i.e, battery units, solar units and diesel generation units. We showcase how the Investment and Operation Planning Modules of PyEPLAN can be used to derive optimal units to be installed in the network.\n",
        "\n",
        "This example is designed to be run on Google Colab."
      ]
    },
    {
      "cell_type": "code",
      "source": [
        "!rm -r sample_data\n",
        "!rm -r 5_bus"
      ],
      "metadata": {
        "colab": {
          "base_uri": "https://localhost:8080/"
        },
        "id": "-y4OUILDqzMz",
        "outputId": "f9d76b94-1f57-4b38-b809-6ff1ce0149c5"
      },
      "id": "-y4OUILDqzMz",
      "execution_count": null,
      "outputs": [
        {
          "output_type": "stream",
          "name": "stdout",
          "text": [
            "rm: cannot remove 'sample_data': No such file or directory\n"
          ]
        }
      ]
    },
    {
      "cell_type": "code",
      "source": [
        "!apt-get install -qq subversion\n",
        "!svn export https://github.com/apetros/pyeplan/trunk/examples/5_bus"
      ],
      "metadata": {
        "colab": {
          "base_uri": "https://localhost:8080/"
        },
        "id": "16WFsHFcq7Bg",
        "outputId": "4b6850c7-a610-46b9-a54e-7b16657663fa"
      },
      "id": "16WFsHFcq7Bg",
      "execution_count": null,
      "outputs": [
        {
          "output_type": "stream",
          "name": "stdout",
          "text": [
            "A    5_bus\n",
            "A    5_bus/cbat_dist.csv\n",
            "A    5_bus/cblt_dist.csv\n",
            "A    5_bus/cgen_dist.csv\n",
            "A    5_bus/clin_dist.csv\n",
            "A    5_bus/csol_dist.csv\n",
            "A    5_bus/cwin_dist.csv\n",
            "A    5_bus/dtim_dist.csv\n",
            "A    5_bus/egen_dist.csv\n",
            "A    5_bus/elin_dist.csv\n",
            "A    5_bus/esol_dist.csv\n",
            "A    5_bus/ewin_dist.csv\n",
            "A    5_bus/geol_dist.csv\n",
            "A    5_bus/mgpc_dist.xlsx\n",
            "A    5_bus/pdem_dist.csv\n",
            "A    5_bus/prep_dist.csv\n",
            "A    5_bus/psol_dist.csv\n",
            "A    5_bus/pwin_dist.csv\n",
            "A    5_bus/qdem_dist.csv\n",
            "A    5_bus/qrep_dist.csv\n",
            "A    5_bus/qsol_dist.csv\n",
            "A    5_bus/qwin_dist.csv\n",
            "A    5_bus/rou_dist.csv\n",
            "Exported revision 86.\n"
          ]
        }
      ]
    },
    {
      "cell_type": "code",
      "source": [
        "!apt-get install -y -qq glpk-utils\n",
        "!apt-get install -y -qq coinor-cbc"
      ],
      "metadata": {
        "id": "o4Iy5dv7rAVt"
      },
      "id": "o4Iy5dv7rAVt",
      "execution_count": null,
      "outputs": []
    },
    {
      "cell_type": "code",
      "source": [
        "!pip install -q pyeplan"
      ],
      "metadata": {
        "colab": {
          "base_uri": "https://localhost:8080/"
        },
        "id": "Kmj3FJBorUa6",
        "outputId": "d7bb63b7-559b-41f0-ffd4-71914da03e56"
      },
      "id": "Kmj3FJBorUa6",
      "execution_count": null,
      "outputs": [
        {
          "output_type": "stream",
          "name": "stdout",
          "text": [
            "\u001b[33mWARNING: Ignoring invalid distribution -cikit-learn (/usr/local/lib/python3.7/dist-packages)\u001b[0m\n",
            "\u001b[33mWARNING: Ignoring invalid distribution -cikit-learn (/usr/local/lib/python3.7/dist-packages)\u001b[0m\n",
            "\u001b[33mWARNING: Ignoring invalid distribution -cikit-learn (/usr/local/lib/python3.7/dist-packages)\u001b[0m\n"
          ]
        }
      ]
    },
    {
      "cell_type": "code",
      "source": [
        "!pip install git+git://github.com/apetros/pyeplan@master"
      ],
      "metadata": {
        "colab": {
          "base_uri": "https://localhost:8080/"
        },
        "id": "9sFEfn51rYqj",
        "outputId": "6b261217-0aa3-48c9-fc12-f19f32c8a831"
      },
      "id": "9sFEfn51rYqj",
      "execution_count": null,
      "outputs": [
        {
          "output_type": "stream",
          "name": "stdout",
          "text": [
            "\u001b[33mWARNING: Ignoring invalid distribution -cikit-learn (/usr/local/lib/python3.7/dist-packages)\u001b[0m\n",
            "\u001b[33mWARNING: Ignoring invalid distribution -cikit-learn (/usr/local/lib/python3.7/dist-packages)\u001b[0m\n",
            "Collecting git+git://github.com/apetros/pyeplan@master\n",
            "  Cloning git://github.com/apetros/pyeplan (to revision master) to /tmp/pip-req-build-_ar24krh\n",
            "  Running command git clone -q git://github.com/apetros/pyeplan /tmp/pip-req-build-_ar24krh\n",
            "Requirement already satisfied: pandas in /usr/local/lib/python3.7/dist-packages (from pyeplan==0.4.3) (1.1.5)\n",
            "Requirement already satisfied: pyomo in /usr/local/lib/python3.7/dist-packages (from pyeplan==0.4.3) (6.2)\n",
            "Requirement already satisfied: networkx in /usr/local/lib/python3.7/dist-packages (from pyeplan==0.4.3) (2.6.3)\n",
            "Requirement already satisfied: mplleaflet in /usr/local/lib/python3.7/dist-packages (from pyeplan==0.4.3) (0.0.5)\n",
            "Requirement already satisfied: matplotlib==3.3.0 in /usr/local/lib/python3.7/dist-packages (from pyeplan==0.4.3) (3.3.0)\n",
            "Requirement already satisfied: timezonefinder in /usr/local/lib/python3.7/dist-packages (from pyeplan==0.4.3) (5.2.0)\n",
            "Requirement already satisfied: scikit-learn==1.0.0 in /usr/local/lib/python3.7/dist-packages (from pyeplan==0.4.3) (1.0)\n",
            "Requirement already satisfied: openpyxl in /usr/local/lib/python3.7/dist-packages (from pyeplan==0.4.3) (2.5.9)\n",
            "Requirement already satisfied: numpy>=1.15 in /usr/local/lib/python3.7/dist-packages (from matplotlib==3.3.0->pyeplan==0.4.3) (1.19.5)\n",
            "Requirement already satisfied: pyparsing!=2.0.4,!=2.1.2,!=2.1.6,>=2.0.3 in /usr/local/lib/python3.7/dist-packages (from matplotlib==3.3.0->pyeplan==0.4.3) (3.0.6)\n",
            "Requirement already satisfied: pillow>=6.2.0 in /usr/local/lib/python3.7/dist-packages (from matplotlib==3.3.0->pyeplan==0.4.3) (7.1.2)\n",
            "Requirement already satisfied: cycler>=0.10 in /usr/local/lib/python3.7/dist-packages (from matplotlib==3.3.0->pyeplan==0.4.3) (0.11.0)\n",
            "Requirement already satisfied: python-dateutil>=2.1 in /usr/local/lib/python3.7/dist-packages (from matplotlib==3.3.0->pyeplan==0.4.3) (2.8.2)\n",
            "Requirement already satisfied: kiwisolver>=1.0.1 in /usr/local/lib/python3.7/dist-packages (from matplotlib==3.3.0->pyeplan==0.4.3) (1.3.2)\n",
            "Requirement already satisfied: threadpoolctl>=2.0.0 in /usr/local/lib/python3.7/dist-packages (from scikit-learn==1.0.0->pyeplan==0.4.3) (3.0.0)\n",
            "Requirement already satisfied: joblib>=0.11 in /usr/local/lib/python3.7/dist-packages (from scikit-learn==1.0.0->pyeplan==0.4.3) (1.1.0)\n",
            "Requirement already satisfied: scipy>=1.1.0 in /usr/local/lib/python3.7/dist-packages (from scikit-learn==1.0.0->pyeplan==0.4.3) (1.4.1)\n",
            "Requirement already satisfied: six>=1.5 in /usr/local/lib/python3.7/dist-packages (from python-dateutil>=2.1->matplotlib==3.3.0->pyeplan==0.4.3) (1.15.0)\n",
            "Requirement already satisfied: jinja2 in /usr/local/lib/python3.7/dist-packages (from mplleaflet->pyeplan==0.4.3) (2.11.3)\n",
            "Requirement already satisfied: MarkupSafe>=0.23 in /usr/local/lib/python3.7/dist-packages (from jinja2->mplleaflet->pyeplan==0.4.3) (2.0.1)\n",
            "Requirement already satisfied: et-xmlfile in /usr/local/lib/python3.7/dist-packages (from openpyxl->pyeplan==0.4.3) (1.1.0)\n",
            "Requirement already satisfied: jdcal in /usr/local/lib/python3.7/dist-packages (from openpyxl->pyeplan==0.4.3) (1.4.1)\n",
            "Requirement already satisfied: pytz>=2017.2 in /usr/local/lib/python3.7/dist-packages (from pandas->pyeplan==0.4.3) (2018.9)\n",
            "Requirement already satisfied: ply in /usr/local/lib/python3.7/dist-packages (from pyomo->pyeplan==0.4.3) (3.11)\n",
            "\u001b[33mWARNING: Ignoring invalid distribution -cikit-learn (/usr/local/lib/python3.7/dist-packages)\u001b[0m\n"
          ]
        }
      ]
    },
    {
      "cell_type": "markdown",
      "id": "33757864",
      "metadata": {
        "id": "33757864"
      },
      "source": [
        "## Importing the invesment and operation planning module from PyEPLAN "
      ]
    },
    {
      "cell_type": "code",
      "execution_count": null,
      "id": "10f03974",
      "metadata": {
        "id": "10f03974"
      },
      "outputs": [],
      "source": [
        "from pyeplan import inosys"
      ]
    },
    {
      "cell_type": "markdown",
      "id": "d418861c",
      "metadata": {
        "id": "d418861c"
      },
      "source": [
        "## Defining the input data"
      ]
    },
    {
      "cell_type": "markdown",
      "id": "4bb0987d",
      "metadata": {
        "id": "4bb0987d"
      },
      "source": [
        "The module is initialised with inputs including but not limited the following :\n",
        "* The input directory for the data. The input data folder should consists of 'csv' files that contain data description of the load, newtork paramters and generation units as defined [here](https://pyeplan.sps-lab.org/user_guide/input.html#).\n",
        "* ref_bus: Reference node\n",
        "* dshed_cost: Demand Shedding Price\n",
        "* rshed_cost: Renewable Shedding Price\n",
        "* phase: Number of Phases (Default 3)\n",
        "* sbase: Base Apparent Power (Default 1 kW)"
      ]
    },
    {
      "cell_type": "code",
      "execution_count": null,
      "id": "5990195c",
      "metadata": {
        "id": "5990195c"
      },
      "outputs": [],
      "source": [
        "inosys = inosys('5_bus', ref_bus = 0, dshed_cost = 100, rshed_cost = 0, phase = 3,)"
      ]
    },
    {
      "cell_type": "markdown",
      "id": "f04a63b7",
      "metadata": {
        "id": "f04a63b7"
      },
      "source": [
        "Some of the data inputs include:"
      ]
    },
    {
      "cell_type": "markdown",
      "id": "ad706cdd",
      "metadata": {
        "id": "ad706cdd"
      },
      "source": [
        "### Defining the total load demand at each hour"
      ]
    },
    {
      "cell_type": "markdown",
      "id": "5809679d",
      "metadata": {
        "id": "5809679d"
      },
      "source": [
        "The total active power consumption at each of the three (3) hours for one (1) representative day is:"
      ]
    },
    {
      "cell_type": "code",
      "execution_count": null,
      "id": "fb9de999",
      "metadata": {
        "colab": {
          "base_uri": "https://localhost:8080/",
          "height": 143
        },
        "id": "fb9de999",
        "outputId": "569cd227-3ac4-446b-d9f7-1fc22180bbb2"
      },
      "outputs": [
        {
          "output_type": "execute_result",
          "data": {
            "text/html": [
              "\n",
              "  <div id=\"df-cf4e4f6e-038c-4a68-884a-961bf7fa9254\">\n",
              "    <div class=\"colab-df-container\">\n",
              "      <div>\n",
              "<style scoped>\n",
              "    .dataframe tbody tr th:only-of-type {\n",
              "        vertical-align: middle;\n",
              "    }\n",
              "\n",
              "    .dataframe tbody tr th {\n",
              "        vertical-align: top;\n",
              "    }\n",
              "\n",
              "    .dataframe thead th {\n",
              "        text-align: right;\n",
              "    }\n",
              "</style>\n",
              "<table border=\"1\" class=\"dataframe\">\n",
              "  <thead>\n",
              "    <tr style=\"text-align: right;\">\n",
              "      <th></th>\n",
              "      <th>0</th>\n",
              "    </tr>\n",
              "  </thead>\n",
              "  <tbody>\n",
              "    <tr>\n",
              "      <th>0</th>\n",
              "      <td>24.6</td>\n",
              "    </tr>\n",
              "    <tr>\n",
              "      <th>1</th>\n",
              "      <td>55.4</td>\n",
              "    </tr>\n",
              "    <tr>\n",
              "      <th>2</th>\n",
              "      <td>80.7</td>\n",
              "    </tr>\n",
              "  </tbody>\n",
              "</table>\n",
              "</div>\n",
              "      <button class=\"colab-df-convert\" onclick=\"convertToInteractive('df-cf4e4f6e-038c-4a68-884a-961bf7fa9254')\"\n",
              "              title=\"Convert this dataframe to an interactive table.\"\n",
              "              style=\"display:none;\">\n",
              "        \n",
              "  <svg xmlns=\"http://www.w3.org/2000/svg\" height=\"24px\"viewBox=\"0 0 24 24\"\n",
              "       width=\"24px\">\n",
              "    <path d=\"M0 0h24v24H0V0z\" fill=\"none\"/>\n",
              "    <path d=\"M18.56 5.44l.94 2.06.94-2.06 2.06-.94-2.06-.94-.94-2.06-.94 2.06-2.06.94zm-11 1L8.5 8.5l.94-2.06 2.06-.94-2.06-.94L8.5 2.5l-.94 2.06-2.06.94zm10 10l.94 2.06.94-2.06 2.06-.94-2.06-.94-.94-2.06-.94 2.06-2.06.94z\"/><path d=\"M17.41 7.96l-1.37-1.37c-.4-.4-.92-.59-1.43-.59-.52 0-1.04.2-1.43.59L10.3 9.45l-7.72 7.72c-.78.78-.78 2.05 0 2.83L4 21.41c.39.39.9.59 1.41.59.51 0 1.02-.2 1.41-.59l7.78-7.78 2.81-2.81c.8-.78.8-2.07 0-2.86zM5.41 20L4 18.59l7.72-7.72 1.47 1.35L5.41 20z\"/>\n",
              "  </svg>\n",
              "      </button>\n",
              "      \n",
              "  <style>\n",
              "    .colab-df-container {\n",
              "      display:flex;\n",
              "      flex-wrap:wrap;\n",
              "      gap: 12px;\n",
              "    }\n",
              "\n",
              "    .colab-df-convert {\n",
              "      background-color: #E8F0FE;\n",
              "      border: none;\n",
              "      border-radius: 50%;\n",
              "      cursor: pointer;\n",
              "      display: none;\n",
              "      fill: #1967D2;\n",
              "      height: 32px;\n",
              "      padding: 0 0 0 0;\n",
              "      width: 32px;\n",
              "    }\n",
              "\n",
              "    .colab-df-convert:hover {\n",
              "      background-color: #E2EBFA;\n",
              "      box-shadow: 0px 1px 2px rgba(60, 64, 67, 0.3), 0px 1px 3px 1px rgba(60, 64, 67, 0.15);\n",
              "      fill: #174EA6;\n",
              "    }\n",
              "\n",
              "    [theme=dark] .colab-df-convert {\n",
              "      background-color: #3B4455;\n",
              "      fill: #D2E3FC;\n",
              "    }\n",
              "\n",
              "    [theme=dark] .colab-df-convert:hover {\n",
              "      background-color: #434B5C;\n",
              "      box-shadow: 0px 1px 3px 1px rgba(0, 0, 0, 0.15);\n",
              "      filter: drop-shadow(0px 1px 2px rgba(0, 0, 0, 0.3));\n",
              "      fill: #FFFFFF;\n",
              "    }\n",
              "  </style>\n",
              "\n",
              "      <script>\n",
              "        const buttonEl =\n",
              "          document.querySelector('#df-cf4e4f6e-038c-4a68-884a-961bf7fa9254 button.colab-df-convert');\n",
              "        buttonEl.style.display =\n",
              "          google.colab.kernel.accessAllowed ? 'block' : 'none';\n",
              "\n",
              "        async function convertToInteractive(key) {\n",
              "          const element = document.querySelector('#df-cf4e4f6e-038c-4a68-884a-961bf7fa9254');\n",
              "          const dataTable =\n",
              "            await google.colab.kernel.invokeFunction('convertToInteractive',\n",
              "                                                     [key], {});\n",
              "          if (!dataTable) return;\n",
              "\n",
              "          const docLinkHtml = 'Like what you see? Visit the ' +\n",
              "            '<a target=\"_blank\" href=https://colab.research.google.com/notebooks/data_table.ipynb>data table notebook</a>'\n",
              "            + ' to learn more about interactive tables.';\n",
              "          element.innerHTML = '';\n",
              "          dataTable['output_type'] = 'display_data';\n",
              "          await google.colab.output.renderOutput(dataTable, element);\n",
              "          const docLink = document.createElement('div');\n",
              "          docLink.innerHTML = docLinkHtml;\n",
              "          element.appendChild(docLink);\n",
              "        }\n",
              "      </script>\n",
              "    </div>\n",
              "  </div>\n",
              "  "
            ],
            "text/plain": [
              "      0\n",
              "0  24.6\n",
              "1  55.4\n",
              "2  80.7"
            ]
          },
          "metadata": {},
          "execution_count": 23
        }
      ],
      "source": [
        "import pandas as pd\n",
        "pd.read_csv(\"5_bus/prep_dist.csv\")"
      ]
    },
    {
      "cell_type": "markdown",
      "id": "578ccc50",
      "metadata": {
        "id": "578ccc50"
      },
      "source": [
        "### Defining the input investment candidates"
      ]
    },
    {
      "cell_type": "markdown",
      "id": "63d5ea19",
      "metadata": {
        "id": "63d5ea19"
      },
      "source": [
        "#### Battery Units"
      ]
    },
    {
      "cell_type": "code",
      "execution_count": null,
      "id": "c885c3f9",
      "metadata": {
        "colab": {
          "base_uri": "https://localhost:8080/",
          "height": 112
        },
        "id": "c885c3f9",
        "outputId": "ec025827-9715-4fd1-8eba-32b46f1722da"
      },
      "outputs": [
        {
          "output_type": "execute_result",
          "data": {
            "text/html": [
              "\n",
              "  <div id=\"df-4383ed9c-1366-49aa-a500-55fd23757ab8\">\n",
              "    <div class=\"colab-df-container\">\n",
              "      <div>\n",
              "<style scoped>\n",
              "    .dataframe tbody tr th:only-of-type {\n",
              "        vertical-align: middle;\n",
              "    }\n",
              "\n",
              "    .dataframe tbody tr th {\n",
              "        vertical-align: top;\n",
              "    }\n",
              "\n",
              "    .dataframe thead th {\n",
              "        text-align: right;\n",
              "    }\n",
              "</style>\n",
              "<table border=\"1\" class=\"dataframe\">\n",
              "  <thead>\n",
              "    <tr style=\"text-align: right;\">\n",
              "      <th></th>\n",
              "      <th>bus</th>\n",
              "      <th>icost</th>\n",
              "      <th>ocost</th>\n",
              "      <th>scost</th>\n",
              "      <th>ec</th>\n",
              "      <th>ed</th>\n",
              "      <th>emax</th>\n",
              "      <th>emin</th>\n",
              "      <th>eini</th>\n",
              "      <th>pmax</th>\n",
              "      <th>pmin</th>\n",
              "      <th>qmax</th>\n",
              "      <th>qmin</th>\n",
              "    </tr>\n",
              "  </thead>\n",
              "  <tbody>\n",
              "    <tr>\n",
              "      <th>0</th>\n",
              "      <td>0</td>\n",
              "      <td>347.2176</td>\n",
              "      <td>0</td>\n",
              "      <td>0</td>\n",
              "      <td>0.92</td>\n",
              "      <td>0.92</td>\n",
              "      <td>1200</td>\n",
              "      <td>0</td>\n",
              "      <td>600</td>\n",
              "      <td>100</td>\n",
              "      <td>0</td>\n",
              "      <td>0</td>\n",
              "      <td>0</td>\n",
              "    </tr>\n",
              "    <tr>\n",
              "      <th>1</th>\n",
              "      <td>4</td>\n",
              "      <td>347.2176</td>\n",
              "      <td>0</td>\n",
              "      <td>0</td>\n",
              "      <td>0.92</td>\n",
              "      <td>0.92</td>\n",
              "      <td>1200</td>\n",
              "      <td>0</td>\n",
              "      <td>600</td>\n",
              "      <td>100</td>\n",
              "      <td>0</td>\n",
              "      <td>0</td>\n",
              "      <td>0</td>\n",
              "    </tr>\n",
              "  </tbody>\n",
              "</table>\n",
              "</div>\n",
              "      <button class=\"colab-df-convert\" onclick=\"convertToInteractive('df-4383ed9c-1366-49aa-a500-55fd23757ab8')\"\n",
              "              title=\"Convert this dataframe to an interactive table.\"\n",
              "              style=\"display:none;\">\n",
              "        \n",
              "  <svg xmlns=\"http://www.w3.org/2000/svg\" height=\"24px\"viewBox=\"0 0 24 24\"\n",
              "       width=\"24px\">\n",
              "    <path d=\"M0 0h24v24H0V0z\" fill=\"none\"/>\n",
              "    <path d=\"M18.56 5.44l.94 2.06.94-2.06 2.06-.94-2.06-.94-.94-2.06-.94 2.06-2.06.94zm-11 1L8.5 8.5l.94-2.06 2.06-.94-2.06-.94L8.5 2.5l-.94 2.06-2.06.94zm10 10l.94 2.06.94-2.06 2.06-.94-2.06-.94-.94-2.06-.94 2.06-2.06.94z\"/><path d=\"M17.41 7.96l-1.37-1.37c-.4-.4-.92-.59-1.43-.59-.52 0-1.04.2-1.43.59L10.3 9.45l-7.72 7.72c-.78.78-.78 2.05 0 2.83L4 21.41c.39.39.9.59 1.41.59.51 0 1.02-.2 1.41-.59l7.78-7.78 2.81-2.81c.8-.78.8-2.07 0-2.86zM5.41 20L4 18.59l7.72-7.72 1.47 1.35L5.41 20z\"/>\n",
              "  </svg>\n",
              "      </button>\n",
              "      \n",
              "  <style>\n",
              "    .colab-df-container {\n",
              "      display:flex;\n",
              "      flex-wrap:wrap;\n",
              "      gap: 12px;\n",
              "    }\n",
              "\n",
              "    .colab-df-convert {\n",
              "      background-color: #E8F0FE;\n",
              "      border: none;\n",
              "      border-radius: 50%;\n",
              "      cursor: pointer;\n",
              "      display: none;\n",
              "      fill: #1967D2;\n",
              "      height: 32px;\n",
              "      padding: 0 0 0 0;\n",
              "      width: 32px;\n",
              "    }\n",
              "\n",
              "    .colab-df-convert:hover {\n",
              "      background-color: #E2EBFA;\n",
              "      box-shadow: 0px 1px 2px rgba(60, 64, 67, 0.3), 0px 1px 3px 1px rgba(60, 64, 67, 0.15);\n",
              "      fill: #174EA6;\n",
              "    }\n",
              "\n",
              "    [theme=dark] .colab-df-convert {\n",
              "      background-color: #3B4455;\n",
              "      fill: #D2E3FC;\n",
              "    }\n",
              "\n",
              "    [theme=dark] .colab-df-convert:hover {\n",
              "      background-color: #434B5C;\n",
              "      box-shadow: 0px 1px 3px 1px rgba(0, 0, 0, 0.15);\n",
              "      filter: drop-shadow(0px 1px 2px rgba(0, 0, 0, 0.3));\n",
              "      fill: #FFFFFF;\n",
              "    }\n",
              "  </style>\n",
              "\n",
              "      <script>\n",
              "        const buttonEl =\n",
              "          document.querySelector('#df-4383ed9c-1366-49aa-a500-55fd23757ab8 button.colab-df-convert');\n",
              "        buttonEl.style.display =\n",
              "          google.colab.kernel.accessAllowed ? 'block' : 'none';\n",
              "\n",
              "        async function convertToInteractive(key) {\n",
              "          const element = document.querySelector('#df-4383ed9c-1366-49aa-a500-55fd23757ab8');\n",
              "          const dataTable =\n",
              "            await google.colab.kernel.invokeFunction('convertToInteractive',\n",
              "                                                     [key], {});\n",
              "          if (!dataTable) return;\n",
              "\n",
              "          const docLinkHtml = 'Like what you see? Visit the ' +\n",
              "            '<a target=\"_blank\" href=https://colab.research.google.com/notebooks/data_table.ipynb>data table notebook</a>'\n",
              "            + ' to learn more about interactive tables.';\n",
              "          element.innerHTML = '';\n",
              "          dataTable['output_type'] = 'display_data';\n",
              "          await google.colab.output.renderOutput(dataTable, element);\n",
              "          const docLink = document.createElement('div');\n",
              "          docLink.innerHTML = docLinkHtml;\n",
              "          element.appendChild(docLink);\n",
              "        }\n",
              "      </script>\n",
              "    </div>\n",
              "  </div>\n",
              "  "
            ],
            "text/plain": [
              "   bus     icost  ocost  scost    ec    ed  ...  emin  eini  pmax  pmin  qmax  qmin\n",
              "0    0  347.2176      0      0  0.92  0.92  ...     0   600   100     0     0     0\n",
              "1    4  347.2176      0      0  0.92  0.92  ...     0   600   100     0     0     0\n",
              "\n",
              "[2 rows x 13 columns]"
            ]
          },
          "metadata": {},
          "execution_count": 24
        }
      ],
      "source": [
        "pd.read_csv(\"5_bus/cbat_dist.csv\")"
      ]
    },
    {
      "cell_type": "markdown",
      "id": "3023479d",
      "metadata": {
        "id": "3023479d"
      },
      "source": [
        "#### Solar PV Units"
      ]
    },
    {
      "cell_type": "code",
      "execution_count": null,
      "id": "41ccc977",
      "metadata": {
        "colab": {
          "base_uri": "https://localhost:8080/",
          "height": 112
        },
        "id": "41ccc977",
        "outputId": "217f6d7f-409f-4d70-9103-32fe85864626"
      },
      "outputs": [
        {
          "output_type": "execute_result",
          "data": {
            "text/html": [
              "\n",
              "  <div id=\"df-4cdd86e0-fb8a-428e-9282-b59005f03b47\">\n",
              "    <div class=\"colab-df-container\">\n",
              "      <div>\n",
              "<style scoped>\n",
              "    .dataframe tbody tr th:only-of-type {\n",
              "        vertical-align: middle;\n",
              "    }\n",
              "\n",
              "    .dataframe tbody tr th {\n",
              "        vertical-align: top;\n",
              "    }\n",
              "\n",
              "    .dataframe thead th {\n",
              "        text-align: right;\n",
              "    }\n",
              "</style>\n",
              "<table border=\"1\" class=\"dataframe\">\n",
              "  <thead>\n",
              "    <tr style=\"text-align: right;\">\n",
              "      <th></th>\n",
              "      <th>bus</th>\n",
              "      <th>icost</th>\n",
              "      <th>ocost</th>\n",
              "      <th>scost</th>\n",
              "      <th>pmin</th>\n",
              "      <th>pmax</th>\n",
              "      <th>qmin</th>\n",
              "      <th>qmax</th>\n",
              "    </tr>\n",
              "  </thead>\n",
              "  <tbody>\n",
              "    <tr>\n",
              "      <th>0</th>\n",
              "      <td>0</td>\n",
              "      <td>108.766</td>\n",
              "      <td>0</td>\n",
              "      <td>0</td>\n",
              "      <td>0</td>\n",
              "      <td>50</td>\n",
              "      <td>-50</td>\n",
              "      <td>50</td>\n",
              "    </tr>\n",
              "    <tr>\n",
              "      <th>1</th>\n",
              "      <td>4</td>\n",
              "      <td>108.766</td>\n",
              "      <td>0</td>\n",
              "      <td>0</td>\n",
              "      <td>0</td>\n",
              "      <td>50</td>\n",
              "      <td>-50</td>\n",
              "      <td>50</td>\n",
              "    </tr>\n",
              "  </tbody>\n",
              "</table>\n",
              "</div>\n",
              "      <button class=\"colab-df-convert\" onclick=\"convertToInteractive('df-4cdd86e0-fb8a-428e-9282-b59005f03b47')\"\n",
              "              title=\"Convert this dataframe to an interactive table.\"\n",
              "              style=\"display:none;\">\n",
              "        \n",
              "  <svg xmlns=\"http://www.w3.org/2000/svg\" height=\"24px\"viewBox=\"0 0 24 24\"\n",
              "       width=\"24px\">\n",
              "    <path d=\"M0 0h24v24H0V0z\" fill=\"none\"/>\n",
              "    <path d=\"M18.56 5.44l.94 2.06.94-2.06 2.06-.94-2.06-.94-.94-2.06-.94 2.06-2.06.94zm-11 1L8.5 8.5l.94-2.06 2.06-.94-2.06-.94L8.5 2.5l-.94 2.06-2.06.94zm10 10l.94 2.06.94-2.06 2.06-.94-2.06-.94-.94-2.06-.94 2.06-2.06.94z\"/><path d=\"M17.41 7.96l-1.37-1.37c-.4-.4-.92-.59-1.43-.59-.52 0-1.04.2-1.43.59L10.3 9.45l-7.72 7.72c-.78.78-.78 2.05 0 2.83L4 21.41c.39.39.9.59 1.41.59.51 0 1.02-.2 1.41-.59l7.78-7.78 2.81-2.81c.8-.78.8-2.07 0-2.86zM5.41 20L4 18.59l7.72-7.72 1.47 1.35L5.41 20z\"/>\n",
              "  </svg>\n",
              "      </button>\n",
              "      \n",
              "  <style>\n",
              "    .colab-df-container {\n",
              "      display:flex;\n",
              "      flex-wrap:wrap;\n",
              "      gap: 12px;\n",
              "    }\n",
              "\n",
              "    .colab-df-convert {\n",
              "      background-color: #E8F0FE;\n",
              "      border: none;\n",
              "      border-radius: 50%;\n",
              "      cursor: pointer;\n",
              "      display: none;\n",
              "      fill: #1967D2;\n",
              "      height: 32px;\n",
              "      padding: 0 0 0 0;\n",
              "      width: 32px;\n",
              "    }\n",
              "\n",
              "    .colab-df-convert:hover {\n",
              "      background-color: #E2EBFA;\n",
              "      box-shadow: 0px 1px 2px rgba(60, 64, 67, 0.3), 0px 1px 3px 1px rgba(60, 64, 67, 0.15);\n",
              "      fill: #174EA6;\n",
              "    }\n",
              "\n",
              "    [theme=dark] .colab-df-convert {\n",
              "      background-color: #3B4455;\n",
              "      fill: #D2E3FC;\n",
              "    }\n",
              "\n",
              "    [theme=dark] .colab-df-convert:hover {\n",
              "      background-color: #434B5C;\n",
              "      box-shadow: 0px 1px 3px 1px rgba(0, 0, 0, 0.15);\n",
              "      filter: drop-shadow(0px 1px 2px rgba(0, 0, 0, 0.3));\n",
              "      fill: #FFFFFF;\n",
              "    }\n",
              "  </style>\n",
              "\n",
              "      <script>\n",
              "        const buttonEl =\n",
              "          document.querySelector('#df-4cdd86e0-fb8a-428e-9282-b59005f03b47 button.colab-df-convert');\n",
              "        buttonEl.style.display =\n",
              "          google.colab.kernel.accessAllowed ? 'block' : 'none';\n",
              "\n",
              "        async function convertToInteractive(key) {\n",
              "          const element = document.querySelector('#df-4cdd86e0-fb8a-428e-9282-b59005f03b47');\n",
              "          const dataTable =\n",
              "            await google.colab.kernel.invokeFunction('convertToInteractive',\n",
              "                                                     [key], {});\n",
              "          if (!dataTable) return;\n",
              "\n",
              "          const docLinkHtml = 'Like what you see? Visit the ' +\n",
              "            '<a target=\"_blank\" href=https://colab.research.google.com/notebooks/data_table.ipynb>data table notebook</a>'\n",
              "            + ' to learn more about interactive tables.';\n",
              "          element.innerHTML = '';\n",
              "          dataTable['output_type'] = 'display_data';\n",
              "          await google.colab.output.renderOutput(dataTable, element);\n",
              "          const docLink = document.createElement('div');\n",
              "          docLink.innerHTML = docLinkHtml;\n",
              "          element.appendChild(docLink);\n",
              "        }\n",
              "      </script>\n",
              "    </div>\n",
              "  </div>\n",
              "  "
            ],
            "text/plain": [
              "   bus    icost  ocost  scost  pmin  pmax  qmin  qmax\n",
              "0    0  108.766      0      0     0    50   -50    50\n",
              "1    4  108.766      0      0     0    50   -50    50"
            ]
          },
          "metadata": {},
          "execution_count": 25
        }
      ],
      "source": [
        "pd.read_csv(\"5_bus/csol_dist.csv\")"
      ]
    },
    {
      "cell_type": "markdown",
      "id": "faaa0c40",
      "metadata": {
        "id": "faaa0c40"
      },
      "source": [
        "#### Diesel/Fossil Units"
      ]
    },
    {
      "cell_type": "code",
      "execution_count": null,
      "id": "0a1b1314",
      "metadata": {
        "colab": {
          "base_uri": "https://localhost:8080/",
          "height": 81
        },
        "id": "0a1b1314",
        "outputId": "99144c48-5883-4bcf-a5ca-525a69c5c984"
      },
      "outputs": [
        {
          "output_type": "execute_result",
          "data": {
            "text/html": [
              "\n",
              "  <div id=\"df-db4aaad5-3c4b-4769-a589-087b8adb29e3\">\n",
              "    <div class=\"colab-df-container\">\n",
              "      <div>\n",
              "<style scoped>\n",
              "    .dataframe tbody tr th:only-of-type {\n",
              "        vertical-align: middle;\n",
              "    }\n",
              "\n",
              "    .dataframe tbody tr th {\n",
              "        vertical-align: top;\n",
              "    }\n",
              "\n",
              "    .dataframe thead th {\n",
              "        text-align: right;\n",
              "    }\n",
              "</style>\n",
              "<table border=\"1\" class=\"dataframe\">\n",
              "  <thead>\n",
              "    <tr style=\"text-align: right;\">\n",
              "      <th></th>\n",
              "      <th>bus</th>\n",
              "      <th>icost</th>\n",
              "      <th>ocost</th>\n",
              "      <th>scost</th>\n",
              "      <th>pmin</th>\n",
              "      <th>pmax</th>\n",
              "      <th>qmin</th>\n",
              "      <th>qmax</th>\n",
              "      <th>hr</th>\n",
              "    </tr>\n",
              "  </thead>\n",
              "  <tbody>\n",
              "    <tr>\n",
              "      <th>0</th>\n",
              "      <td>0</td>\n",
              "      <td>12.0345</td>\n",
              "      <td>0.27</td>\n",
              "      <td>0</td>\n",
              "      <td>0</td>\n",
              "      <td>100</td>\n",
              "      <td>0</td>\n",
              "      <td>0</td>\n",
              "      <td>3</td>\n",
              "    </tr>\n",
              "  </tbody>\n",
              "</table>\n",
              "</div>\n",
              "      <button class=\"colab-df-convert\" onclick=\"convertToInteractive('df-db4aaad5-3c4b-4769-a589-087b8adb29e3')\"\n",
              "              title=\"Convert this dataframe to an interactive table.\"\n",
              "              style=\"display:none;\">\n",
              "        \n",
              "  <svg xmlns=\"http://www.w3.org/2000/svg\" height=\"24px\"viewBox=\"0 0 24 24\"\n",
              "       width=\"24px\">\n",
              "    <path d=\"M0 0h24v24H0V0z\" fill=\"none\"/>\n",
              "    <path d=\"M18.56 5.44l.94 2.06.94-2.06 2.06-.94-2.06-.94-.94-2.06-.94 2.06-2.06.94zm-11 1L8.5 8.5l.94-2.06 2.06-.94-2.06-.94L8.5 2.5l-.94 2.06-2.06.94zm10 10l.94 2.06.94-2.06 2.06-.94-2.06-.94-.94-2.06-.94 2.06-2.06.94z\"/><path d=\"M17.41 7.96l-1.37-1.37c-.4-.4-.92-.59-1.43-.59-.52 0-1.04.2-1.43.59L10.3 9.45l-7.72 7.72c-.78.78-.78 2.05 0 2.83L4 21.41c.39.39.9.59 1.41.59.51 0 1.02-.2 1.41-.59l7.78-7.78 2.81-2.81c.8-.78.8-2.07 0-2.86zM5.41 20L4 18.59l7.72-7.72 1.47 1.35L5.41 20z\"/>\n",
              "  </svg>\n",
              "      </button>\n",
              "      \n",
              "  <style>\n",
              "    .colab-df-container {\n",
              "      display:flex;\n",
              "      flex-wrap:wrap;\n",
              "      gap: 12px;\n",
              "    }\n",
              "\n",
              "    .colab-df-convert {\n",
              "      background-color: #E8F0FE;\n",
              "      border: none;\n",
              "      border-radius: 50%;\n",
              "      cursor: pointer;\n",
              "      display: none;\n",
              "      fill: #1967D2;\n",
              "      height: 32px;\n",
              "      padding: 0 0 0 0;\n",
              "      width: 32px;\n",
              "    }\n",
              "\n",
              "    .colab-df-convert:hover {\n",
              "      background-color: #E2EBFA;\n",
              "      box-shadow: 0px 1px 2px rgba(60, 64, 67, 0.3), 0px 1px 3px 1px rgba(60, 64, 67, 0.15);\n",
              "      fill: #174EA6;\n",
              "    }\n",
              "\n",
              "    [theme=dark] .colab-df-convert {\n",
              "      background-color: #3B4455;\n",
              "      fill: #D2E3FC;\n",
              "    }\n",
              "\n",
              "    [theme=dark] .colab-df-convert:hover {\n",
              "      background-color: #434B5C;\n",
              "      box-shadow: 0px 1px 3px 1px rgba(0, 0, 0, 0.15);\n",
              "      filter: drop-shadow(0px 1px 2px rgba(0, 0, 0, 0.3));\n",
              "      fill: #FFFFFF;\n",
              "    }\n",
              "  </style>\n",
              "\n",
              "      <script>\n",
              "        const buttonEl =\n",
              "          document.querySelector('#df-db4aaad5-3c4b-4769-a589-087b8adb29e3 button.colab-df-convert');\n",
              "        buttonEl.style.display =\n",
              "          google.colab.kernel.accessAllowed ? 'block' : 'none';\n",
              "\n",
              "        async function convertToInteractive(key) {\n",
              "          const element = document.querySelector('#df-db4aaad5-3c4b-4769-a589-087b8adb29e3');\n",
              "          const dataTable =\n",
              "            await google.colab.kernel.invokeFunction('convertToInteractive',\n",
              "                                                     [key], {});\n",
              "          if (!dataTable) return;\n",
              "\n",
              "          const docLinkHtml = 'Like what you see? Visit the ' +\n",
              "            '<a target=\"_blank\" href=https://colab.research.google.com/notebooks/data_table.ipynb>data table notebook</a>'\n",
              "            + ' to learn more about interactive tables.';\n",
              "          element.innerHTML = '';\n",
              "          dataTable['output_type'] = 'display_data';\n",
              "          await google.colab.output.renderOutput(dataTable, element);\n",
              "          const docLink = document.createElement('div');\n",
              "          docLink.innerHTML = docLinkHtml;\n",
              "          element.appendChild(docLink);\n",
              "        }\n",
              "      </script>\n",
              "    </div>\n",
              "  </div>\n",
              "  "
            ],
            "text/plain": [
              "   bus    icost  ocost  scost  pmin  pmax  qmin  qmax  hr\n",
              "0    0  12.0345   0.27      0     0   100     0     0   3"
            ]
          },
          "metadata": {},
          "execution_count": 26
        }
      ],
      "source": [
        "pd.read_csv(\"5_bus/cgen_dist.csv\")"
      ]
    },
    {
      "cell_type": "markdown",
      "id": "c31d0565",
      "metadata": {
        "id": "c31d0565"
      },
      "source": [
        "## Solving the optimization problem"
      ]
    },
    {
      "cell_type": "markdown",
      "id": "03cb00ea",
      "metadata": {
        "id": "03cb00ea"
      },
      "source": [
        "PyEPLAN can be used to solve the problem investment and operation planning problems simultaneously. In case no investment candidates are availble, a sole operation planning problem can be run by setting input 'onlyopr = True'. Available solvers inclde both open source solvers include glpk, cbc, and commercial solvers ipopt, gurobi given one has the required licences. If discrete capacities of investment units are available the input 'invest = True' this sets the investement-related decision variables to a binary nature where the unit capacity = maximum capacity. Otherwise,  'invest = False' sets the investement-related decision variables to a continuous nature where the unit capacity <= maximum capacity."
      ]
    },
    {
      "cell_type": "code",
      "execution_count": null,
      "id": "d84d5a68",
      "metadata": {
        "colab": {
          "base_uri": "https://localhost:8080/"
        },
        "id": "d84d5a68",
        "outputId": "5481d5f9-ac50-4877-c3da-eb79e81f3626"
      },
      "outputs": [
        {
          "output_type": "stream",
          "name": "stdout",
          "text": [
            "GLPSOL: GLPK LP/MIP Solver, v4.65\n",
            "Parameter(s) specified in the command line:\n",
            " --write /tmp/tmp7_bjck9v.glpk.raw --wglp /tmp/tmplxbua8ou.glpk.glp --cpxlp\n",
            " /tmp/tmpzlpr1tcm.pyomo.lp\n",
            "Reading problem data from '/tmp/tmpzlpr1tcm.pyomo.lp'...\n",
            "218 rows, 133 columns, 502 non-zeros\n",
            "1297 lines were read\n",
            "Writing problem data to '/tmp/tmplxbua8ou.glpk.glp'...\n",
            "1087 lines were written\n",
            "GLPK Simplex Optimizer, v4.65\n",
            "218 rows, 133 columns, 502 non-zeros\n",
            "Preprocessing...\n",
            "99 rows, 74 columns, 289 non-zeros\n",
            "Scaling...\n",
            " A: min|aij| =  1.852e-08  max|aij| =  6.000e+02  ratio =  3.241e+10\n",
            "GM: min|aij| =  5.275e-01  max|aij| =  1.896e+00  ratio =  3.594e+00\n",
            "EQ: min|aij| =  2.887e-01  max|aij| =  1.000e+00  ratio =  3.463e+00\n",
            "Constructing initial basis...\n",
            "Size of triangular part is 99\n",
            "      0: obj =   5.865550000e+06 inf =   9.377e+05 (21)\n",
            "     34: obj =   5.865550000e+06 inf =   6.003e-11 (0)\n",
            "*    67: obj =   1.405547917e+04 inf =   1.043e-12 (0)\n",
            "OPTIMAL LP SOLUTION FOUND\n",
            "Time used:   0.0 secs\n",
            "Memory used: 0.2 Mb (214073 bytes)\n",
            "Writing basic solution to '/tmp/tmp7_bjck9v.glpk.raw'...\n",
            "360 lines were written\n"
          ]
        }
      ],
      "source": [
        "inosys.solve(solver = 'glpk', onlyopr = False, invest = False, )"
      ]
    },
    {
      "cell_type": "markdown",
      "id": "706c0be1",
      "metadata": {
        "id": "706c0be1"
      },
      "source": [
        "## Results"
      ]
    },
    {
      "cell_type": "markdown",
      "id": "026c9dd4",
      "metadata": {
        "id": "026c9dd4"
      },
      "source": [
        "A folder named 'results' will be created with the output of the optimal solution to the planning problem. The different result files are defined [here](https://pyeplan.sps-lab.org/user_guide/output.html). Below we show the capital costs and operational costs obtained to satify the load in the 5-bus network."
      ]
    },
    {
      "cell_type": "markdown",
      "id": "c10e0d24",
      "metadata": {
        "id": "c10e0d24"
      },
      "source": [
        "### Total investment and operational costs"
      ]
    },
    {
      "cell_type": "code",
      "execution_count": null,
      "id": "f7b6489f",
      "metadata": {
        "colab": {
          "base_uri": "https://localhost:8080/",
          "height": 112
        },
        "id": "f7b6489f",
        "outputId": "1ac77750-5cfc-4ea9-8b7a-79e9e631e1b6"
      },
      "outputs": [
        {
          "output_type": "execute_result",
          "data": {
            "text/html": [
              "\n",
              "  <div id=\"df-2677ce5b-0814-4a9f-8dcc-f780bd884746\">\n",
              "    <div class=\"colab-df-container\">\n",
              "      <div>\n",
              "<style scoped>\n",
              "    .dataframe tbody tr th:only-of-type {\n",
              "        vertical-align: middle;\n",
              "    }\n",
              "\n",
              "    .dataframe tbody tr th {\n",
              "        vertical-align: top;\n",
              "    }\n",
              "\n",
              "    .dataframe thead th {\n",
              "        text-align: right;\n",
              "    }\n",
              "</style>\n",
              "<table border=\"1\" class=\"dataframe\">\n",
              "  <thead>\n",
              "    <tr style=\"text-align: right;\">\n",
              "      <th></th>\n",
              "      <th>total costs</th>\n",
              "      <th>14055.479167</th>\n",
              "    </tr>\n",
              "  </thead>\n",
              "  <tbody>\n",
              "    <tr>\n",
              "      <th>0</th>\n",
              "      <td>total investment costs</td>\n",
              "      <td>11125.319656</td>\n",
              "    </tr>\n",
              "    <tr>\n",
              "      <th>1</th>\n",
              "      <td>total operation costs</td>\n",
              "      <td>2930.159510</td>\n",
              "    </tr>\n",
              "  </tbody>\n",
              "</table>\n",
              "</div>\n",
              "      <button class=\"colab-df-convert\" onclick=\"convertToInteractive('df-2677ce5b-0814-4a9f-8dcc-f780bd884746')\"\n",
              "              title=\"Convert this dataframe to an interactive table.\"\n",
              "              style=\"display:none;\">\n",
              "        \n",
              "  <svg xmlns=\"http://www.w3.org/2000/svg\" height=\"24px\"viewBox=\"0 0 24 24\"\n",
              "       width=\"24px\">\n",
              "    <path d=\"M0 0h24v24H0V0z\" fill=\"none\"/>\n",
              "    <path d=\"M18.56 5.44l.94 2.06.94-2.06 2.06-.94-2.06-.94-.94-2.06-.94 2.06-2.06.94zm-11 1L8.5 8.5l.94-2.06 2.06-.94-2.06-.94L8.5 2.5l-.94 2.06-2.06.94zm10 10l.94 2.06.94-2.06 2.06-.94-2.06-.94-.94-2.06-.94 2.06-2.06.94z\"/><path d=\"M17.41 7.96l-1.37-1.37c-.4-.4-.92-.59-1.43-.59-.52 0-1.04.2-1.43.59L10.3 9.45l-7.72 7.72c-.78.78-.78 2.05 0 2.83L4 21.41c.39.39.9.59 1.41.59.51 0 1.02-.2 1.41-.59l7.78-7.78 2.81-2.81c.8-.78.8-2.07 0-2.86zM5.41 20L4 18.59l7.72-7.72 1.47 1.35L5.41 20z\"/>\n",
              "  </svg>\n",
              "      </button>\n",
              "      \n",
              "  <style>\n",
              "    .colab-df-container {\n",
              "      display:flex;\n",
              "      flex-wrap:wrap;\n",
              "      gap: 12px;\n",
              "    }\n",
              "\n",
              "    .colab-df-convert {\n",
              "      background-color: #E8F0FE;\n",
              "      border: none;\n",
              "      border-radius: 50%;\n",
              "      cursor: pointer;\n",
              "      display: none;\n",
              "      fill: #1967D2;\n",
              "      height: 32px;\n",
              "      padding: 0 0 0 0;\n",
              "      width: 32px;\n",
              "    }\n",
              "\n",
              "    .colab-df-convert:hover {\n",
              "      background-color: #E2EBFA;\n",
              "      box-shadow: 0px 1px 2px rgba(60, 64, 67, 0.3), 0px 1px 3px 1px rgba(60, 64, 67, 0.15);\n",
              "      fill: #174EA6;\n",
              "    }\n",
              "\n",
              "    [theme=dark] .colab-df-convert {\n",
              "      background-color: #3B4455;\n",
              "      fill: #D2E3FC;\n",
              "    }\n",
              "\n",
              "    [theme=dark] .colab-df-convert:hover {\n",
              "      background-color: #434B5C;\n",
              "      box-shadow: 0px 1px 3px 1px rgba(0, 0, 0, 0.15);\n",
              "      filter: drop-shadow(0px 1px 2px rgba(0, 0, 0, 0.3));\n",
              "      fill: #FFFFFF;\n",
              "    }\n",
              "  </style>\n",
              "\n",
              "      <script>\n",
              "        const buttonEl =\n",
              "          document.querySelector('#df-2677ce5b-0814-4a9f-8dcc-f780bd884746 button.colab-df-convert');\n",
              "        buttonEl.style.display =\n",
              "          google.colab.kernel.accessAllowed ? 'block' : 'none';\n",
              "\n",
              "        async function convertToInteractive(key) {\n",
              "          const element = document.querySelector('#df-2677ce5b-0814-4a9f-8dcc-f780bd884746');\n",
              "          const dataTable =\n",
              "            await google.colab.kernel.invokeFunction('convertToInteractive',\n",
              "                                                     [key], {});\n",
              "          if (!dataTable) return;\n",
              "\n",
              "          const docLinkHtml = 'Like what you see? Visit the ' +\n",
              "            '<a target=\"_blank\" href=https://colab.research.google.com/notebooks/data_table.ipynb>data table notebook</a>'\n",
              "            + ' to learn more about interactive tables.';\n",
              "          element.innerHTML = '';\n",
              "          dataTable['output_type'] = 'display_data';\n",
              "          await google.colab.output.renderOutput(dataTable, element);\n",
              "          const docLink = document.createElement('div');\n",
              "          docLink.innerHTML = docLinkHtml;\n",
              "          element.appendChild(docLink);\n",
              "        }\n",
              "      </script>\n",
              "    </div>\n",
              "  </div>\n",
              "  "
            ],
            "text/plain": [
              "              total costs  14055.479167\n",
              "0  total investment costs  11125.319656\n",
              "1   total operation costs   2930.159510"
            ]
          },
          "metadata": {},
          "execution_count": 28
        }
      ],
      "source": [
        "pd.read_csv(\"5_bus/results/obj.csv\")"
      ]
    },
    {
      "cell_type": "markdown",
      "id": "48bdc63c",
      "metadata": {
        "id": "48bdc63c"
      },
      "source": [
        "### Number and capacity of battery units installed"
      ]
    },
    {
      "cell_type": "markdown",
      "id": "8f71a057",
      "metadata": {
        "id": "8f71a057"
      },
      "source": [
        "The capacity and location of battery units installed is:"
      ]
    },
    {
      "cell_type": "code",
      "execution_count": null,
      "id": "a69c429f",
      "metadata": {
        "hide_input": true,
        "colab": {
          "base_uri": "https://localhost:8080/",
          "height": 143
        },
        "id": "a69c429f",
        "outputId": "ff2a5a47-7525-4490-db61-992886b4b87c"
      },
      "outputs": [
        {
          "output_type": "execute_result",
          "data": {
            "text/html": [
              "<style  type=\"text/css\" >\n",
              "</style><table id=\"T_2b92f24a_68e0_11ec_ba07_0242ac1c0002\" class=\"dataframe\"><thead>    <tr>        <th class=\"blank level0\" ></th>        <th class=\"col_heading level0 col0\" >Installed Capacity (kW)</th>        <th class=\"col_heading level0 col1\" >Bus</th>    </tr>    <tr>        <th class=\"index_name level0\" >Unit</th>        <th class=\"blank\" ></th>        <th class=\"blank\" ></th>    </tr></thead><tbody>\n",
              "                <tr>\n",
              "                        <th id=\"T_2b92f24a_68e0_11ec_ba07_0242ac1c0002level0_row0\" class=\"row_heading level0 row0\" >1</th>\n",
              "                        <td id=\"T_2b92f24a_68e0_11ec_ba07_0242ac1c0002row0_col0\" class=\"data row0 col0\" >0.000000</td>\n",
              "                        <td id=\"T_2b92f24a_68e0_11ec_ba07_0242ac1c0002row0_col1\" class=\"data row0 col1\" >0</td>\n",
              "            </tr>\n",
              "            <tr>\n",
              "                        <th id=\"T_2b92f24a_68e0_11ec_ba07_0242ac1c0002level0_row1\" class=\"row_heading level0 row1\" >2</th>\n",
              "                        <td id=\"T_2b92f24a_68e0_11ec_ba07_0242ac1c0002row1_col0\" class=\"data row1 col0\" >0.000000</td>\n",
              "                        <td id=\"T_2b92f24a_68e0_11ec_ba07_0242ac1c0002row1_col1\" class=\"data row1 col1\" >4</td>\n",
              "            </tr>\n",
              "    </tbody></table>"
            ],
            "text/plain": [
              "<pandas.io.formats.style.Styler at 0x7f30e9fdef10>"
            ]
          },
          "metadata": {},
          "execution_count": 29
        }
      ],
      "source": [
        "import numpy as np\n",
        "cbat = pd.read_csv(\"5_bus/cbat_dist.csv\")\n",
        "ibat = pd.read_csv(\"5_bus/results/xb.csv\")\n",
        "cbat['Unit'] = (np.arange(1,len(ibat.columns)+1))\n",
        "unit = cbat.loc[:,'Unit']\n",
        "bus = np.array(cbat.loc[:,'bus'])\n",
        "out_bat =(((cbat.loc[:,'pmax']*round(ibat.loc[0:,].T,2))[0]).to_frame().set_index(unit)).rename(columns={0: 'Installed Capacity (kW)'})\n",
        "out_bat['Bus'] = bus\n",
        "out_bat.style"
      ]
    },
    {
      "cell_type": "markdown",
      "id": "0e3f737f",
      "metadata": {
        "id": "0e3f737f"
      },
      "source": [
        "### Number and capacity of solar units installed"
      ]
    },
    {
      "cell_type": "markdown",
      "id": "8b1d07f7",
      "metadata": {
        "id": "8b1d07f7"
      },
      "source": [
        "The capacity and location of solar units installed is:"
      ]
    },
    {
      "cell_type": "code",
      "execution_count": null,
      "id": "9256250e",
      "metadata": {
        "colab": {
          "base_uri": "https://localhost:8080/",
          "height": 143
        },
        "id": "9256250e",
        "outputId": "0717b922-9814-40c0-f858-6216ef937317"
      },
      "outputs": [
        {
          "output_type": "execute_result",
          "data": {
            "text/html": [
              "<style  type=\"text/css\" >\n",
              "</style><table id=\"T_2b9a0b02_68e0_11ec_ba07_0242ac1c0002\" class=\"dataframe\"><thead>    <tr>        <th class=\"blank level0\" ></th>        <th class=\"col_heading level0 col0\" >Installed Capacity (kW)</th>        <th class=\"col_heading level0 col1\" >Bus</th>    </tr>    <tr>        <th class=\"index_name level0\" >Unit</th>        <th class=\"blank\" ></th>        <th class=\"blank\" ></th>    </tr></thead><tbody>\n",
              "                <tr>\n",
              "                        <th id=\"T_2b9a0b02_68e0_11ec_ba07_0242ac1c0002level0_row0\" class=\"row_heading level0 row0\" >1</th>\n",
              "                        <td id=\"T_2b9a0b02_68e0_11ec_ba07_0242ac1c0002row0_col0\" class=\"data row0 col0\" >50.000000</td>\n",
              "                        <td id=\"T_2b9a0b02_68e0_11ec_ba07_0242ac1c0002row0_col1\" class=\"data row0 col1\" >0</td>\n",
              "            </tr>\n",
              "            <tr>\n",
              "                        <th id=\"T_2b9a0b02_68e0_11ec_ba07_0242ac1c0002level0_row1\" class=\"row_heading level0 row1\" >2</th>\n",
              "                        <td id=\"T_2b9a0b02_68e0_11ec_ba07_0242ac1c0002row1_col0\" class=\"data row1 col0\" >50.000000</td>\n",
              "                        <td id=\"T_2b9a0b02_68e0_11ec_ba07_0242ac1c0002row1_col1\" class=\"data row1 col1\" >4</td>\n",
              "            </tr>\n",
              "    </tbody></table>"
            ],
            "text/plain": [
              "<pandas.io.formats.style.Styler at 0x7f30e9fd4810>"
            ]
          },
          "metadata": {},
          "execution_count": 30
        }
      ],
      "source": [
        "csol = pd.read_csv(\"5_bus/csol_dist.csv\")\n",
        "isol = pd.read_csv(\"5_bus/results/xs.csv\")\n",
        "csol['Unit'] = (np.arange(1,len(isol.columns)+1))\n",
        "unit = csol.loc[:,'Unit']\n",
        "bus = np.array(csol.loc[:,'bus'])\n",
        "out_sol =(((csol.loc[:,'pmax']*round(isol.loc[0:,].T,2))[0]).to_frame().set_index(unit)).rename(columns={0: 'Installed Capacity (kW)'})\n",
        "out_sol['Bus'] = bus\n",
        "out_sol.style"
      ]
    },
    {
      "cell_type": "markdown",
      "id": "84e0bc46",
      "metadata": {
        "id": "84e0bc46"
      },
      "source": [
        "### Number and capacity of diesel units installed"
      ]
    },
    {
      "cell_type": "markdown",
      "id": "2c64986d",
      "metadata": {
        "id": "2c64986d"
      },
      "source": [
        "The capacity and location of diesel units installed is:"
      ]
    },
    {
      "cell_type": "code",
      "execution_count": null,
      "id": "210363f2",
      "metadata": {
        "colab": {
          "base_uri": "https://localhost:8080/",
          "height": 112
        },
        "id": "210363f2",
        "outputId": "b14297b8-8428-4fe4-85c1-4e086b91fdb4"
      },
      "outputs": [
        {
          "output_type": "execute_result",
          "data": {
            "text/html": [
              "\n",
              "  <div id=\"df-67543b01-6f2a-466a-a313-95e92388e989\">\n",
              "    <div class=\"colab-df-container\">\n",
              "      <div>\n",
              "<style scoped>\n",
              "    .dataframe tbody tr th:only-of-type {\n",
              "        vertical-align: middle;\n",
              "    }\n",
              "\n",
              "    .dataframe tbody tr th {\n",
              "        vertical-align: top;\n",
              "    }\n",
              "\n",
              "    .dataframe thead th {\n",
              "        text-align: right;\n",
              "    }\n",
              "</style>\n",
              "<table border=\"1\" class=\"dataframe\">\n",
              "  <thead>\n",
              "    <tr style=\"text-align: right;\">\n",
              "      <th></th>\n",
              "      <th>Installed Capacity (kW)</th>\n",
              "    </tr>\n",
              "    <tr>\n",
              "      <th>bus</th>\n",
              "      <th></th>\n",
              "    </tr>\n",
              "  </thead>\n",
              "  <tbody>\n",
              "    <tr>\n",
              "      <th>0</th>\n",
              "      <td>21.0</td>\n",
              "    </tr>\n",
              "  </tbody>\n",
              "</table>\n",
              "</div>\n",
              "      <button class=\"colab-df-convert\" onclick=\"convertToInteractive('df-67543b01-6f2a-466a-a313-95e92388e989')\"\n",
              "              title=\"Convert this dataframe to an interactive table.\"\n",
              "              style=\"display:none;\">\n",
              "        \n",
              "  <svg xmlns=\"http://www.w3.org/2000/svg\" height=\"24px\"viewBox=\"0 0 24 24\"\n",
              "       width=\"24px\">\n",
              "    <path d=\"M0 0h24v24H0V0z\" fill=\"none\"/>\n",
              "    <path d=\"M18.56 5.44l.94 2.06.94-2.06 2.06-.94-2.06-.94-.94-2.06-.94 2.06-2.06.94zm-11 1L8.5 8.5l.94-2.06 2.06-.94-2.06-.94L8.5 2.5l-.94 2.06-2.06.94zm10 10l.94 2.06.94-2.06 2.06-.94-2.06-.94-.94-2.06-.94 2.06-2.06.94z\"/><path d=\"M17.41 7.96l-1.37-1.37c-.4-.4-.92-.59-1.43-.59-.52 0-1.04.2-1.43.59L10.3 9.45l-7.72 7.72c-.78.78-.78 2.05 0 2.83L4 21.41c.39.39.9.59 1.41.59.51 0 1.02-.2 1.41-.59l7.78-7.78 2.81-2.81c.8-.78.8-2.07 0-2.86zM5.41 20L4 18.59l7.72-7.72 1.47 1.35L5.41 20z\"/>\n",
              "  </svg>\n",
              "      </button>\n",
              "      \n",
              "  <style>\n",
              "    .colab-df-container {\n",
              "      display:flex;\n",
              "      flex-wrap:wrap;\n",
              "      gap: 12px;\n",
              "    }\n",
              "\n",
              "    .colab-df-convert {\n",
              "      background-color: #E8F0FE;\n",
              "      border: none;\n",
              "      border-radius: 50%;\n",
              "      cursor: pointer;\n",
              "      display: none;\n",
              "      fill: #1967D2;\n",
              "      height: 32px;\n",
              "      padding: 0 0 0 0;\n",
              "      width: 32px;\n",
              "    }\n",
              "\n",
              "    .colab-df-convert:hover {\n",
              "      background-color: #E2EBFA;\n",
              "      box-shadow: 0px 1px 2px rgba(60, 64, 67, 0.3), 0px 1px 3px 1px rgba(60, 64, 67, 0.15);\n",
              "      fill: #174EA6;\n",
              "    }\n",
              "\n",
              "    [theme=dark] .colab-df-convert {\n",
              "      background-color: #3B4455;\n",
              "      fill: #D2E3FC;\n",
              "    }\n",
              "\n",
              "    [theme=dark] .colab-df-convert:hover {\n",
              "      background-color: #434B5C;\n",
              "      box-shadow: 0px 1px 3px 1px rgba(0, 0, 0, 0.15);\n",
              "      filter: drop-shadow(0px 1px 2px rgba(0, 0, 0, 0.3));\n",
              "      fill: #FFFFFF;\n",
              "    }\n",
              "  </style>\n",
              "\n",
              "      <script>\n",
              "        const buttonEl =\n",
              "          document.querySelector('#df-67543b01-6f2a-466a-a313-95e92388e989 button.colab-df-convert');\n",
              "        buttonEl.style.display =\n",
              "          google.colab.kernel.accessAllowed ? 'block' : 'none';\n",
              "\n",
              "        async function convertToInteractive(key) {\n",
              "          const element = document.querySelector('#df-67543b01-6f2a-466a-a313-95e92388e989');\n",
              "          const dataTable =\n",
              "            await google.colab.kernel.invokeFunction('convertToInteractive',\n",
              "                                                     [key], {});\n",
              "          if (!dataTable) return;\n",
              "\n",
              "          const docLinkHtml = 'Like what you see? Visit the ' +\n",
              "            '<a target=\"_blank\" href=https://colab.research.google.com/notebooks/data_table.ipynb>data table notebook</a>'\n",
              "            + ' to learn more about interactive tables.';\n",
              "          element.innerHTML = '';\n",
              "          dataTable['output_type'] = 'display_data';\n",
              "          await google.colab.output.renderOutput(dataTable, element);\n",
              "          const docLink = document.createElement('div');\n",
              "          docLink.innerHTML = docLinkHtml;\n",
              "          element.appendChild(docLink);\n",
              "        }\n",
              "      </script>\n",
              "    </div>\n",
              "  </div>\n",
              "  "
            ],
            "text/plain": [
              "     Installed Capacity (kW)\n",
              "bus                         \n",
              "0                       21.0"
            ]
          },
          "metadata": {},
          "execution_count": 31
        }
      ],
      "source": [
        "cgen = pd.read_csv(\"5_bus/cgen_dist.csv\")\n",
        "igen = pd.read_csv(\"5_bus/results/xg.csv\")\n",
        "bus = cgen.loc[:,'bus']\n",
        "(((cgen.loc[:,'pmax']*round(igen.loc[0:,].T,2))[0]).to_frame().set_index(bus)).rename(columns={0: 'Installed Capacity (kW)'})"
      ]
    },
    {
      "cell_type": "markdown",
      "id": "216f7830",
      "metadata": {
        "id": "216f7830"
      },
      "source": [
        "### Amount of load curtailed"
      ]
    },
    {
      "cell_type": "markdown",
      "id": "ea72c984",
      "metadata": {
        "id": "ea72c984"
      },
      "source": [
        "The level of load demand that has been curtailed at each node is:"
      ]
    },
    {
      "cell_type": "code",
      "execution_count": null,
      "id": "4a64a895",
      "metadata": {
        "colab": {
          "base_uri": "https://localhost:8080/",
          "height": 175
        },
        "id": "4a64a895",
        "outputId": "1f285b9f-0dc4-495a-899c-ca325bd7719b"
      },
      "outputs": [
        {
          "output_type": "execute_result",
          "data": {
            "text/html": [
              "<style  type=\"text/css\" >\n",
              "</style><table id=\"T_2ba35752_68e0_11ec_ba07_0242ac1c0002\" class=\"dataframe\"><thead>    <tr>        <th class=\"blank level0\" ></th>        <th class=\"col_heading level0 col0\" >0</th>        <th class=\"col_heading level0 col1\" >1</th>        <th class=\"col_heading level0 col2\" >2</th>        <th class=\"col_heading level0 col3\" >3</th>        <th class=\"col_heading level0 col4\" >4</th>    </tr>    <tr>        <th class=\"index_name level0\" >Hour</th>        <th class=\"blank\" ></th>        <th class=\"blank\" ></th>        <th class=\"blank\" ></th>        <th class=\"blank\" ></th>        <th class=\"blank\" ></th>    </tr></thead><tbody>\n",
              "                <tr>\n",
              "                        <th id=\"T_2ba35752_68e0_11ec_ba07_0242ac1c0002level0_row0\" class=\"row_heading level0 row0\" >0</th>\n",
              "                        <td id=\"T_2ba35752_68e0_11ec_ba07_0242ac1c0002row0_col0\" class=\"data row0 col0\" >0.000000</td>\n",
              "                        <td id=\"T_2ba35752_68e0_11ec_ba07_0242ac1c0002row0_col1\" class=\"data row0 col1\" >0.000000</td>\n",
              "                        <td id=\"T_2ba35752_68e0_11ec_ba07_0242ac1c0002row0_col2\" class=\"data row0 col2\" >0.000000</td>\n",
              "                        <td id=\"T_2ba35752_68e0_11ec_ba07_0242ac1c0002row0_col3\" class=\"data row0 col3\" >0.000000</td>\n",
              "                        <td id=\"T_2ba35752_68e0_11ec_ba07_0242ac1c0002row0_col4\" class=\"data row0 col4\" >0.000000</td>\n",
              "            </tr>\n",
              "            <tr>\n",
              "                        <th id=\"T_2ba35752_68e0_11ec_ba07_0242ac1c0002level0_row1\" class=\"row_heading level0 row1\" >1</th>\n",
              "                        <td id=\"T_2ba35752_68e0_11ec_ba07_0242ac1c0002row1_col0\" class=\"data row1 col0\" >0.000000</td>\n",
              "                        <td id=\"T_2ba35752_68e0_11ec_ba07_0242ac1c0002row1_col1\" class=\"data row1 col1\" >0.000000</td>\n",
              "                        <td id=\"T_2ba35752_68e0_11ec_ba07_0242ac1c0002row1_col2\" class=\"data row1 col2\" >0.000000</td>\n",
              "                        <td id=\"T_2ba35752_68e0_11ec_ba07_0242ac1c0002row1_col3\" class=\"data row1 col3\" >0.000000</td>\n",
              "                        <td id=\"T_2ba35752_68e0_11ec_ba07_0242ac1c0002row1_col4\" class=\"data row1 col4\" >0.000000</td>\n",
              "            </tr>\n",
              "            <tr>\n",
              "                        <th id=\"T_2ba35752_68e0_11ec_ba07_0242ac1c0002level0_row2\" class=\"row_heading level0 row2\" >2</th>\n",
              "                        <td id=\"T_2ba35752_68e0_11ec_ba07_0242ac1c0002row2_col0\" class=\"data row2 col0\" >0.000000</td>\n",
              "                        <td id=\"T_2ba35752_68e0_11ec_ba07_0242ac1c0002row2_col1\" class=\"data row2 col1\" >0.000000</td>\n",
              "                        <td id=\"T_2ba35752_68e0_11ec_ba07_0242ac1c0002row2_col2\" class=\"data row2 col2\" >0.000000</td>\n",
              "                        <td id=\"T_2ba35752_68e0_11ec_ba07_0242ac1c0002row2_col3\" class=\"data row2 col3\" >0.000000</td>\n",
              "                        <td id=\"T_2ba35752_68e0_11ec_ba07_0242ac1c0002row2_col4\" class=\"data row2 col4\" >0.000000</td>\n",
              "            </tr>\n",
              "    </tbody></table>"
            ],
            "text/plain": [
              "<pandas.io.formats.style.Styler at 0x7f30e9fd8c90>"
            ]
          },
          "metadata": {},
          "execution_count": 32
        }
      ],
      "source": [
        "pds =pd.read_csv(\"5_bus/results/pds.csv\")\n",
        "pds.index.name ='Hour'\n",
        "pds.style"
      ]
    },
    {
      "cell_type": "markdown",
      "id": "c3070cf1",
      "metadata": {
        "id": "c3070cf1"
      },
      "source": [
        "## Remarks"
      ]
    },
    {
      "cell_type": "markdown",
      "id": "8609fc4b",
      "metadata": {
        "id": "8609fc4b"
      },
      "source": [
        "This example showcases the planning modules in PyEPLAN. Different solutions can be obtained by varrying the input data based on the user's own system data."
      ]
    },
    {
      "cell_type": "code",
      "execution_count": null,
      "id": "96fc6c3a",
      "metadata": {
        "id": "96fc6c3a"
      },
      "outputs": [],
      "source": [
        ""
      ]
    }
  ],
  "metadata": {
    "celltoolbar": "Raw Cell Format",
    "kernelspec": {
      "display_name": "Python 3 (ipykernel)",
      "language": "python",
      "name": "python3"
    },
    "language_info": {
      "codemirror_mode": {
        "name": "ipython",
        "version": 3
      },
      "file_extension": ".py",
      "mimetype": "text/x-python",
      "name": "python",
      "nbconvert_exporter": "python",
      "pygments_lexer": "ipython3",
      "version": "3.9.7"
    },
    "colab": {
      "name": "5-bus Example Planning.ipynb",
      "provenance": [],
      "include_colab_link": true
    }
  },
  "nbformat": 4,
  "nbformat_minor": 5
}