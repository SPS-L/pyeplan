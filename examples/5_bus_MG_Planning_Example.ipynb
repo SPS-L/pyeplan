{
 "cells": [
  {
   "cell_type": "markdown",
   "id": "e0a071f5",
   "metadata": {
    "colab_type": "text",
    "id": "view-in-github"
   },
   "source": [
    "<a href=\"https://colab.research.google.com/github/SPS-L/pyeplan/blob/master/examples/5_bus_MG_Planning_Example.ipynb\" target=\"_parent\"><img src=\"https://colab.research.google.com/assets/colab-badge.svg\" alt=\"Open In Colab\"/></a>"
   ]
  },
  {
   "cell_type": "markdown",
   "id": "b243dcf7",
   "metadata": {
    "id": "b243dcf7"
   },
   "source": [
    "<center>\n",
    "\n",
    "# Illustrative example for investment and operation planning for a small microgrid network with five buses\n",
    "\n",
    "---\n",
    "<center>\n",
    "\n",
    "\n",
    "\n",
    "\n",
    "\n"
   ]
  },
  {
   "cell_type": "markdown",
   "id": "SeA6XVQhj59P",
   "metadata": {
    "id": "SeA6XVQhj59P"
   },
   "source": [
    "\n",
    "## Introduction"
   ]
  },
  {
   "cell_type": "markdown",
   "id": "8f2b86cc",
   "metadata": {
    "id": "8f2b86cc"
   },
   "source": [
    "In this example we consider a small microgrid network consisting of 5 buses. A bus corresponds to a location where the power is either injected into the system (e.g., a generator) or consumed (an electrical load). There is an load connected at each bus. \n",
    "\n",
    "We use one representative day with three operational hours is used to describe the potential operational scenarios i.e., to define the load and generation profiles. \n",
    "\n",
    "Three types of investment candidate generators i.e, battery units, solar units and diesel generation units. Their potential location in the network will be defined using the input system data.\n",
    "\n",
    "We showcase how the Investment and Operation Planning Modules of PyEPLAN can be used to derive optimal units to be installed in the network.\n",
    "\n"
   ]
  },
  {
   "cell_type": "markdown",
   "id": "stCv6-OpkkWv",
   "metadata": {
    "id": "stCv6-OpkkWv"
   },
   "source": [
    "## Instructions\n",
    "\n",
    "*   This example is designed to be run on Google Colab. If this is the first time you use Colab, please take a 3-minute break and check out [this video](https://youtu.be/inN8seMm7UI).\n",
    "\n",
    "*   To get a quickstart, simply select \"**Runtime->Run all**\" in the menu and accept the prompt. This will execute the entire notebook and you can read through it like a report.\n",
    "\n",
    "*   At the warning prompt i.e., '*Warning: This notebook was not authored by Google*', select \"Run anyway\".\n",
    "\n",
    "*  As a pre-requisite, take time to study the [single household example](https://colab.research.google.com/github/SPS-L/pyeplan/blob/master/examples/SHS_Planning_Example.ipynb) before continuing.\n",
    "\n",
    "*   It is not a pre-requisite to have python programming experience to go through this example. However, for the interested learner, select \"Show code\" to view more details on how the platfrom has been setup.\n",
    "\n",
    "*   After you have gone through this example, try out the task at the end of the report to enhance your learning experience. After making any changes, simply select \"Runtime->Run all\" to see the effect of your changes at each instant."
   ]
  },
  {
   "cell_type": "markdown",
   "id": "gKRsWjflw6zM",
   "metadata": {
    "id": "gKRsWjflw6zM"
   },
   "source": [
    "## Preparing the eplatform to execute the PyEPLAN software\n",
    "The following commands are used to download the system data and intialise the Colab platform to run PyEPLAN."
   ]
  },
  {
   "cell_type": "code",
   "execution_count": null,
   "id": "-y4OUILDqzMz",
   "metadata": {
    "cellView": "form",
    "colab": {
     "base_uri": "https://localhost:8080/"
    },
    "id": "-y4OUILDqzMz",
    "outputId": "9ee8e2df-ff8e-4746-9d07-4954df065c73"
   },
   "outputs": [],
   "source": [
    "#@title \n",
    "!rm -r sample_data\n",
    "!rm -r pyeplan"
   ]
  },
  {
   "cell_type": "code",
   "execution_count": null,
   "id": "16WFsHFcq7Bg",
   "metadata": {
    "cellView": "form",
    "id": "16WFsHFcq7Bg"
   },
   "outputs": [],
   "source": [
    "#@markdown  \n",
    "\n",
    "!git clone https://github.com/SPS-L/pyeplan.git\n",
    "!cd pyeplan/examples"
   ]
  },
  {
   "cell_type": "code",
   "execution_count": null,
   "id": "o4Iy5dv7rAVt",
   "metadata": {
    "cellView": "form",
    "id": "o4Iy5dv7rAVt"
   },
   "outputs": [],
   "source": [
    "#@title \n",
    "\n",
    "!apt-get install -y -qq glpk-utils  &> /dev/null\n",
    "!apt-get install -y -qq coinor-cbc  &> /dev/null\n",
    "!pip install -q pyomo &> /dev/null\n",
    "!pyomo install-extras &> /dev/null"
   ]
  },
  {
   "cell_type": "code",
   "execution_count": null,
   "id": "Kmj3FJBorUa6",
   "metadata": {
    "cellView": "form",
    "id": "Kmj3FJBorUa6"
   },
   "outputs": [],
   "source": [
    "#@markdown PyEPLAN software is installed using the following command. \n",
    "\n",
    "!pip install -q pyeplan==1.1.0  &> /dev/null"
   ]
  },
  {
   "cell_type": "code",
   "execution_count": null,
   "id": "9sFEfn51rYqj",
   "metadata": {
    "cellView": "form",
    "id": "9sFEfn51rYqj"
   },
   "outputs": [],
   "source": [
    "#@markdown Only use this if there is a bug fixed in the github but not yet uploaded to pypi repository \n",
    "\n",
    "#!pip install git+git://github.com/SPS-L/pyeplan@master  &> /dev/null"
   ]
  },
  {
   "cell_type": "markdown",
   "id": "d418861c",
   "metadata": {
    "id": "d418861c"
   },
   "source": [
    "## Defining the system input data"
   ]
  },
  {
   "cell_type": "markdown",
   "id": "f04a63b7",
   "metadata": {
    "id": "f04a63b7"
   },
   "source": [
    "Input files containing the system data are added to PyEPLAN using csv files. These files contain the load demand for each planning hour and load point, candidate and existing generators, network layout data and load and renewable generation profiles. \n",
    "\n",
    "The data input and format of different csv files accepted by PyEPLAN software is defined in the [user guide](https://pyeplan.sps-lab.org/user_guide/input.html#).  \n",
    "\n",
    "As a basis, the user should to define the load demand and at least one generation input to be able to utilise the investment and operation modules of PyEPLAN.\n",
    "\n",
    "Some of the data inputs include:"
   ]
  },
  {
   "cell_type": "markdown",
   "id": "ad706cdd",
   "metadata": {
    "id": "ad706cdd"
   },
   "source": [
    "### Electricity load demand at each hour"
   ]
  },
  {
   "cell_type": "markdown",
   "id": "5809679d",
   "metadata": {
    "id": "5809679d"
   },
   "source": [
    "The total active power consumption in kW at each of the three (3) hours for one (1) representative day is:"
   ]
  },
  {
   "cell_type": "code",
   "execution_count": 1,
   "id": "fb9de999",
   "metadata": {
    "cellView": "form",
    "colab": {
     "base_uri": "https://localhost:8080/",
     "height": 143
    },
    "id": "fb9de999",
    "outputId": "b19394b2-c164-418d-d998-cb3fb1b50d02"
   },
   "outputs": [
    {
     "data": {
      "text/html": [
       "<div>\n",
       "<style scoped>\n",
       "    .dataframe tbody tr th:only-of-type {\n",
       "        vertical-align: middle;\n",
       "    }\n",
       "\n",
       "    .dataframe tbody tr th {\n",
       "        vertical-align: top;\n",
       "    }\n",
       "\n",
       "    .dataframe thead th {\n",
       "        text-align: right;\n",
       "    }\n",
       "</style>\n",
       "<table border=\"1\" class=\"dataframe\">\n",
       "  <thead>\n",
       "    <tr style=\"text-align: right;\">\n",
       "      <th></th>\n",
       "      <th>0</th>\n",
       "    </tr>\n",
       "  </thead>\n",
       "  <tbody>\n",
       "    <tr>\n",
       "      <th>0</th>\n",
       "      <td>24.6</td>\n",
       "    </tr>\n",
       "    <tr>\n",
       "      <th>1</th>\n",
       "      <td>55.4</td>\n",
       "    </tr>\n",
       "    <tr>\n",
       "      <th>2</th>\n",
       "      <td>80.7</td>\n",
       "    </tr>\n",
       "  </tbody>\n",
       "</table>\n",
       "</div>"
      ],
      "text/plain": [
       "      0\n",
       "0  24.6\n",
       "1  55.4\n",
       "2  80.7"
      ]
     },
     "execution_count": 1,
     "metadata": {},
     "output_type": "execute_result"
    }
   ],
   "source": [
    "#@title \n",
    "\n",
    "import pandas as pd\n",
    "pd.read_csv(\"5_bus/prep_dist.csv\")"
   ]
  },
  {
   "cell_type": "markdown",
   "id": "578ccc50",
   "metadata": {
    "id": "578ccc50"
   },
   "source": [
    "### Potential investment candidates"
   ]
  },
  {
   "cell_type": "markdown",
   "id": "63d5ea19",
   "metadata": {
    "id": "63d5ea19"
   },
   "source": [
    "#### Battery Units"
   ]
  },
  {
   "cell_type": "code",
   "execution_count": 2,
   "id": "c885c3f9",
   "metadata": {
    "cellView": "form",
    "colab": {
     "base_uri": "https://localhost:8080/",
     "height": 112
    },
    "id": "c885c3f9",
    "outputId": "8d090ca5-7afb-483f-b38f-b3d9da6373b7"
   },
   "outputs": [
    {
     "data": {
      "text/html": [
       "<div>\n",
       "<style scoped>\n",
       "    .dataframe tbody tr th:only-of-type {\n",
       "        vertical-align: middle;\n",
       "    }\n",
       "\n",
       "    .dataframe tbody tr th {\n",
       "        vertical-align: top;\n",
       "    }\n",
       "\n",
       "    .dataframe thead th {\n",
       "        text-align: right;\n",
       "    }\n",
       "</style>\n",
       "<table border=\"1\" class=\"dataframe\">\n",
       "  <thead>\n",
       "    <tr style=\"text-align: right;\">\n",
       "      <th></th>\n",
       "      <th>bus</th>\n",
       "      <th>icost</th>\n",
       "      <th>ocost</th>\n",
       "      <th>scost</th>\n",
       "      <th>ec</th>\n",
       "      <th>ed</th>\n",
       "      <th>emax</th>\n",
       "      <th>emin</th>\n",
       "      <th>eini</th>\n",
       "      <th>pmax</th>\n",
       "      <th>pmin</th>\n",
       "      <th>qmax</th>\n",
       "      <th>qmin</th>\n",
       "    </tr>\n",
       "  </thead>\n",
       "  <tbody>\n",
       "    <tr>\n",
       "      <th>0</th>\n",
       "      <td>0</td>\n",
       "      <td>347.2176</td>\n",
       "      <td>0</td>\n",
       "      <td>0</td>\n",
       "      <td>0.92</td>\n",
       "      <td>0.92</td>\n",
       "      <td>1200</td>\n",
       "      <td>0</td>\n",
       "      <td>600</td>\n",
       "      <td>100</td>\n",
       "      <td>0</td>\n",
       "      <td>0</td>\n",
       "      <td>0</td>\n",
       "    </tr>\n",
       "    <tr>\n",
       "      <th>1</th>\n",
       "      <td>4</td>\n",
       "      <td>347.2176</td>\n",
       "      <td>0</td>\n",
       "      <td>0</td>\n",
       "      <td>0.92</td>\n",
       "      <td>0.92</td>\n",
       "      <td>1200</td>\n",
       "      <td>0</td>\n",
       "      <td>600</td>\n",
       "      <td>100</td>\n",
       "      <td>0</td>\n",
       "      <td>0</td>\n",
       "      <td>0</td>\n",
       "    </tr>\n",
       "  </tbody>\n",
       "</table>\n",
       "</div>"
      ],
      "text/plain": [
       "   bus     icost  ocost  scost    ec    ed  emax  emin  eini  pmax  pmin  \\\n",
       "0    0  347.2176      0      0  0.92  0.92  1200     0   600   100     0   \n",
       "1    4  347.2176      0      0  0.92  0.92  1200     0   600   100     0   \n",
       "\n",
       "   qmax  qmin  \n",
       "0     0     0  \n",
       "1     0     0  "
      ]
     },
     "execution_count": 2,
     "metadata": {},
     "output_type": "execute_result"
    }
   ],
   "source": [
    "#@title \n",
    "\n",
    "pd.read_csv(\"5_bus/cbat_dist.csv\")"
   ]
  },
  {
   "cell_type": "code",
   "execution_count": 3,
   "id": "TvjumK4GcvBU",
   "metadata": {
    "cellView": "form",
    "id": "TvjumK4GcvBU"
   },
   "outputs": [],
   "source": [
    "\n",
    "#@markdown Change the battery system capital investment cost\n",
    "\n",
    "# reading the csv file\n",
    "df = pd.read_csv(\"5_bus/cbat_dist.csv\")\n",
    "old_bcost = df.loc[0, 'icost'] \n",
    "#bat_inv_cost = \"247.2176\" #@param [147.2176, 247.2176, 347.2176]\n",
    "bat_inv_cost= 347.2176 #@param {type:\"slider\", min:150, max:400, step:1}\n",
    "\n",
    "# updating the column value/data\n",
    "df['icost'] = df['icost'].replace({old_bcost: bat_inv_cost})\n",
    "  \n",
    "# writing into the file\n",
    "df.to_csv(\"5_bus/cbat_dist.csv\", index=False)\n",
    "\n",
    "#pd.read_csv(\"5_bus/cbat_dist.csv\")"
   ]
  },
  {
   "cell_type": "markdown",
   "id": "3023479d",
   "metadata": {
    "id": "3023479d"
   },
   "source": [
    "#### Solar PV Units"
   ]
  },
  {
   "cell_type": "code",
   "execution_count": 4,
   "id": "41ccc977",
   "metadata": {
    "cellView": "form",
    "colab": {
     "base_uri": "https://localhost:8080/",
     "height": 112
    },
    "id": "41ccc977",
    "outputId": "42dcd096-d2b0-4eed-ddce-3270eb477270"
   },
   "outputs": [
    {
     "data": {
      "text/html": [
       "<div>\n",
       "<style scoped>\n",
       "    .dataframe tbody tr th:only-of-type {\n",
       "        vertical-align: middle;\n",
       "    }\n",
       "\n",
       "    .dataframe tbody tr th {\n",
       "        vertical-align: top;\n",
       "    }\n",
       "\n",
       "    .dataframe thead th {\n",
       "        text-align: right;\n",
       "    }\n",
       "</style>\n",
       "<table border=\"1\" class=\"dataframe\">\n",
       "  <thead>\n",
       "    <tr style=\"text-align: right;\">\n",
       "      <th></th>\n",
       "      <th>bus</th>\n",
       "      <th>icost</th>\n",
       "      <th>ocost</th>\n",
       "      <th>scost</th>\n",
       "      <th>pmin</th>\n",
       "      <th>pmax</th>\n",
       "      <th>qmin</th>\n",
       "      <th>qmax</th>\n",
       "    </tr>\n",
       "  </thead>\n",
       "  <tbody>\n",
       "    <tr>\n",
       "      <th>0</th>\n",
       "      <td>0</td>\n",
       "      <td>108.0</td>\n",
       "      <td>0</td>\n",
       "      <td>0</td>\n",
       "      <td>0</td>\n",
       "      <td>50</td>\n",
       "      <td>-50</td>\n",
       "      <td>50</td>\n",
       "    </tr>\n",
       "    <tr>\n",
       "      <th>1</th>\n",
       "      <td>4</td>\n",
       "      <td>108.0</td>\n",
       "      <td>0</td>\n",
       "      <td>0</td>\n",
       "      <td>0</td>\n",
       "      <td>50</td>\n",
       "      <td>-50</td>\n",
       "      <td>50</td>\n",
       "    </tr>\n",
       "  </tbody>\n",
       "</table>\n",
       "</div>"
      ],
      "text/plain": [
       "   bus  icost  ocost  scost  pmin  pmax  qmin  qmax\n",
       "0    0  108.0      0      0     0    50   -50    50\n",
       "1    4  108.0      0      0     0    50   -50    50"
      ]
     },
     "execution_count": 4,
     "metadata": {},
     "output_type": "execute_result"
    }
   ],
   "source": [
    "#@title \n",
    "\n",
    "pd.read_csv(\"5_bus/csol_dist.csv\")"
   ]
  },
  {
   "cell_type": "code",
   "execution_count": 5,
   "id": "96fc6c3a",
   "metadata": {
    "cellView": "form",
    "id": "96fc6c3a"
   },
   "outputs": [],
   "source": [
    "#@markdown Change the solar unit capital investment cost\n",
    "\n",
    "# reading the csv file\n",
    "df = pd.read_csv(\"5_bus/csol_dist.csv\")\n",
    "old_pvcost = df.loc[0, 'icost'] \n",
    "pv_inv_cost =108  #@param {type:\"slider\", min:80, max:130, step:1}\n",
    "#pv_inv_cost = \"118.766\" #@param [88.766\t, 108.766\t, 118.766\t]\n",
    "\n",
    "# updating the column value/data\n",
    "df['icost'] = df['icost'].replace({old_pvcost: pv_inv_cost})\n",
    "  \n",
    "# writing into the file\n",
    "df.to_csv(\"5_bus/csol_dist.csv\", index=False)\n",
    "\n"
   ]
  },
  {
   "cell_type": "markdown",
   "id": "faaa0c40",
   "metadata": {
    "id": "faaa0c40"
   },
   "source": [
    "#### Diesel/Fossil Units"
   ]
  },
  {
   "cell_type": "code",
   "execution_count": 6,
   "id": "0a1b1314",
   "metadata": {
    "cellView": "form",
    "colab": {
     "base_uri": "https://localhost:8080/",
     "height": 81
    },
    "id": "0a1b1314",
    "outputId": "97df1a94-757e-4744-a07c-6f9279fcfabb"
   },
   "outputs": [
    {
     "data": {
      "text/html": [
       "<div>\n",
       "<style scoped>\n",
       "    .dataframe tbody tr th:only-of-type {\n",
       "        vertical-align: middle;\n",
       "    }\n",
       "\n",
       "    .dataframe tbody tr th {\n",
       "        vertical-align: top;\n",
       "    }\n",
       "\n",
       "    .dataframe thead th {\n",
       "        text-align: right;\n",
       "    }\n",
       "</style>\n",
       "<table border=\"1\" class=\"dataframe\">\n",
       "  <thead>\n",
       "    <tr style=\"text-align: right;\">\n",
       "      <th></th>\n",
       "      <th>bus</th>\n",
       "      <th>icost</th>\n",
       "      <th>ocost</th>\n",
       "      <th>scost</th>\n",
       "      <th>pmin</th>\n",
       "      <th>pmax</th>\n",
       "      <th>qmin</th>\n",
       "      <th>qmax</th>\n",
       "      <th>hr</th>\n",
       "    </tr>\n",
       "  </thead>\n",
       "  <tbody>\n",
       "    <tr>\n",
       "      <th>0</th>\n",
       "      <td>0</td>\n",
       "      <td>32.0345</td>\n",
       "      <td>0.27</td>\n",
       "      <td>0</td>\n",
       "      <td>0</td>\n",
       "      <td>100</td>\n",
       "      <td>0</td>\n",
       "      <td>0</td>\n",
       "      <td>3</td>\n",
       "    </tr>\n",
       "  </tbody>\n",
       "</table>\n",
       "</div>"
      ],
      "text/plain": [
       "   bus    icost  ocost  scost  pmin  pmax  qmin  qmax  hr\n",
       "0    0  32.0345   0.27      0     0   100     0     0   3"
      ]
     },
     "execution_count": 6,
     "metadata": {},
     "output_type": "execute_result"
    }
   ],
   "source": [
    "#@title \n",
    "\n",
    "pd.read_csv(\"5_bus/cgen_dist.csv\")"
   ]
  },
  {
   "cell_type": "code",
   "execution_count": 7,
   "id": "26Q9g4ZJqyk5",
   "metadata": {
    "cellView": "form",
    "id": "26Q9g4ZJqyk5"
   },
   "outputs": [],
   "source": [
    "#@title  { run: \"auto\" }\n",
    "#@markdown Change the diesel generator capital investment cost\n",
    "\n",
    "# reading the csv file\n",
    "df = pd.read_csv(\"5_bus/cgen_dist.csv\")\n",
    "old_gcost = df.loc[0, 'icost'] \n",
    "#gen_inv_cost = \"32.0345\" #@param [12.0345\t, 22.0345\t, 32.0345\t]\n",
    "gen_inv_cost = 32.0345 #@param {type:\"slider\", min:10, max:40, step:1}\n",
    "# updating the column value/data\n",
    "df['icost'] = df['icost'].replace({old_gcost: gen_inv_cost})\n",
    "  \n",
    "# writing into the file\n",
    "df.to_csv(\"5_bus/cgen_dist.csv\", index=False)\n",
    "\n"
   ]
  },
  {
   "cell_type": "code",
   "execution_count": 8,
   "id": "L8MvESDWr4Ey",
   "metadata": {
    "cellView": "form",
    "id": "L8MvESDWr4Ey"
   },
   "outputs": [],
   "source": [
    "#@markdown Change the diesel generator operation cost { run: \"auto\" }\n",
    "\n",
    "# reading the csv file\n",
    "df = pd.read_csv(\"5_bus/cgen_dist.csv\")\n",
    "old_gocost = df.loc[0, 'ocost'] \n",
    "#gen_op_cost = \"0.27\" #@param [0.17\t, 0.27\t, 0.37]\n",
    "gen_op_cost = 0.27 #@param {type:\"slider\", min:0.10, max:0.50, step:0.01}\n",
    "\n",
    "# updating the column value/data\n",
    "df['ocost'] = df['ocost'].replace({old_gocost: gen_op_cost})\n",
    "  \n",
    "# writing into the file\n",
    "df.to_csv(\"5_bus/cgen_dist.csv\", index=False)\n",
    "\n"
   ]
  },
  {
   "cell_type": "markdown",
   "id": "33757864",
   "metadata": {
    "id": "33757864"
   },
   "source": [
    "## Using the invesment and operation planning module from PyEPLAN "
   ]
  },
  {
   "cell_type": "code",
   "execution_count": 9,
   "id": "10f03974",
   "metadata": {
    "cellView": "form",
    "id": "10f03974"
   },
   "outputs": [],
   "source": [
    "#@markdown This command is used to access the PyEPLAN Planning Module within the Colab environment.  \n",
    "\n",
    "from pyeplan import inosys"
   ]
  },
  {
   "cell_type": "markdown",
   "id": "4bb0987d",
   "metadata": {
    "id": "4bb0987d"
   },
   "source": [
    "The module is initialised with inputs including but not limited the following :\n",
    "* The input directory for the data. The input data folder should consists of 'csv' files that contain data description of the load, newtork paramters and generation units as defined in the [user guide](https://pyeplan.sps-lab.org/user_guide/input.html#).\n",
    "* ref_bus: Reference node\n",
    "* dshed_cost: Demand Shedding Price\n",
    "* rshed_cost: Renewable Shedding Price\n",
    "* phase: Number of Phases (Default 3)\n",
    "* sbase: Base Apparent Power (Default 1 kW)"
   ]
  },
  {
   "cell_type": "code",
   "execution_count": 10,
   "id": "5990195c",
   "metadata": {
    "cellView": "form",
    "id": "5990195c"
   },
   "outputs": [],
   "source": [
    "#@markdown The following command is used to intialise the Planning module of PyEPLAN\n",
    "\n",
    "inosys = inosys('5_bus', ref_bus = 0, dshed_cost = 100, rshed_cost = 0, phase = 3,)"
   ]
  },
  {
   "cell_type": "markdown",
   "id": "c31d0565",
   "metadata": {
    "id": "c31d0565"
   },
   "source": [
    "## Solving the investment and operation planning problem"
   ]
  },
  {
   "cell_type": "markdown",
   "id": "RCwqgZfQLIL5",
   "metadata": {
    "id": "RCwqgZfQLIL5"
   },
   "source": [
    "PyEPLAN solves the investment and operation planning problems simultaneously. \n",
    "\n",
    "The optimisation problem will be solved based on the input arguments set by the user. Some of the planning options that can be set by the user include the following:\n",
    "\n",
    "* If the user has pre-defined sizes of the investment candidates the input '**invest = True**' i.e., unit capacity = maximum capacity. Otherwise, if the user has no knowledge of the size of the candidates, these can be optimally derived by the software by setting '**invest = False**' where the unit capacity <= maximum capacity.\n",
    "\n",
    "* The user can set solver program by defining the input to the '**solver**'. Options include both open source solvers include glpk, cbc, and commercial solvers ipopt, gurobi given one has the required licences. \n",
    "\n",
    "* If the user desires only to solve an operation planning problem, this can be ensured by setting input 'onlyopr = True'. \n"
   ]
  },
  {
   "cell_type": "code",
   "execution_count": 11,
   "id": "d84d5a68",
   "metadata": {
    "cellView": "form",
    "colab": {
     "base_uri": "https://localhost:8080/"
    },
    "id": "d84d5a68",
    "outputId": "daab07ee-2110-4295-9495-0f2b61396324"
   },
   "outputs": [
    {
     "name": "stdout",
     "output_type": "stream",
     "text": [
      "GLPSOL--GLPK LP/MIP Solver 5.0\n",
      "Parameter(s) specified in the command line:\n",
      " --write C:\\Users\\Petros\\AppData\\Local\\Temp\\tmppmm2mkt7.glpk.raw --wglp C:\\Users\\Petros\\AppData\\Local\\Temp\\tmpgruane45.glpk.glp\n",
      " --cpxlp C:\\Users\\Petros\\AppData\\Local\\Temp\\tmp1mdhko6c.pyomo.lp\n",
      "Reading problem data from 'C:\\Users\\Petros\\AppData\\Local\\Temp\\tmp1mdhko6c.pyomo.lp'...\n",
      "217 rows, 132 columns, 501 non-zeros\n",
      "1294 lines were read\n",
      "Writing problem data to 'C:\\Users\\Petros\\AppData\\Local\\Temp\\tmpgruane45.glpk.glp'...\n",
      "1083 lines were written\n",
      "GLPK Simplex Optimizer 5.0\n",
      "217 rows, 132 columns, 501 non-zeros\n",
      "Preprocessing...\n",
      "99 rows, 74 columns, 289 non-zeros\n",
      "Scaling...\n",
      " A: min|aij| =  1.852e-05  max|aij| =  6.000e+02  ratio =  3.241e+07\n",
      "GM: min|aij| =  5.868e-01  max|aij| =  1.704e+00  ratio =  2.904e+00\n",
      "EQ: min|aij| =  3.536e-01  max|aij| =  1.000e+00  ratio =  2.828e+00\n",
      "Constructing initial basis...\n",
      "Size of triangular part is 99\n",
      "      0: obj =   5.865550000e+06 inf =   2.924e+03 (21)\n",
      "     42: obj =   5.249197516e+06 inf =   7.816e-14 (0)\n",
      "*    67: obj =   1.439222359e+04 inf =   1.112e-14 (0)\n",
      "OPTIMAL LP SOLUTION FOUND\n",
      "Time used:   0.0 secs\n",
      "Memory used: 0.2 Mb (214073 bytes)\n",
      "Writing basic solution to 'C:\\Users\\Petros\\AppData\\Local\\Temp\\tmppmm2mkt7.glpk.raw'...\n",
      "358 lines were written\n"
     ]
    }
   ],
   "source": [
    "#@markdown The command below is used to set the input parameters and solve the microgrid planning problem.\n",
    "\n",
    "inosys.solve(solver = 'glpk', onlyopr = False, invest = False, )"
   ]
  },
  {
   "cell_type": "markdown",
   "id": "706c0be1",
   "metadata": {
    "id": "706c0be1"
   },
   "source": [
    "## Results"
   ]
  },
  {
   "cell_type": "markdown",
   "id": "026c9dd4",
   "metadata": {
    "id": "026c9dd4"
   },
   "source": [
    "A folder named 'results' will be created when the optimal solution to the planning problem has been obtained. The different result files are defined in the [user guide](https://pyeplan.sps-lab.org/user_guide/output.html). Below we show the capital costs and operational costs obtained to satify the load in the 5-bus network and the type and size of each installed unit."
   ]
  },
  {
   "cell_type": "markdown",
   "id": "c10e0d24",
   "metadata": {
    "id": "c10e0d24"
   },
   "source": [
    "### Total investment and operational costs"
   ]
  },
  {
   "cell_type": "code",
   "execution_count": 12,
   "id": "f7b6489f",
   "metadata": {
    "cellView": "form",
    "colab": {
     "base_uri": "https://localhost:8080/",
     "height": 112
    },
    "id": "f7b6489f",
    "outputId": "cb6c9dbc-8bdc-44eb-9454-d6114620cdf3"
   },
   "outputs": [
    {
     "data": {
      "text/html": [
       "<div>\n",
       "<style scoped>\n",
       "    .dataframe tbody tr th:only-of-type {\n",
       "        vertical-align: middle;\n",
       "    }\n",
       "\n",
       "    .dataframe tbody tr th {\n",
       "        vertical-align: top;\n",
       "    }\n",
       "\n",
       "    .dataframe thead th {\n",
       "        text-align: right;\n",
       "    }\n",
       "</style>\n",
       "<table border=\"1\" class=\"dataframe\">\n",
       "  <thead>\n",
       "    <tr style=\"text-align: right;\">\n",
       "      <th></th>\n",
       "      <th>total costs</th>\n",
       "      <th>14392.223586</th>\n",
       "    </tr>\n",
       "  </thead>\n",
       "  <tbody>\n",
       "    <tr>\n",
       "      <th>0</th>\n",
       "      <td>total investment costs</td>\n",
       "      <td>11462.064052</td>\n",
       "    </tr>\n",
       "    <tr>\n",
       "      <th>1</th>\n",
       "      <td>total operation costs</td>\n",
       "      <td>2930.159534</td>\n",
       "    </tr>\n",
       "  </tbody>\n",
       "</table>\n",
       "</div>"
      ],
      "text/plain": [
       "              total costs  14392.223586\n",
       "0  total investment costs  11462.064052\n",
       "1   total operation costs   2930.159534"
      ]
     },
     "metadata": {},
     "output_type": "display_data"
    }
   ],
   "source": [
    "#@markdown The investment and operational costs are obtained using this command\n",
    "\n",
    "inosys.resCost()"
   ]
  },
  {
   "cell_type": "markdown",
   "id": "48bdc63c",
   "metadata": {
    "id": "48bdc63c"
   },
   "source": [
    "### Number and capacity of battery units installed"
   ]
  },
  {
   "cell_type": "code",
   "execution_count": 13,
   "id": "a69c429f",
   "metadata": {
    "cellView": "form",
    "colab": {
     "base_uri": "https://localhost:8080/",
     "height": 143
    },
    "hide_input": true,
    "id": "a69c429f",
    "outputId": "50134344-d510-4406-a24b-88cfabf2a8b0"
   },
   "outputs": [
    {
     "data": {
      "text/html": [
       "<div>\n",
       "<style scoped>\n",
       "    .dataframe tbody tr th:only-of-type {\n",
       "        vertical-align: middle;\n",
       "    }\n",
       "\n",
       "    .dataframe tbody tr th {\n",
       "        vertical-align: top;\n",
       "    }\n",
       "\n",
       "    .dataframe thead th {\n",
       "        text-align: right;\n",
       "    }\n",
       "</style>\n",
       "<table border=\"1\" class=\"dataframe\">\n",
       "  <thead>\n",
       "    <tr style=\"text-align: right;\">\n",
       "      <th></th>\n",
       "      <th>Installed Capacity (kW)</th>\n",
       "      <th>Bus</th>\n",
       "    </tr>\n",
       "    <tr>\n",
       "      <th>Unit</th>\n",
       "      <th></th>\n",
       "      <th></th>\n",
       "    </tr>\n",
       "  </thead>\n",
       "  <tbody>\n",
       "    <tr>\n",
       "      <th>1</th>\n",
       "      <td>0.0</td>\n",
       "      <td>0</td>\n",
       "    </tr>\n",
       "    <tr>\n",
       "      <th>2</th>\n",
       "      <td>0.0</td>\n",
       "      <td>4</td>\n",
       "    </tr>\n",
       "  </tbody>\n",
       "</table>\n",
       "</div>"
      ],
      "text/plain": [
       "      Installed Capacity (kW)  Bus\n",
       "Unit                              \n",
       "1                         0.0    0\n",
       "2                         0.0    4"
      ]
     },
     "execution_count": 13,
     "metadata": {},
     "output_type": "execute_result"
    }
   ],
   "source": [
    "#@markdown The capacity and location of battery units installed is obtained using this command.\n",
    "\n",
    "inosys.resBat()"
   ]
  },
  {
   "cell_type": "markdown",
   "id": "0e3f737f",
   "metadata": {
    "id": "0e3f737f"
   },
   "source": [
    "### Number and capacity of solar units installed"
   ]
  },
  {
   "cell_type": "code",
   "execution_count": 14,
   "id": "9256250e",
   "metadata": {
    "cellView": "form",
    "colab": {
     "base_uri": "https://localhost:8080/",
     "height": 143
    },
    "id": "9256250e",
    "outputId": "7de7c97d-950e-492f-fec1-0159b67dc6e1"
   },
   "outputs": [
    {
     "data": {
      "text/html": [
       "<div>\n",
       "<style scoped>\n",
       "    .dataframe tbody tr th:only-of-type {\n",
       "        vertical-align: middle;\n",
       "    }\n",
       "\n",
       "    .dataframe tbody tr th {\n",
       "        vertical-align: top;\n",
       "    }\n",
       "\n",
       "    .dataframe thead th {\n",
       "        text-align: right;\n",
       "    }\n",
       "</style>\n",
       "<table border=\"1\" class=\"dataframe\">\n",
       "  <thead>\n",
       "    <tr style=\"text-align: right;\">\n",
       "      <th></th>\n",
       "      <th>Installed Capacity (kW)</th>\n",
       "      <th>Bus</th>\n",
       "    </tr>\n",
       "    <tr>\n",
       "      <th>Unit</th>\n",
       "      <th></th>\n",
       "      <th></th>\n",
       "    </tr>\n",
       "  </thead>\n",
       "  <tbody>\n",
       "    <tr>\n",
       "      <th>1</th>\n",
       "      <td>50.0</td>\n",
       "      <td>0</td>\n",
       "    </tr>\n",
       "    <tr>\n",
       "      <th>2</th>\n",
       "      <td>50.0</td>\n",
       "      <td>4</td>\n",
       "    </tr>\n",
       "  </tbody>\n",
       "</table>\n",
       "</div>"
      ],
      "text/plain": [
       "      Installed Capacity (kW)  Bus\n",
       "Unit                              \n",
       "1                        50.0    0\n",
       "2                        50.0    4"
      ]
     },
     "execution_count": 14,
     "metadata": {},
     "output_type": "execute_result"
    }
   ],
   "source": [
    "#@markdown The capacity and location of solar units installed is obtained using this command.\n",
    "\n",
    "inosys.resSolar()"
   ]
  },
  {
   "cell_type": "markdown",
   "id": "84e0bc46",
   "metadata": {
    "id": "84e0bc46"
   },
   "source": [
    "### Number and capacity of diesel units installed"
   ]
  },
  {
   "cell_type": "markdown",
   "id": "2c64986d",
   "metadata": {
    "id": "2c64986d"
   },
   "source": [
    "The capacity and location of diesel units installed is:"
   ]
  },
  {
   "cell_type": "code",
   "execution_count": 15,
   "id": "210363f2",
   "metadata": {
    "cellView": "form",
    "colab": {
     "base_uri": "https://localhost:8080/",
     "height": 112
    },
    "id": "210363f2",
    "outputId": "c6615bcf-55d0-451f-8ea5-ccd1938c12f1"
   },
   "outputs": [
    {
     "data": {
      "text/html": [
       "<div>\n",
       "<style scoped>\n",
       "    .dataframe tbody tr th:only-of-type {\n",
       "        vertical-align: middle;\n",
       "    }\n",
       "\n",
       "    .dataframe tbody tr th {\n",
       "        vertical-align: top;\n",
       "    }\n",
       "\n",
       "    .dataframe thead th {\n",
       "        text-align: right;\n",
       "    }\n",
       "</style>\n",
       "<table border=\"1\" class=\"dataframe\">\n",
       "  <thead>\n",
       "    <tr style=\"text-align: right;\">\n",
       "      <th></th>\n",
       "      <th>Installed Capacity (kW)</th>\n",
       "      <th>Bus</th>\n",
       "    </tr>\n",
       "    <tr>\n",
       "      <th>Unit</th>\n",
       "      <th></th>\n",
       "      <th></th>\n",
       "    </tr>\n",
       "  </thead>\n",
       "  <tbody>\n",
       "    <tr>\n",
       "      <th>1</th>\n",
       "      <td>20.66722</td>\n",
       "      <td>0</td>\n",
       "    </tr>\n",
       "  </tbody>\n",
       "</table>\n",
       "</div>"
      ],
      "text/plain": [
       "      Installed Capacity (kW)  Bus\n",
       "Unit                              \n",
       "1                    20.66722    0"
      ]
     },
     "execution_count": 15,
     "metadata": {},
     "output_type": "execute_result"
    }
   ],
   "source": [
    "#@markdown \n",
    "\n",
    "inosys.resConv()"
   ]
  },
  {
   "cell_type": "markdown",
   "id": "216f7830",
   "metadata": {
    "id": "216f7830"
   },
   "source": [
    "### Amount of load curtailed"
   ]
  },
  {
   "cell_type": "code",
   "execution_count": 16,
   "id": "4a64a895",
   "metadata": {
    "cellView": "form",
    "colab": {
     "base_uri": "https://localhost:8080/",
     "height": 175
    },
    "id": "4a64a895",
    "outputId": "37274583-bf43-42ca-d486-a234a36ce69d"
   },
   "outputs": [],
   "source": [
    "#@markdown The amount of load in kW not served or curtailed at each node.\n",
    "\n",
    "ret = inosys.resCurt()"
   ]
  },
  {
   "cell_type": "code",
   "execution_count": 18,
   "id": "42d0c20a-763b-4346-908b-683e2c651069",
   "metadata": {},
   "outputs": [
    {
     "data": {
      "text/html": [
       "<div>\n",
       "<style scoped>\n",
       "    .dataframe tbody tr th:only-of-type {\n",
       "        vertical-align: middle;\n",
       "    }\n",
       "\n",
       "    .dataframe tbody tr th {\n",
       "        vertical-align: top;\n",
       "    }\n",
       "\n",
       "    .dataframe thead th {\n",
       "        text-align: right;\n",
       "    }\n",
       "</style>\n",
       "<table border=\"1\" class=\"dataframe\">\n",
       "  <thead>\n",
       "    <tr style=\"text-align: right;\">\n",
       "      <th></th>\n",
       "      <th>0</th>\n",
       "      <th>1</th>\n",
       "      <th>2</th>\n",
       "    </tr>\n",
       "  </thead>\n",
       "  <tbody>\n",
       "    <tr>\n",
       "      <th>0</th>\n",
       "      <td>0.0</td>\n",
       "      <td>0.0</td>\n",
       "      <td>0.0</td>\n",
       "    </tr>\n",
       "    <tr>\n",
       "      <th>1</th>\n",
       "      <td>0.0</td>\n",
       "      <td>0.0</td>\n",
       "      <td>0.0</td>\n",
       "    </tr>\n",
       "    <tr>\n",
       "      <th>2</th>\n",
       "      <td>0.0</td>\n",
       "      <td>0.0</td>\n",
       "      <td>0.0</td>\n",
       "    </tr>\n",
       "    <tr>\n",
       "      <th>3</th>\n",
       "      <td>0.0</td>\n",
       "      <td>0.0</td>\n",
       "      <td>0.0</td>\n",
       "    </tr>\n",
       "    <tr>\n",
       "      <th>4</th>\n",
       "      <td>0.0</td>\n",
       "      <td>0.0</td>\n",
       "      <td>0.0</td>\n",
       "    </tr>\n",
       "  </tbody>\n",
       "</table>\n",
       "</div>"
      ],
      "text/plain": [
       "     0    1    2\n",
       "0  0.0  0.0  0.0\n",
       "1  0.0  0.0  0.0\n",
       "2  0.0  0.0  0.0\n",
       "3  0.0  0.0  0.0\n",
       "4  0.0  0.0  0.0"
      ]
     },
     "execution_count": 18,
     "metadata": {},
     "output_type": "execute_result"
    }
   ],
   "source": [
    "ret['demand_shedding']"
   ]
  },
  {
   "cell_type": "code",
   "execution_count": 19,
   "id": "88b42bdb-af25-477e-93c4-937c217ffd0d",
   "metadata": {},
   "outputs": [
    {
     "data": {
      "text/html": [
       "<div>\n",
       "<style scoped>\n",
       "    .dataframe tbody tr th:only-of-type {\n",
       "        vertical-align: middle;\n",
       "    }\n",
       "\n",
       "    .dataframe tbody tr th {\n",
       "        vertical-align: top;\n",
       "    }\n",
       "\n",
       "    .dataframe thead th {\n",
       "        text-align: right;\n",
       "    }\n",
       "</style>\n",
       "<table border=\"1\" class=\"dataframe\">\n",
       "  <thead>\n",
       "    <tr style=\"text-align: right;\">\n",
       "      <th></th>\n",
       "      <th>0</th>\n",
       "      <th>1</th>\n",
       "      <th>2</th>\n",
       "    </tr>\n",
       "  </thead>\n",
       "  <tbody>\n",
       "    <tr>\n",
       "      <th>0</th>\n",
       "      <td>0.708609</td>\n",
       "      <td>0.0</td>\n",
       "      <td>0.0</td>\n",
       "    </tr>\n",
       "    <tr>\n",
       "      <th>1</th>\n",
       "      <td>0.000000</td>\n",
       "      <td>0.0</td>\n",
       "      <td>0.0</td>\n",
       "    </tr>\n",
       "    <tr>\n",
       "      <th>2</th>\n",
       "      <td>0.000000</td>\n",
       "      <td>0.0</td>\n",
       "      <td>0.0</td>\n",
       "    </tr>\n",
       "    <tr>\n",
       "      <th>3</th>\n",
       "      <td>0.000000</td>\n",
       "      <td>0.0</td>\n",
       "      <td>0.0</td>\n",
       "    </tr>\n",
       "    <tr>\n",
       "      <th>4</th>\n",
       "      <td>0.000000</td>\n",
       "      <td>0.0</td>\n",
       "      <td>0.0</td>\n",
       "    </tr>\n",
       "  </tbody>\n",
       "</table>\n",
       "</div>"
      ],
      "text/plain": [
       "          0    1    2\n",
       "0  0.708609  0.0  0.0\n",
       "1  0.000000  0.0  0.0\n",
       "2  0.000000  0.0  0.0\n",
       "3  0.000000  0.0  0.0\n",
       "4  0.000000  0.0  0.0"
      ]
     },
     "execution_count": 19,
     "metadata": {},
     "output_type": "execute_result"
    }
   ],
   "source": [
    "ret['solar_curtailment']"
   ]
  },
  {
   "cell_type": "code",
   "execution_count": 20,
   "id": "4cb961f3-6d6a-40b7-a40b-22b28ec7837c",
   "metadata": {},
   "outputs": [
    {
     "data": {
      "text/html": [
       "<div>\n",
       "<style scoped>\n",
       "    .dataframe tbody tr th:only-of-type {\n",
       "        vertical-align: middle;\n",
       "    }\n",
       "\n",
       "    .dataframe tbody tr th {\n",
       "        vertical-align: top;\n",
       "    }\n",
       "\n",
       "    .dataframe thead th {\n",
       "        text-align: right;\n",
       "    }\n",
       "</style>\n",
       "<table border=\"1\" class=\"dataframe\">\n",
       "  <thead>\n",
       "    <tr style=\"text-align: right;\">\n",
       "      <th></th>\n",
       "      <th>0</th>\n",
       "      <th>1</th>\n",
       "      <th>2</th>\n",
       "    </tr>\n",
       "  </thead>\n",
       "  <tbody>\n",
       "    <tr>\n",
       "      <th>0</th>\n",
       "      <td>0.0</td>\n",
       "      <td>0.0</td>\n",
       "      <td>0.0</td>\n",
       "    </tr>\n",
       "    <tr>\n",
       "      <th>1</th>\n",
       "      <td>0.0</td>\n",
       "      <td>0.0</td>\n",
       "      <td>0.0</td>\n",
       "    </tr>\n",
       "    <tr>\n",
       "      <th>2</th>\n",
       "      <td>0.0</td>\n",
       "      <td>0.0</td>\n",
       "      <td>0.0</td>\n",
       "    </tr>\n",
       "    <tr>\n",
       "      <th>3</th>\n",
       "      <td>0.0</td>\n",
       "      <td>0.0</td>\n",
       "      <td>0.0</td>\n",
       "    </tr>\n",
       "    <tr>\n",
       "      <th>4</th>\n",
       "      <td>0.0</td>\n",
       "      <td>0.0</td>\n",
       "      <td>0.0</td>\n",
       "    </tr>\n",
       "  </tbody>\n",
       "</table>\n",
       "</div>"
      ],
      "text/plain": [
       "     0    1    2\n",
       "0  0.0  0.0  0.0\n",
       "1  0.0  0.0  0.0\n",
       "2  0.0  0.0  0.0\n",
       "3  0.0  0.0  0.0\n",
       "4  0.0  0.0  0.0"
      ]
     },
     "execution_count": 20,
     "metadata": {},
     "output_type": "execute_result"
    }
   ],
   "source": [
    "ret['wind_curtailment']"
   ]
  },
  {
   "cell_type": "markdown",
   "id": "c3070cf1",
   "metadata": {
    "id": "c3070cf1"
   },
   "source": [
    "## Tasks"
   ]
  },
  {
   "cell_type": "markdown",
   "id": "8609fc4b",
   "metadata": {
    "id": "8609fc4b"
   },
   "source": [
    "This example showcases the planning modules in PyEPLAN using a 5-bus network. Note however that different solutions may be obtained by varrying the input parameters in the system data.\n",
    "\n",
    "**Task**: For your task, use the sliders under the section 'Potential investment candidates' to vary the investments and operation costs of the investment candidate generators. Vary the costs of one module at a time by either increasing or decreasing its inital value and observe the changes to the optimal solution.\n",
    "\n",
    "*  After every change you make, click on \"Runtime->Run all\" and accept the prompt. This will execute the entire notebook with the new values.\n",
    "\n",
    "*  How does the optimal microgrid solution change with variations in the different costs?\n"
   ]
  }
 ],
 "metadata": {
  "celltoolbar": "Raw Cell Format",
  "colab": {
   "include_colab_link": true,
   "name": "5-bus Example Planning.ipynb",
   "provenance": [],
   "toc_visible": true
  },
  "kernelspec": {
   "display_name": ".venv",
   "language": "python",
   "name": "python3"
  },
  "language_info": {
   "codemirror_mode": {
    "name": "ipython",
    "version": 3
   },
   "file_extension": ".py",
   "mimetype": "text/x-python",
   "name": "python",
   "nbconvert_exporter": "python",
   "pygments_lexer": "ipython3",
   "version": "3.11.9"
  }
 },
 "nbformat": 4,
 "nbformat_minor": 5
}
