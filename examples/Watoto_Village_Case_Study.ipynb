{
  "cells": [
    {
      "cell_type": "markdown",
      "source": [
        "# Watoto Village Case study using PyEPLAN\n",
        "\n",
        "This is an example of using PyEPLAN to design a Microgrid on Watoto Village in Uganda.\n",
        "\n",
        "It is designed to be ran on Google Colab."
      ],
      "metadata": {
        "id": "KHlSgxJYMpdR"
      },
      "id": "KHlSgxJYMpdR"
    },
    {
      "cell_type": "code",
      "source": [
        "!rm -r sample_data\n",
        "!rm -r wat_inv"
      ],
      "metadata": {
        "colab": {
          "base_uri": "https://localhost:8080/"
        },
        "id": "Wrwa_sa7GqBr",
        "outputId": "c44651ad-8acb-4735-fa67-5d79482c7bd5"
      },
      "id": "Wrwa_sa7GqBr",
      "execution_count": null,
      "outputs": [
        {
          "output_type": "stream",
          "name": "stdout",
          "text": [
            "rm: cannot remove 'sample_data': No such file or directory\n"
          ]
        }
      ]
    },
    {
      "cell_type": "code",
      "source": [
        "!apt-get install -qq subversion\n",
        "!svn export https://github.com/apetros/pyeplan/trunk/examples/wat_inv"
      ],
      "metadata": {
        "colab": {
          "base_uri": "https://localhost:8080/"
        },
        "id": "Jb5JUmNfJXm5",
        "outputId": "3133f62d-f23c-4179-f46f-569a1fe37b6f"
      },
      "id": "Jb5JUmNfJXm5",
      "execution_count": null,
      "outputs": [
        {
          "output_type": "stream",
          "name": "stdout",
          "text": [
            "A    wat_inv\n",
            "A    wat_inv/.gitignore\n",
            "A    wat_inv/cbat_dist.csv\n",
            "A    wat_inv/cblt_dist.csv\n",
            "A    wat_inv/cgen_dist.csv\n",
            "A    wat_inv/clin_dist.csv\n",
            "A    wat_inv/csol_dist.csv\n",
            "A    wat_inv/cwin_dist.csv\n",
            "A    wat_inv/dtim_dist.csv\n",
            "A    wat_inv/egen_dist.csv\n",
            "A    wat_inv/elin_dist.csv\n",
            "A    wat_inv/esol_dist.csv\n",
            "A    wat_inv/ewin_dist.csv\n",
            "A    wat_inv/geol_dist.csv\n",
            "A    wat_inv/mgpc_dist.xlsx\n",
            "A    wat_inv/pdem_dist.csv\n",
            "A    wat_inv/power_chrono.csv\n",
            "A    wat_inv/prep_dist.csv\n",
            "A    wat_inv/psol_dist.csv\n",
            "A    wat_inv/pwin_dist.csv\n",
            "A    wat_inv/qdem_dist.csv\n",
            "A    wat_inv/qrep_dist.csv\n",
            "A    wat_inv/qsol_dist.csv\n",
            "A    wat_inv/qwin_dist.csv\n",
            "A    wat_inv/rou_dist.csv\n",
            "Exported revision 71.\n"
          ]
        }
      ]
    },
    {
      "cell_type": "code",
      "source": [
        "!apt-get install -y -qq glpk-utils"
      ],
      "metadata": {
        "id": "fms0qighGrC0"
      },
      "id": "fms0qighGrC0",
      "execution_count": null,
      "outputs": []
    },
    {
      "cell_type": "code",
      "source": [
        "!pip install -q pyeplan"
      ],
      "metadata": {
        "id": "bWfuFQalHSrf"
      },
      "id": "bWfuFQalHSrf",
      "execution_count": null,
      "outputs": []
    },
    {
      "cell_type": "code",
      "execution_count": null,
      "id": "2bd77d09",
      "metadata": {
        "id": "2bd77d09"
      },
      "outputs": [],
      "source": [
        "from pyeplan import rousys, datsys, inosys"
      ]
    },
    {
      "cell_type": "code",
      "execution_count": null,
      "id": "420d6f53",
      "metadata": {
        "id": "420d6f53"
      },
      "outputs": [],
      "source": [
        "datsys = datsys('wat_inv')"
      ]
    },
    {
      "cell_type": "code",
      "execution_count": null,
      "id": "c835a775",
      "metadata": {
        "id": "c835a775"
      },
      "outputs": [],
      "source": [
        "datsys.data_extract()"
      ]
    },
    {
      "cell_type": "code",
      "execution_count": null,
      "id": "f16c6de2",
      "metadata": {
        "id": "f16c6de2",
        "outputId": "a6da2442-9aed-4aa3-d2d1-1742e63f93d5",
        "colab": {
          "base_uri": "https://localhost:8080/"
        }
      },
      "outputs": [
        {
          "output_type": "stream",
          "name": "stderr",
          "text": [
            "/usr/local/lib/python3.7/dist-packages/sklearn/utils/validation.py:1677: FutureWarning: Feature names only support names that are all strings. Got feature names with dtypes: ['time']. An error will be raised in 1.2.\n",
            "  FutureWarning,\n",
            "/usr/local/lib/python3.7/dist-packages/sklearn/utils/validation.py:1677: FutureWarning: Feature names only support names that are all strings. Got feature names with dtypes: ['time']. An error will be raised in 1.2.\n",
            "  FutureWarning,\n",
            "/usr/local/lib/python3.7/dist-packages/sklearn/utils/validation.py:1677: FutureWarning: Feature names only support names that are all strings. Got feature names with dtypes: ['time']. An error will be raised in 1.2.\n",
            "  FutureWarning,\n"
          ]
        }
      ],
      "source": [
        "datsys.kmeans_clust()"
      ]
    },
    {
      "cell_type": "code",
      "execution_count": null,
      "id": "e7405723",
      "metadata": {
        "id": "e7405723"
      },
      "outputs": [],
      "source": [
        "rousys = rousys('wat_inv')"
      ]
    },
    {
      "cell_type": "code",
      "execution_count": null,
      "id": "6243a8be",
      "metadata": {
        "id": "6243a8be",
        "outputId": "04ff9a98-da19-40b5-bf7e-7e2f189af226",
        "colab": {
          "base_uri": "https://localhost:8080/",
          "height": 371
        }
      },
      "outputs": [
        {
          "output_type": "stream",
          "name": "stderr",
          "text": [
            "/usr/local/lib/python3.7/dist-packages/mplleaflet/mplexporter/exporter.py:263: MatplotlibDeprecationWarning: \n",
            "The get_offset_position function was deprecated in Matplotlib 3.3 and will be removed two minor releases later.\n",
            "  offset_order = offset_dict[collection.get_offset_position()]\n"
          ]
        },
        {
          "output_type": "display_data",
          "data": {
            "image/png": "[encoded data removed]",
            "text/plain": [
              "<Figure size 432x288 with 1 Axes>"
            ]
          },
          "metadata": {}
        }
      ],
      "source": [
        "rousys.min_spn_tre()"
      ]
    },
    {
      "cell_type": "code",
      "execution_count": null,
      "id": "9117f72e",
      "metadata": {
        "id": "9117f72e"
      },
      "outputs": [],
      "source": [
        "inosys = inosys('wat_inv', ref_bus = 260)"
      ]
    },
    {
      "cell_type": "code",
      "execution_count": null,
      "id": "8e327bc3",
      "metadata": {
        "scrolled": false,
        "id": "8e327bc3",
        "colab": {
          "base_uri": "https://localhost:8080/"
        },
        "outputId": "33a815d4-e46f-4687-ba23-9af9d7cc94b9"
      },
      "outputs": [
        {
          "output_type": "stream",
          "name": "stdout",
          "text": [
            "GLPSOL: GLPK LP/MIP Solver, v4.65\n",
            "Parameter(s) specified in the command line:\n",
            " --write /tmp/tmpha9jj71c.glpk.raw --wglp /tmp/tmp75qfre1p.glpk.glp --cpxlp\n",
            " /tmp/tmpl2riy2ew.pyomo.lp\n",
            "Reading problem data from '/tmp/tmpl2riy2ew.pyomo.lp'...\n",
            "59994 rows, 39103 columns, 166473 non-zeros\n",
            "385566 lines were read\n",
            "Writing problem data to '/tmp/tmp75qfre1p.glpk.glp'...\n",
            "326038 lines were written\n",
            "GLPK Simplex Optimizer, v4.65\n",
            "59994 rows, 39103 columns, 166473 non-zeros\n",
            "Preprocessing...\n",
            "10366 rows, 10631 columns, 26443 non-zeros\n",
            "Scaling...\n",
            " A: min|aij| =  6.192e-08  max|aij| =  1.000e+00  ratio =  1.615e+07\n",
            "GM: min|aij| =  5.393e-01  max|aij| =  1.854e+00  ratio =  3.438e+00\n",
            "EQ: min|aij| =  2.917e-01  max|aij| =  1.000e+00  ratio =  3.428e+00\n",
            "Constructing initial basis...\n",
            "Size of triangular part is 10366\n",
            "      0: obj =   4.790735724e+11 inf =   2.517e+06 (2787)\n",
            "  16430: obj =   4.790735724e+11 inf =   3.843e+03 (33) 90\n",
            "  19898: obj =   4.790735724e+11 inf =   4.893e-12 (0) 2\n",
            "OPTIMAL LP SOLUTION FOUND\n",
            "Time used:   7.6 secs\n",
            "Memory used: 52.5 Mb (55096908 bytes)\n",
            "Writing basic solution to '/tmp/tmpha9jj71c.glpk.raw'...\n",
            "99106 lines were written\n"
          ]
        }
      ],
      "source": [
        "inosys.solve(solver = 'glpk')"
      ]
    }
  ],
  "metadata": {
    "kernelspec": {
      "display_name": "Python 3 (ipykernel)",
      "language": "python",
      "name": "python3"
    },
    "language_info": {
      "codemirror_mode": {
        "name": "ipython",
        "version": 3
      },
      "file_extension": ".py",
      "mimetype": "text/x-python",
      "name": "python",
      "nbconvert_exporter": "python",
      "pygments_lexer": "ipython3",
      "version": "3.9.7"
    },
    "colab": {
      "name": "Watoto Village Case Study",
      "provenance": [],
      "collapsed_sections": []
    }
  },
  "nbformat": 4,
  "nbformat_minor": 5
}