{
 "cells": [
  {
   "cell_type": "markdown",
   "id": "1724f50c",
   "metadata": {
    "colab_type": "text",
    "id": "view-in-github"
   },
   "source": [
    "<a href=\"https://colab.research.google.com/github/SPS-L/pyeplan/blob/master/examples/Watoto_Village_Case_Study.ipynb\" target=\"_parent\"><img src=\"https://colab.research.google.com/assets/colab-badge.svg\" alt=\"Open In Colab\"/></a>"
   ]
  },
  {
   "cell_type": "markdown",
   "id": "KHlSgxJYMpdR",
   "metadata": {
    "id": "KHlSgxJYMpdR"
   },
   "source": [
    "# Designing a Sustainable Energy Solution for Watoto Suubi Village Using PyEPLAN\n",
    "\n",
    "PyEPLAN was utilised to design a Microgrid on Watoto Village in Uganda. This village sits on a 194-acre site with four schools ranging from kindergarten to vocational, a clinic, church, playgrounds, and home clusters that house the orphan children. Each home cluster houses nine houses, with a total of 180 homes are available on site.\n",
    "\n",
    "PyEPLAN was utilised to design a sustainable energy solution to meet the different electric power needs of the village.\n"
   ]
  },
  {
   "cell_type": "markdown",
   "id": "N2uPu6-5EDQE",
   "metadata": {
    "id": "N2uPu6-5EDQE"
   },
   "source": [
    "## Preparing the platform to execute the PyEPLAN software"
   ]
  },
  {
   "cell_type": "markdown",
   "id": "2T0zoW5-amHm",
   "metadata": {
    "id": "2T0zoW5-amHm"
   },
   "source": [
    "Importing data files:"
   ]
  },
  {
   "cell_type": "code",
   "execution_count": null,
   "id": "Wrwa_sa7GqBr",
   "metadata": {
    "cellView": "form",
    "id": "Wrwa_sa7GqBr"
   },
   "outputs": [],
   "source": [
    "#@markdown The following commands import the folders containing the technical data specifications of the village.  \n",
    "\n",
    "!rm -r sample_data\n",
    "!rm -r pyeplan"
   ]
  },
  {
   "cell_type": "code",
   "execution_count": null,
   "id": "Jb5JUmNfJXm5",
   "metadata": {
    "cellView": "form",
    "id": "Jb5JUmNfJXm5"
   },
   "outputs": [],
   "source": [
    "#@title \n",
    "\n",
    "!git clone https://github.com/SPS-L/pyeplan.git\n",
    "!cd pyeplan/examples"
   ]
  },
  {
   "cell_type": "markdown",
   "id": "gIRSM-TRcKhU",
   "metadata": {
    "id": "gIRSM-TRcKhU"
   },
   "source": [
    "Installing solver programs:"
   ]
  },
  {
   "cell_type": "code",
   "execution_count": null,
   "id": "fms0qighGrC0",
   "metadata": {
    "cellView": "form",
    "id": "fms0qighGrC0"
   },
   "outputs": [],
   "source": [
    "#@markdown The optimisation solver programs are installed into the platform using these commands.\n",
    "\n",
    "!apt-get install -y -qq glpk-utils                       &> /dev/null\n",
    "!apt-get install -y -qq coinor-cbc                       &> /dev/null\n",
    "!pip install gurobipy                                    &> /dev/null\n",
    "!pip install -q pyomo &> /dev/null\n",
    "!pyomo install-extras &> /dev/null"
   ]
  },
  {
   "cell_type": "markdown",
   "id": "SPgmU_j6cmJ1",
   "metadata": {
    "id": "SPgmU_j6cmJ1"
   },
   "source": [
    "Installing PYEPLAN:"
   ]
  },
  {
   "cell_type": "code",
   "execution_count": null,
   "id": "bWfuFQalHSrf",
   "metadata": {
    "cellView": "form",
    "id": "bWfuFQalHSrf"
   },
   "outputs": [],
   "source": [
    "#@markdown These next commands install PyEPLAN software and import all its modules into the Colab platfrom \n",
    "\n",
    "!pip install -q pyeplan==1.1.3                 &> /dev/null"
   ]
  },
  {
   "cell_type": "code",
   "execution_count": 1,
   "id": "2bd77d09",
   "metadata": {
    "cellView": "form",
    "id": "2bd77d09"
   },
   "outputs": [],
   "source": [
    "#@title \n",
    "\n",
    "import pyeplan as pe"
   ]
  },
  {
   "cell_type": "markdown",
   "id": "P7PcAXwaD30r",
   "metadata": {
    "id": "P7PcAXwaD30r"
   },
   "source": [
    "## Using the PyEPLAN Data Processing Module"
   ]
  },
  {
   "cell_type": "markdown",
   "id": "aA0A678F92TL",
   "metadata": {
    "id": "aA0A678F92TL"
   },
   "source": [
    "#### The PyEPLAN Data Processing Module was used to obtain the PV generation profiles at the village location"
   ]
  },
  {
   "cell_type": "markdown",
   "id": "QYryXCea7HBh",
   "metadata": {
    "id": "QYryXCea7HBh"
   },
   "source": [
    "The Data Processing Module can be used to obtain the photovoltaic (PV) system energy production i.e., PV generation profiles at any location. The user therefore needs to define the GPS coordinates of the location where they need to obtain PV profiles. The Data Processing Module is initialised with inputs including the following :\n",
    "* lat: This input sets the latitude of the location where profiles are required.\n",
    "* lon: This input sets the longtitude of the location where profiles are required.\n",
    "* year: The year for which to obtain profiles is set using this input. \n",
    "* n_clust: This input is used to set the number of representative days i.e., operational scenarios, to be used during during system planning."
   ]
  },
  {
   "cell_type": "code",
   "execution_count": 2,
   "id": "420d6f53",
   "metadata": {
    "cellView": "form",
    "id": "420d6f53"
   },
   "outputs": [
    {
     "name": "stdout",
     "output_type": "stream",
     "text": [
      "Normalized column names: ['time', 'P', 'Gb(i)', 'Gd(i)', 'Gr(i)', 'H_sun', 'T2m', 'WS10m', 'Int']\n"
     ]
    }
   ],
   "source": [
    "#@markdown The following command is used to set the input arguments.\n",
    "\n",
    "datsys = pe.datsys('wat_inv', lat=0.251148605450955, lon=32.404833929733, year=2016, n_clust=2, pp=100)"
   ]
  },
  {
   "cell_type": "code",
   "execution_count": 3,
   "id": "c835a775",
   "metadata": {
    "cellView": "form",
    "id": "c835a775"
   },
   "outputs": [
    {
     "name": "stdout",
     "output_type": "stream",
     "text": [
      "Available columns in PVGIS 5.3 data: ['time', 'P', 'Gb(i)', 'Gd(i)', 'Gr(i)', 'H_sun', 'T2m', 'WS10m', 'Int', 'date', 'hour']\n"
     ]
    },
    {
     "name": "stderr",
     "output_type": "stream",
     "text": [
      "/home/apetros/OneDriveCUT/Code/PyEPlan/pyeplan/dataproc.py:407: SettingWithCopyWarning: \n",
      "A value is trying to be set on a copy of a slice from a DataFrame.\n",
      "Try using .loc[row_indexer,col_indexer] = value instead\n",
      "\n",
      "See the caveats in the documentation: https://pandas.pydata.org/pandas-docs/stable/user_guide/indexing.html#returning-a-view-versus-a-copy\n",
      "  self.data_local_time['G(i)'] = self.data_local_time['Gb(i)'] + self.data_local_time['Gd(i)'] + self.data_local_time['Gr(i)']\n"
     ]
    }
   ],
   "source": [
    "#@markdown The following command extract the PV generation data.\n",
    " \n",
    "\n",
    "datsys.data_extract()"
   ]
  },
  {
   "cell_type": "code",
   "execution_count": 4,
   "id": "f16c6de2",
   "metadata": {
    "cellView": "form",
    "id": "f16c6de2"
   },
   "outputs": [
    {
     "name": "stdout",
     "output_type": "stream",
     "text": [
      "✓ PVGIS 5.3 data processing completed successfully\n",
      "✓ Generated 2 scenarios for optimization\n",
      "✓ All required files created in wat_inv\n"
     ]
    }
   ],
   "source": [
    "#@markdown The following command is used to obtain the operational scenarios required.\n",
    "\n",
    "\n",
    "datsys.kmeans_clust()"
   ]
  },
  {
   "cell_type": "code",
   "execution_count": 5,
   "id": "Wb2D3LC9iJl3",
   "metadata": {
    "cellView": "form",
    "colab": {
     "base_uri": "https://localhost:8080/",
     "height": 417
    },
    "id": "Wb2D3LC9iJl3",
    "outputId": "8867b904-7ba4-47b8-b9cf-4a7520f80d44"
   },
   "outputs": [
    {
     "data": {
      "application/vnd.plotly.v1+json": {
       "config": {
        "plotlyServerURL": "https://plot.ly"
       },
       "data": [
        {
         "hovertemplate": "Scenario=0<br>Time of Day=%{x}<br>Power Generation (kW)=%{y}<extra></extra>",
         "legendgroup": "0",
         "line": {
          "color": "#636efa",
          "dash": "solid"
         },
         "marker": {
          "symbol": "circle"
         },
         "mode": "lines",
         "name": "0",
         "orientation": "v",
         "showlegend": true,
         "type": "scatter",
         "x": {
          "bdata": "AAECAwQFBgcICQoLDA0ODxAREhMUFRYX",
          "dtype": "i1"
         },
         "xaxis": "x",
         "y": {
          "bdata": "AAAAAAAAAAAAAAAAAAAAAAAAAAAAAAAAAAAAAAAAAADdJmY6L3MJQNQ34a9G4S9AvsGmtQUcNkB0tPStsW05QLi/ey7vokFAlrPabN7wQ0ASWDm0yLJEQNV2iW2XnENAP4WB7bHtQkASwe3dqMdCQD7L+bOck0FAePscUWn7M0AAAAAAAAAAAAAAAAAAAAAAAAAAAAAAAAAAAAAAAAAAAAAAAAAAAAAAAAAAAAAAAAAAAAAAAAAAAAAAAAAAAAAA",
          "dtype": "f8"
         },
         "yaxis": "y"
        },
        {
         "hovertemplate": "Scenario=1<br>Time of Day=%{x}<br>Power Generation (kW)=%{y}<extra></extra>",
         "legendgroup": "1",
         "line": {
          "color": "#EF553B",
          "dash": "solid"
         },
         "marker": {
          "symbol": "circle"
         },
         "mode": "lines",
         "name": "1",
         "orientation": "v",
         "showlegend": true,
         "type": "scatter",
         "x": {
          "bdata": "AAECAwQFBgcICQoLDA0ODxAREhMUFRYX",
          "dtype": "i1"
         },
         "xaxis": "x",
         "y": {
          "bdata": "AAAAAAAAAAAAAAAAAAAAAAAAAAAAAAAAAAAAAAAAAABklLYsrQIRQMcBvkOh0UBAIQ+ORmEhTEDmjnNh/YFQQPJegwZfeVFA8H/UUARhUUAcQKe8FUNRQI5A9lBBnVBAsqsXP37xTkDYCRMCBDhMQC5oJKoHiEhApNrefgZZPUAAAAAAAAAAAAAAAAAAAAAAAAAAAAAAAAAAAAAAAAAAAAAAAAAAAAAAAAAAAAAAAAAAAAAAAAAAAAAAAAAAAAAA",
          "dtype": "f8"
         },
         "yaxis": "y"
        }
       ],
       "layout": {
        "font": {
         "color": "#000000",
         "size": 12
        },
        "height": 400,
        "legend": {
         "title": {
          "text": "Scenario"
         },
         "tracegroupgap": 0
        },
        "template": {
         "data": {
          "bar": [
           {
            "error_x": {
             "color": "#2a3f5f"
            },
            "error_y": {
             "color": "#2a3f5f"
            },
            "marker": {
             "line": {
              "color": "#E5ECF6",
              "width": 0.5
             },
             "pattern": {
              "fillmode": "overlay",
              "size": 10,
              "solidity": 0.2
             }
            },
            "type": "bar"
           }
          ],
          "barpolar": [
           {
            "marker": {
             "line": {
              "color": "#E5ECF6",
              "width": 0.5
             },
             "pattern": {
              "fillmode": "overlay",
              "size": 10,
              "solidity": 0.2
             }
            },
            "type": "barpolar"
           }
          ],
          "carpet": [
           {
            "aaxis": {
             "endlinecolor": "#2a3f5f",
             "gridcolor": "white",
             "linecolor": "white",
             "minorgridcolor": "white",
             "startlinecolor": "#2a3f5f"
            },
            "baxis": {
             "endlinecolor": "#2a3f5f",
             "gridcolor": "white",
             "linecolor": "white",
             "minorgridcolor": "white",
             "startlinecolor": "#2a3f5f"
            },
            "type": "carpet"
           }
          ],
          "choropleth": [
           {
            "colorbar": {
             "outlinewidth": 0,
             "ticks": ""
            },
            "type": "choropleth"
           }
          ],
          "contour": [
           {
            "colorbar": {
             "outlinewidth": 0,
             "ticks": ""
            },
            "colorscale": [
             [
              0,
              "#0d0887"
             ],
             [
              0.1111111111111111,
              "#46039f"
             ],
             [
              0.2222222222222222,
              "#7201a8"
             ],
             [
              0.3333333333333333,
              "#9c179e"
             ],
             [
              0.4444444444444444,
              "#bd3786"
             ],
             [
              0.5555555555555556,
              "#d8576b"
             ],
             [
              0.6666666666666666,
              "#ed7953"
             ],
             [
              0.7777777777777778,
              "#fb9f3a"
             ],
             [
              0.8888888888888888,
              "#fdca26"
             ],
             [
              1,
              "#f0f921"
             ]
            ],
            "type": "contour"
           }
          ],
          "contourcarpet": [
           {
            "colorbar": {
             "outlinewidth": 0,
             "ticks": ""
            },
            "type": "contourcarpet"
           }
          ],
          "heatmap": [
           {
            "colorbar": {
             "outlinewidth": 0,
             "ticks": ""
            },
            "colorscale": [
             [
              0,
              "#0d0887"
             ],
             [
              0.1111111111111111,
              "#46039f"
             ],
             [
              0.2222222222222222,
              "#7201a8"
             ],
             [
              0.3333333333333333,
              "#9c179e"
             ],
             [
              0.4444444444444444,
              "#bd3786"
             ],
             [
              0.5555555555555556,
              "#d8576b"
             ],
             [
              0.6666666666666666,
              "#ed7953"
             ],
             [
              0.7777777777777778,
              "#fb9f3a"
             ],
             [
              0.8888888888888888,
              "#fdca26"
             ],
             [
              1,
              "#f0f921"
             ]
            ],
            "type": "heatmap"
           }
          ],
          "histogram": [
           {
            "marker": {
             "pattern": {
              "fillmode": "overlay",
              "size": 10,
              "solidity": 0.2
             }
            },
            "type": "histogram"
           }
          ],
          "histogram2d": [
           {
            "colorbar": {
             "outlinewidth": 0,
             "ticks": ""
            },
            "colorscale": [
             [
              0,
              "#0d0887"
             ],
             [
              0.1111111111111111,
              "#46039f"
             ],
             [
              0.2222222222222222,
              "#7201a8"
             ],
             [
              0.3333333333333333,
              "#9c179e"
             ],
             [
              0.4444444444444444,
              "#bd3786"
             ],
             [
              0.5555555555555556,
              "#d8576b"
             ],
             [
              0.6666666666666666,
              "#ed7953"
             ],
             [
              0.7777777777777778,
              "#fb9f3a"
             ],
             [
              0.8888888888888888,
              "#fdca26"
             ],
             [
              1,
              "#f0f921"
             ]
            ],
            "type": "histogram2d"
           }
          ],
          "histogram2dcontour": [
           {
            "colorbar": {
             "outlinewidth": 0,
             "ticks": ""
            },
            "colorscale": [
             [
              0,
              "#0d0887"
             ],
             [
              0.1111111111111111,
              "#46039f"
             ],
             [
              0.2222222222222222,
              "#7201a8"
             ],
             [
              0.3333333333333333,
              "#9c179e"
             ],
             [
              0.4444444444444444,
              "#bd3786"
             ],
             [
              0.5555555555555556,
              "#d8576b"
             ],
             [
              0.6666666666666666,
              "#ed7953"
             ],
             [
              0.7777777777777778,
              "#fb9f3a"
             ],
             [
              0.8888888888888888,
              "#fdca26"
             ],
             [
              1,
              "#f0f921"
             ]
            ],
            "type": "histogram2dcontour"
           }
          ],
          "mesh3d": [
           {
            "colorbar": {
             "outlinewidth": 0,
             "ticks": ""
            },
            "type": "mesh3d"
           }
          ],
          "parcoords": [
           {
            "line": {
             "colorbar": {
              "outlinewidth": 0,
              "ticks": ""
             }
            },
            "type": "parcoords"
           }
          ],
          "pie": [
           {
            "automargin": true,
            "type": "pie"
           }
          ],
          "scatter": [
           {
            "fillpattern": {
             "fillmode": "overlay",
             "size": 10,
             "solidity": 0.2
            },
            "type": "scatter"
           }
          ],
          "scatter3d": [
           {
            "line": {
             "colorbar": {
              "outlinewidth": 0,
              "ticks": ""
             }
            },
            "marker": {
             "colorbar": {
              "outlinewidth": 0,
              "ticks": ""
             }
            },
            "type": "scatter3d"
           }
          ],
          "scattercarpet": [
           {
            "marker": {
             "colorbar": {
              "outlinewidth": 0,
              "ticks": ""
             }
            },
            "type": "scattercarpet"
           }
          ],
          "scattergeo": [
           {
            "marker": {
             "colorbar": {
              "outlinewidth": 0,
              "ticks": ""
             }
            },
            "type": "scattergeo"
           }
          ],
          "scattergl": [
           {
            "marker": {
             "colorbar": {
              "outlinewidth": 0,
              "ticks": ""
             }
            },
            "type": "scattergl"
           }
          ],
          "scattermap": [
           {
            "marker": {
             "colorbar": {
              "outlinewidth": 0,
              "ticks": ""
             }
            },
            "type": "scattermap"
           }
          ],
          "scattermapbox": [
           {
            "marker": {
             "colorbar": {
              "outlinewidth": 0,
              "ticks": ""
             }
            },
            "type": "scattermapbox"
           }
          ],
          "scatterpolar": [
           {
            "marker": {
             "colorbar": {
              "outlinewidth": 0,
              "ticks": ""
             }
            },
            "type": "scatterpolar"
           }
          ],
          "scatterpolargl": [
           {
            "marker": {
             "colorbar": {
              "outlinewidth": 0,
              "ticks": ""
             }
            },
            "type": "scatterpolargl"
           }
          ],
          "scatterternary": [
           {
            "marker": {
             "colorbar": {
              "outlinewidth": 0,
              "ticks": ""
             }
            },
            "type": "scatterternary"
           }
          ],
          "surface": [
           {
            "colorbar": {
             "outlinewidth": 0,
             "ticks": ""
            },
            "colorscale": [
             [
              0,
              "#0d0887"
             ],
             [
              0.1111111111111111,
              "#46039f"
             ],
             [
              0.2222222222222222,
              "#7201a8"
             ],
             [
              0.3333333333333333,
              "#9c179e"
             ],
             [
              0.4444444444444444,
              "#bd3786"
             ],
             [
              0.5555555555555556,
              "#d8576b"
             ],
             [
              0.6666666666666666,
              "#ed7953"
             ],
             [
              0.7777777777777778,
              "#fb9f3a"
             ],
             [
              0.8888888888888888,
              "#fdca26"
             ],
             [
              1,
              "#f0f921"
             ]
            ],
            "type": "surface"
           }
          ],
          "table": [
           {
            "cells": {
             "fill": {
              "color": "#EBF0F8"
             },
             "line": {
              "color": "white"
             }
            },
            "header": {
             "fill": {
              "color": "#C8D4E3"
             },
             "line": {
              "color": "white"
             }
            },
            "type": "table"
           }
          ]
         },
         "layout": {
          "annotationdefaults": {
           "arrowcolor": "#2a3f5f",
           "arrowhead": 0,
           "arrowwidth": 1
          },
          "autotypenumbers": "strict",
          "coloraxis": {
           "colorbar": {
            "outlinewidth": 0,
            "ticks": ""
           }
          },
          "colorscale": {
           "diverging": [
            [
             0,
             "#8e0152"
            ],
            [
             0.1,
             "#c51b7d"
            ],
            [
             0.2,
             "#de77ae"
            ],
            [
             0.3,
             "#f1b6da"
            ],
            [
             0.4,
             "#fde0ef"
            ],
            [
             0.5,
             "#f7f7f7"
            ],
            [
             0.6,
             "#e6f5d0"
            ],
            [
             0.7,
             "#b8e186"
            ],
            [
             0.8,
             "#7fbc41"
            ],
            [
             0.9,
             "#4d9221"
            ],
            [
             1,
             "#276419"
            ]
           ],
           "sequential": [
            [
             0,
             "#0d0887"
            ],
            [
             0.1111111111111111,
             "#46039f"
            ],
            [
             0.2222222222222222,
             "#7201a8"
            ],
            [
             0.3333333333333333,
             "#9c179e"
            ],
            [
             0.4444444444444444,
             "#bd3786"
            ],
            [
             0.5555555555555556,
             "#d8576b"
            ],
            [
             0.6666666666666666,
             "#ed7953"
            ],
            [
             0.7777777777777778,
             "#fb9f3a"
            ],
            [
             0.8888888888888888,
             "#fdca26"
            ],
            [
             1,
             "#f0f921"
            ]
           ],
           "sequentialminus": [
            [
             0,
             "#0d0887"
            ],
            [
             0.1111111111111111,
             "#46039f"
            ],
            [
             0.2222222222222222,
             "#7201a8"
            ],
            [
             0.3333333333333333,
             "#9c179e"
            ],
            [
             0.4444444444444444,
             "#bd3786"
            ],
            [
             0.5555555555555556,
             "#d8576b"
            ],
            [
             0.6666666666666666,
             "#ed7953"
            ],
            [
             0.7777777777777778,
             "#fb9f3a"
            ],
            [
             0.8888888888888888,
             "#fdca26"
            ],
            [
             1,
             "#f0f921"
            ]
           ]
          },
          "colorway": [
           "#636efa",
           "#EF553B",
           "#00cc96",
           "#ab63fa",
           "#FFA15A",
           "#19d3f3",
           "#FF6692",
           "#B6E880",
           "#FF97FF",
           "#FECB52"
          ],
          "font": {
           "color": "#2a3f5f"
          },
          "geo": {
           "bgcolor": "white",
           "lakecolor": "white",
           "landcolor": "#E5ECF6",
           "showlakes": true,
           "showland": true,
           "subunitcolor": "white"
          },
          "hoverlabel": {
           "align": "left"
          },
          "hovermode": "closest",
          "mapbox": {
           "style": "light"
          },
          "paper_bgcolor": "white",
          "plot_bgcolor": "#E5ECF6",
          "polar": {
           "angularaxis": {
            "gridcolor": "white",
            "linecolor": "white",
            "ticks": ""
           },
           "bgcolor": "#E5ECF6",
           "radialaxis": {
            "gridcolor": "white",
            "linecolor": "white",
            "ticks": ""
           }
          },
          "scene": {
           "xaxis": {
            "backgroundcolor": "#E5ECF6",
            "gridcolor": "white",
            "gridwidth": 2,
            "linecolor": "white",
            "showbackground": true,
            "ticks": "",
            "zerolinecolor": "white"
           },
           "yaxis": {
            "backgroundcolor": "#E5ECF6",
            "gridcolor": "white",
            "gridwidth": 2,
            "linecolor": "white",
            "showbackground": true,
            "ticks": "",
            "zerolinecolor": "white"
           },
           "zaxis": {
            "backgroundcolor": "#E5ECF6",
            "gridcolor": "white",
            "gridwidth": 2,
            "linecolor": "white",
            "showbackground": true,
            "ticks": "",
            "zerolinecolor": "white"
           }
          },
          "shapedefaults": {
           "line": {
            "color": "#2a3f5f"
           }
          },
          "ternary": {
           "aaxis": {
            "gridcolor": "white",
            "linecolor": "white",
            "ticks": ""
           },
           "baxis": {
            "gridcolor": "white",
            "linecolor": "white",
            "ticks": ""
           },
           "bgcolor": "#E5ECF6",
           "caxis": {
            "gridcolor": "white",
            "linecolor": "white",
            "ticks": ""
           }
          },
          "title": {
           "x": 0.05
          },
          "xaxis": {
           "automargin": true,
           "gridcolor": "white",
           "linecolor": "white",
           "ticks": "",
           "title": {
            "standoff": 15
           },
           "zerolinecolor": "white",
           "zerolinewidth": 2
          },
          "yaxis": {
           "automargin": true,
           "gridcolor": "white",
           "linecolor": "white",
           "ticks": "",
           "title": {
            "standoff": 15
           },
           "zerolinecolor": "white",
           "zerolinewidth": 2
          }
         }
        },
        "title": {
         "text": "Representatative Daily Solar Power Generation for Different Scenarios",
         "x": 0.5
        },
        "width": 600,
        "xaxis": {
         "anchor": "y",
         "domain": [
          0,
          1
         ],
         "title": {
          "text": "Time of Day"
         }
        },
        "yaxis": {
         "anchor": "x",
         "domain": [
          0,
          1
         ],
         "title": {
          "text": "Power Generation (kW)"
         }
        }
       }
      }
     },
     "metadata": {},
     "output_type": "display_data"
    }
   ],
   "source": [
    "#@title \n",
    "import pandas as pd\n",
    "import matplotlib.pyplot as plt\n",
    "import plotly.express as px\n",
    "\n",
    "df=pd.read_csv(\"wat_inv/psol_dist.csv\")\n",
    "fig = px.line(df, title='Representatative Daily Solar Power Generation for Different Scenarios', labels={\n",
    "                     \"value\": \"Power Generation (kW)\",\n",
    "                     \"index\": \"Time of Day\",\n",
    "                     \"variable\": \"Scenario\"\n",
    "                 },width=600, height=400,)\n",
    "\n",
    "fig.update_layout(title_x=0.5, font=dict(\n",
    "            size=12,\n",
    "            color='#000000'\n",
    "        ))\n",
    "fig.show()\n"
   ]
  },
  {
   "cell_type": "markdown",
   "id": "8AbYryKKE77J",
   "metadata": {
    "id": "8AbYryKKE77J"
   },
   "source": [
    "## Using the PyEPLAN Feeder Routing Module"
   ]
  },
  {
   "cell_type": "markdown",
   "id": "hf2CKYlaYFUb",
   "metadata": {
    "id": "hf2CKYlaYFUb"
   },
   "source": [
    "#### This module was used in designing the distribution network layout for the village."
   ]
  },
  {
   "cell_type": "markdown",
   "id": "VUFrklWbGmka",
   "metadata": {
    "id": "VUFrklWbGmka"
   },
   "source": [
    "The module requires the files with technical specifications of the system to perform the feeder routing. It takes in files containing the geographical location of load points and characteristic of different cables to undertake this task. See details of input files [here](https://pyeplan.sps-lab.org/user_guide/input.html#csv-file-name-geol-dist-rarr-geographical-location-of-load-points-for-feeder-routing).\n",
    "\n",
    "The input arguments for the module include:\n",
    "\n",
    "* Name of folder with the csv files containing technical parameters.\n",
    "* crs: Cross section of cables \\[mm]\n",
    "* typ: Type of cables"
   ]
  },
  {
   "cell_type": "code",
   "execution_count": 6,
   "id": "e7405723",
   "metadata": {
    "cellView": "form",
    "id": "e7405723"
   },
   "outputs": [],
   "source": [
    "#@markdown The following commands set the input arguments and perform the feeder routing.\n",
    " \n",
    "rousys = pe.rousys('wat_inv')"
   ]
  },
  {
   "cell_type": "code",
   "execution_count": 7,
   "id": "6243a8be",
   "metadata": {
    "cellView": "form",
    "colab": {
     "base_uri": "https://localhost:8080/",
     "height": 408
    },
    "id": "6243a8be",
    "outputId": "7fbe02b7-ba38-4de0-8325-148d35388a85"
   },
   "outputs": [
    {
     "data": {
      "image/png": "[encoded data removed]",
      "text/plain": [
       "<Figure size 640x480 with 1 Axes>"
      ]
     },
     "metadata": {},
     "output_type": "display_data"
    },
    {
     "data": {
      "image/png": "[encoded data removed]",
      "text/plain": [
       "<Figure size 640x480 with 1 Axes>"
      ]
     },
     "metadata": {},
     "output_type": "display_data"
    }
   ],
   "source": [
    "#@title \n",
    "\n",
    "rousys.min_spn_tre()"
   ]
  },
  {
   "cell_type": "markdown",
   "id": "blrZ9YXvLI-v",
   "metadata": {
    "id": "blrZ9YXvLI-v"
   },
   "source": [
    "## Using the PyEPLAN Investment and Operational Planning Module"
   ]
  },
  {
   "cell_type": "markdown",
   "id": "dkwsbJjDY1Sw",
   "metadata": {
    "id": "dkwsbJjDY1Sw"
   },
   "source": [
    "#### This module is used to determine the design an optimal energy generation solution for the village. \n",
    "\n",
    "PyEPLAN solves the investment and operation planning problems simultaneously. \n",
    "\n",
    "The planning problem will be solved based on the input arguments set by the user. Some of the planning options that need to be set by the user include the following:\n",
    "\n",
    "* If the user has pre-defined sizes of the investment candidates the input '**invest = True**' i.e., unit capacity = maximum capacity. Otherwise, if the user has no knowledge of the size of the candidates, these can be optimally derived by the software by setting '**invest = False**' where the unit capacity <= maximum capacity.\n",
    "\n",
    "* The user can set solver program by defining the input to the '**solver**'. Options include both open source solvers include glpk, cbc, and commercial solvers ipopt, gurobi given one has the required licences. \n",
    "\n",
    "* If the user desires only to solve an operation planning problem, this can be ensured by setting input 'onlyopr = True'."
   ]
  },
  {
   "cell_type": "code",
   "execution_count": 8,
   "id": "9117f72e",
   "metadata": {
    "cellView": "form",
    "id": "9117f72e"
   },
   "outputs": [],
   "source": [
    "#@markdown The commands below is set the input arguments to required by the module and solve the microgrid planning problem.\n",
    "\n",
    "inosys = pe.inosys('wat_inv', ref_bus = 260)"
   ]
  },
  {
   "cell_type": "code",
   "execution_count": 9,
   "id": "8e327bc3",
   "metadata": {
    "cellView": "form",
    "id": "8e327bc3"
   },
   "outputs": [],
   "source": [
    "#@title \n",
    "\n",
    "inosys.solve(solver = 'cbc', onlyopr = False, invest = True)"
   ]
  },
  {
   "cell_type": "markdown",
   "id": "afb8213e",
   "metadata": {
    "id": "afb8213e"
   },
   "source": [
    "### Watoto Village Optimal Design Solution"
   ]
  },
  {
   "cell_type": "markdown",
   "id": "yHXwGrorN2YB",
   "metadata": {
    "id": "yHXwGrorN2YB"
   },
   "source": [
    "#### Total Investment and Operational Costs"
   ]
  },
  {
   "cell_type": "code",
   "execution_count": 10,
   "id": "BsP5aNqD-Ulj",
   "metadata": {
    "cellView": "form",
    "colab": {
     "base_uri": "https://localhost:8080/",
     "height": 112
    },
    "id": "BsP5aNqD-Ulj",
    "outputId": "c9f24b40-4460-4690-db02-6dbb27f809c0"
   },
   "outputs": [
    {
     "data": {
      "text/html": [
       "<div>\n",
       "<style scoped>\n",
       "    .dataframe tbody tr th:only-of-type {\n",
       "        vertical-align: middle;\n",
       "    }\n",
       "\n",
       "    .dataframe tbody tr th {\n",
       "        vertical-align: top;\n",
       "    }\n",
       "\n",
       "    .dataframe thead th {\n",
       "        text-align: right;\n",
       "    }\n",
       "</style>\n",
       "<table border=\"1\" class=\"dataframe\">\n",
       "  <thead>\n",
       "    <tr style=\"text-align: right;\">\n",
       "      <th></th>\n",
       "      <th>total costs</th>\n",
       "      <th>86983.442</th>\n",
       "    </tr>\n",
       "  </thead>\n",
       "  <tbody>\n",
       "    <tr>\n",
       "      <th>0</th>\n",
       "      <td>total investment costs</td>\n",
       "      <td>57076.685</td>\n",
       "    </tr>\n",
       "    <tr>\n",
       "      <th>1</th>\n",
       "      <td>total operation costs</td>\n",
       "      <td>29906.757</td>\n",
       "    </tr>\n",
       "  </tbody>\n",
       "</table>\n",
       "</div>"
      ],
      "text/plain": [
       "              total costs  86983.442\n",
       "0  total investment costs  57076.685\n",
       "1   total operation costs  29906.757"
      ]
     },
     "execution_count": 10,
     "metadata": {},
     "output_type": "execute_result"
    }
   ],
   "source": [
    "#@title \n",
    "\n",
    "inosys.resCost()"
   ]
  },
  {
   "cell_type": "markdown",
   "id": "_P6oV8G6-hkq",
   "metadata": {
    "id": "_P6oV8G6-hkq"
   },
   "source": [
    "#### Number and capacity of battery units installed"
   ]
  },
  {
   "cell_type": "code",
   "execution_count": 11,
   "id": "-q0ZMLCF-kwe",
   "metadata": {
    "cellView": "form",
    "colab": {
     "base_uri": "https://localhost:8080/",
     "height": 237
    },
    "id": "-q0ZMLCF-kwe",
    "outputId": "5dbc796e-ecd4-4e53-bf98-b950549951ea"
   },
   "outputs": [
    {
     "data": {
      "text/html": [
       "<div>\n",
       "<style scoped>\n",
       "    .dataframe tbody tr th:only-of-type {\n",
       "        vertical-align: middle;\n",
       "    }\n",
       "\n",
       "    .dataframe tbody tr th {\n",
       "        vertical-align: top;\n",
       "    }\n",
       "\n",
       "    .dataframe thead th {\n",
       "        text-align: right;\n",
       "    }\n",
       "</style>\n",
       "<table border=\"1\" class=\"dataframe\">\n",
       "  <thead>\n",
       "    <tr style=\"text-align: right;\">\n",
       "      <th></th>\n",
       "      <th>Installed Capacity (kW)</th>\n",
       "      <th>Bus</th>\n",
       "    </tr>\n",
       "    <tr>\n",
       "      <th>Unit</th>\n",
       "      <th></th>\n",
       "      <th></th>\n",
       "    </tr>\n",
       "  </thead>\n",
       "  <tbody>\n",
       "    <tr>\n",
       "      <th>1</th>\n",
       "      <td>50.0</td>\n",
       "      <td>260</td>\n",
       "    </tr>\n",
       "    <tr>\n",
       "      <th>2</th>\n",
       "      <td>50.0</td>\n",
       "      <td>260</td>\n",
       "    </tr>\n",
       "    <tr>\n",
       "      <th>3</th>\n",
       "      <td>0.0</td>\n",
       "      <td>260</td>\n",
       "    </tr>\n",
       "    <tr>\n",
       "      <th>4</th>\n",
       "      <td>0.0</td>\n",
       "      <td>260</td>\n",
       "    </tr>\n",
       "    <tr>\n",
       "      <th>5</th>\n",
       "      <td>0.0</td>\n",
       "      <td>260</td>\n",
       "    </tr>\n",
       "  </tbody>\n",
       "</table>\n",
       "</div>"
      ],
      "text/plain": [
       "      Installed Capacity (kW)  Bus\n",
       "Unit                              \n",
       "1                        50.0  260\n",
       "2                        50.0  260\n",
       "3                         0.0  260\n",
       "4                         0.0  260\n",
       "5                         0.0  260"
      ]
     },
     "execution_count": 11,
     "metadata": {},
     "output_type": "execute_result"
    }
   ],
   "source": [
    "#@title \n",
    "inosys.resBat()"
   ]
  },
  {
   "cell_type": "markdown",
   "id": "3b0165c6",
   "metadata": {
    "id": "3b0165c6"
   },
   "source": [
    "#### Number and capacity of solar units installed"
   ]
  },
  {
   "cell_type": "code",
   "execution_count": 12,
   "id": "q3-cHgBnOSri",
   "metadata": {
    "cellView": "form",
    "colab": {
     "base_uri": "https://localhost:8080/",
     "height": 237
    },
    "id": "q3-cHgBnOSri",
    "outputId": "8f0e5754-0aa2-4e50-ee7a-90438bb6e55d"
   },
   "outputs": [
    {
     "data": {
      "text/html": [
       "<div>\n",
       "<style scoped>\n",
       "    .dataframe tbody tr th:only-of-type {\n",
       "        vertical-align: middle;\n",
       "    }\n",
       "\n",
       "    .dataframe tbody tr th {\n",
       "        vertical-align: top;\n",
       "    }\n",
       "\n",
       "    .dataframe thead th {\n",
       "        text-align: right;\n",
       "    }\n",
       "</style>\n",
       "<table border=\"1\" class=\"dataframe\">\n",
       "  <thead>\n",
       "    <tr style=\"text-align: right;\">\n",
       "      <th></th>\n",
       "      <th>Installed Capacity (kW)</th>\n",
       "      <th>Bus</th>\n",
       "    </tr>\n",
       "    <tr>\n",
       "      <th>Unit</th>\n",
       "      <th></th>\n",
       "      <th></th>\n",
       "    </tr>\n",
       "  </thead>\n",
       "  <tbody>\n",
       "    <tr>\n",
       "      <th>1</th>\n",
       "      <td>100.0</td>\n",
       "      <td>260</td>\n",
       "    </tr>\n",
       "    <tr>\n",
       "      <th>2</th>\n",
       "      <td>0.0</td>\n",
       "      <td>260</td>\n",
       "    </tr>\n",
       "    <tr>\n",
       "      <th>3</th>\n",
       "      <td>100.0</td>\n",
       "      <td>260</td>\n",
       "    </tr>\n",
       "    <tr>\n",
       "      <th>4</th>\n",
       "      <td>0.0</td>\n",
       "      <td>260</td>\n",
       "    </tr>\n",
       "    <tr>\n",
       "      <th>5</th>\n",
       "      <td>0.0</td>\n",
       "      <td>260</td>\n",
       "    </tr>\n",
       "  </tbody>\n",
       "</table>\n",
       "</div>"
      ],
      "text/plain": [
       "      Installed Capacity (kW)  Bus\n",
       "Unit                              \n",
       "1                       100.0  260\n",
       "2                         0.0  260\n",
       "3                       100.0  260\n",
       "4                         0.0  260\n",
       "5                         0.0  260"
      ]
     },
     "execution_count": 12,
     "metadata": {},
     "output_type": "execute_result"
    }
   ],
   "source": [
    "#@title \n",
    "\n",
    "inosys.resSolar()"
   ]
  },
  {
   "cell_type": "markdown",
   "id": "e57251ca",
   "metadata": {
    "id": "e57251ca"
   },
   "source": [
    "#### Number and capacity of diesel units installed"
   ]
  },
  {
   "cell_type": "code",
   "execution_count": 13,
   "id": "aq7H0GJxOUQc",
   "metadata": {
    "cellView": "form",
    "colab": {
     "base_uri": "https://localhost:8080/",
     "height": 143
    },
    "id": "aq7H0GJxOUQc",
    "outputId": "ae464bfd-b199-44c3-cc00-ec02a93efc3a"
   },
   "outputs": [
    {
     "data": {
      "text/html": [
       "<div>\n",
       "<style scoped>\n",
       "    .dataframe tbody tr th:only-of-type {\n",
       "        vertical-align: middle;\n",
       "    }\n",
       "\n",
       "    .dataframe tbody tr th {\n",
       "        vertical-align: top;\n",
       "    }\n",
       "\n",
       "    .dataframe thead th {\n",
       "        text-align: right;\n",
       "    }\n",
       "</style>\n",
       "<table border=\"1\" class=\"dataframe\">\n",
       "  <thead>\n",
       "    <tr style=\"text-align: right;\">\n",
       "      <th></th>\n",
       "      <th>Installed Capacity (kW)</th>\n",
       "      <th>Bus</th>\n",
       "    </tr>\n",
       "    <tr>\n",
       "      <th>Unit</th>\n",
       "      <th></th>\n",
       "      <th></th>\n",
       "    </tr>\n",
       "  </thead>\n",
       "  <tbody>\n",
       "    <tr>\n",
       "      <th>1</th>\n",
       "      <td>50.0</td>\n",
       "      <td>260</td>\n",
       "    </tr>\n",
       "    <tr>\n",
       "      <th>2</th>\n",
       "      <td>0.0</td>\n",
       "      <td>260</td>\n",
       "    </tr>\n",
       "  </tbody>\n",
       "</table>\n",
       "</div>"
      ],
      "text/plain": [
       "      Installed Capacity (kW)  Bus\n",
       "Unit                              \n",
       "1                        50.0  260\n",
       "2                         0.0  260"
      ]
     },
     "execution_count": 13,
     "metadata": {},
     "output_type": "execute_result"
    }
   ],
   "source": [
    "#@title \n",
    "\n",
    "inosys.resConv()"
   ]
  }
 ],
 "metadata": {
  "colab": {
   "collapsed_sections": [],
   "include_colab_link": true,
   "name": "Watoto_Village_Case_Study.ipynb",
   "provenance": [],
   "toc_visible": true
  },
  "gpuClass": "standard",
  "kernelspec": {
   "display_name": "Python 3 (ipykernel)",
   "language": "python",
   "name": "python3"
  },
  "language_info": {
   "codemirror_mode": {
    "name": "ipython",
    "version": 3
   },
   "file_extension": ".py",
   "mimetype": "text/x-python",
   "name": "python",
   "nbconvert_exporter": "python",
   "pygments_lexer": "ipython3",
   "version": "3.9.23"
  }
 },
 "nbformat": 4,
 "nbformat_minor": 5
}
